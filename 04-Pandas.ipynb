{
 "cells": [
  {
   "attachments": {},
   "cell_type": "markdown",
   "metadata": {},
   "source": [
    "### Pandas y Análisis Exploratorio de Datos\n",
    "\n",
    "#### Importación de paquetes"
   ]
  },
  {
   "cell_type": "code",
   "execution_count": 6,
   "metadata": {},
   "outputs": [],
   "source": [
    "#Importación del paquete (debe ser instalado previamente)\n",
    "import pandas as pd"
   ]
  },
  {
   "attachments": {},
   "cell_type": "markdown",
   "metadata": {},
   "source": [
    "#### Series de Pandas\n",
    "\n",
    "Las Series son parecidas a las listas en que son secuencias ordenadas de 1 dimensión que pueden contener diferentes tipos de valores."
   ]
  },
  {
   "cell_type": "code",
   "execution_count": 2,
   "metadata": {},
   "outputs": [
    {
     "name": "stdout",
     "output_type": "stream",
     "text": [
      "0    4\n",
      "1    5\n",
      "2    6\n",
      "3    7\n",
      "4    8\n",
      "dtype: int64\n"
     ]
    }
   ],
   "source": [
    "serie = pd.Series([4, 5, 6, 7, 8])\n",
    "print(serie)"
   ]
  },
  {
   "attachments": {},
   "cell_type": "markdown",
   "metadata": {},
   "source": [
    "En Python, de las estructuras que conocemos, las listas y ahora las Series tienen 1 una sola dimensión. Eso significa que sólo puedes avanzar hacia adelante y hacia atrás.\n",
    "\n",
    "Primero, para crear una Serie usamos el comando pd.Series. Aquí lo que estamos haciendo es llamar la librería de pandas y luego accediendo a uno de los objetos que ofrece la librería. Para acceder a objetos siempre escribimos el nombre de la librería o módulo (pd), seguido de un punto (pd.), seguido del nombre del objeto (pd.Series).\n",
    "\n",
    "Ahora, para crear uno de estos objetos y poderlo utilizar, necesitamos \"llamarlo\". Esto se hace agregando paréntesis, como cuando llamamos funciones (pd.Series()). A esta creación le llamamos \"instanciar un objeto\".\n",
    "\n",
    "A partir de ahora voy a llamar \"instanciar\" al proceso de creación de un objeto y voy a llamar \"instancia\" al objeto que ya está creado.\n",
    "\n",
    "Por último, tenemos que pasarle algún dato a nuestra Serie para que pueda ser instanciada. El objeto Serie puede recibir una lista de Python para convertirla en una Serie de pandas. Así que le pasamos una lista.\n",
    "\n",
    "Al correr la celda, podemos ver en el output cómo se ve la Serie que acabamos de crear:\n",
    "\n",
    "¿Por qué hay dos columnas de números? ¿Y qué es eso de dtype: int64?\n",
    "\n",
    "##### **índices**\n",
    "\n",
    "La columna de la derecha es la lista que le pasamos, ¿recuerdas? Es lo mismo sólo que aquí está representada verticalmente. Sigue teniendo una sola dimensión, no te preocupes.\n",
    "\n",
    "La columna de la izquierda es el índice de nuestra Serie. Esto es algo nuevo que las listas de Python no tienen. En una Serie, cada elemento de la Serie tiene un índice asociado. Esto es similar a los diccionarios donde cada valor tiene una llave asociada.\n",
    "\n",
    "Entonces, podríamos pensar una Serie como una especie de mezcla entre listas y diccionarios. Se parece a las listas en cuanto a que es una secuencia de elementos ordenados en una sola dimensión. Se parece a los diccionarios en que cada elemento tiene un índice asociado. Si accedemos a uno de los índices en nuestra Serie, obtendremos el elemento que está asociado a ese índice:\n"
   ]
  },
  {
   "cell_type": "code",
   "execution_count": 12,
   "metadata": {},
   "outputs": [
    {
     "name": "stdout",
     "output_type": "stream",
     "text": [
      "6\n"
     ]
    }
   ],
   "source": [
    "#imprimiendo el valor asociado al índice 3\n",
    "print(serie[2])"
   ]
  },
  {
   "attachments": {},
   "cell_type": "markdown",
   "metadata": {},
   "source": [
    "A diferencia de las listas, a las series es posible definirles índices en particular (números o cadenas):"
   ]
  },
  {
   "cell_type": "code",
   "execution_count": 16,
   "metadata": {},
   "outputs": [
    {
     "name": "stdout",
     "output_type": "stream",
     "text": [
      "4\n",
      "a    1\n",
      "b    2\n",
      "c    3\n",
      "d    4\n",
      "e    5\n",
      "f    6\n",
      "g    7\n",
      "h    8\n",
      "i    9\n",
      "dtype: int64\n",
      "3\n"
     ]
    }
   ],
   "source": [
    "serie = pd.Series([1, 2, 3, 4, 5, 6, 7, 8, 9], index = [11, 12, 13, 14, 15, 16, 17, 18, 19])\n",
    "print(serie[14])\n",
    "\n",
    "serie = pd.Series([1, 2, 3, 4, 5, 6, 7, 8, 9], index = ['a', 'b', 'c', 'd', 'e', 'f', 'g', 'h', 'i'])\n",
    "print(serie)\n",
    "print(serie['c'])"
   ]
  },
  {
   "attachments": {},
   "cell_type": "markdown",
   "metadata": {},
   "source": [
    "También es posible acceder a varios índices al mismo tiempo:"
   ]
  },
  {
   "cell_type": "code",
   "execution_count": 17,
   "metadata": {},
   "outputs": [
    {
     "name": "stdout",
     "output_type": "stream",
     "text": [
      "c    3\n",
      "e    5\n",
      "g    7\n",
      "dtype: int64\n"
     ]
    }
   ],
   "source": [
    "print(serie[['c', 'e', 'g']])"
   ]
  },
  {
   "cell_type": "code",
   "execution_count": 19,
   "metadata": {},
   "outputs": [
    {
     "name": "stdout",
     "output_type": "stream",
     "text": [
      "a     1\n",
      "b    18\n",
      "c     3\n",
      "d     4\n",
      "e     5\n",
      "f     6\n",
      "g     7\n",
      "h     8\n",
      "i     9\n",
      "dtype: int64\n",
      "18\n"
     ]
    }
   ],
   "source": [
    "serie['b'] = 18\n",
    "print(serie)"
   ]
  },
  {
   "attachments": {},
   "cell_type": "markdown",
   "metadata": {},
   "source": [
    "Acceder a los valores a partir de un índice determinado usando los ':'"
   ]
  },
  {
   "cell_type": "code",
   "execution_count": 22,
   "metadata": {},
   "outputs": [
    {
     "name": "stdout",
     "output_type": "stream",
     "text": [
      "c    3\n",
      "d    4\n",
      "e    5\n",
      "f    6\n",
      "g    7\n",
      "h    8\n",
      "i    9\n",
      "dtype: int64\n",
      "a     1\n",
      "b    18\n",
      "c     3\n",
      "d     4\n",
      "e     5\n",
      "f     6\n",
      "dtype: int64\n",
      "d    4\n",
      "e    5\n",
      "f    6\n",
      "g    7\n",
      "h    8\n",
      "dtype: int64\n"
     ]
    }
   ],
   "source": [
    "#Se imprime a partir del índice c en adelante\n",
    "print(serie['c':])\n",
    "\n",
    "#Se imprime desde el inicio hasta el índice f\n",
    "print(serie[:'f'])\n",
    "\n",
    "#Se imprime desde el índice d hasta el h\n",
    "print(serie['d':'h'])"
   ]
  },
  {
   "attachments": {},
   "cell_type": "markdown",
   "metadata": {},
   "source": [
    "##### Tipos de datos en Pandas\n",
    "\n",
    "Pandas tiene tres tipos de datos particulares: int64, float64 y object:"
   ]
  },
  {
   "cell_type": "code",
   "execution_count": 23,
   "metadata": {},
   "outputs": [],
   "source": [
    "serie_int = pd.Series([3, 4, 5, 6])\n",
    "serie_float = pd.Series([2.5, 6.7, 8.3, 7.1])\n",
    "serie_object = pd.Series(['uno', 'dos', 'tres', 'cuatro'])\n",
    "serie_object2 = pd.Series(['hola', 3, 6.9, True])"
   ]
  },
  {
   "cell_type": "code",
   "execution_count": 28,
   "metadata": {},
   "outputs": [
    {
     "name": "stdout",
     "output_type": "stream",
     "text": [
      "int64\n",
      "float64\n",
      "object\n",
      "object\n"
     ]
    }
   ],
   "source": [
    "print(serie_int.dtype)\n",
    "print(serie_float.dtype)\n",
    "print(serie_object.dtype)\n",
    "print(serie_object2.dtype)"
   ]
  },
  {
   "attachments": {},
   "cell_type": "markdown",
   "metadata": {},
   "source": [
    "#### Dataframes\n",
    "\n",
    "A diferencia de las Series, que son estructuras de 1 dimensión. Los DataFrames son estructuras bidimensionales. Esto quiere decir que podemos \"recorrerlas\" en dos direcciones. Una referencia muy sencilla para entender cómo están estructurados los DataFrames son las tablas de MySQL o de Excel. Una tabla es una estructura bidimensional organizada en filas y columnas. Pues bueno, eso es exactamente cómo están organizados los DataFrames: como tablas.\n",
    "\n",
    "Cada una de las columnas en un DataFrame es en realidad una Serie. Así que podemos pensar a un DataFrame como un diccionario de Series que comparten el mismo índice. Mira cómo fue que creamos este DataFrame:"
   ]
  },
  {
   "cell_type": "code",
   "execution_count": 34,
   "metadata": {},
   "outputs": [
    {
     "data": {
      "text/html": [
       "<div>\n",
       "<style scoped>\n",
       "    .dataframe tbody tr th:only-of-type {\n",
       "        vertical-align: middle;\n",
       "    }\n",
       "\n",
       "    .dataframe tbody tr th {\n",
       "        vertical-align: top;\n",
       "    }\n",
       "\n",
       "    .dataframe thead th {\n",
       "        text-align: right;\n",
       "    }\n",
       "</style>\n",
       "<table border=\"1\" class=\"dataframe\">\n",
       "  <thead>\n",
       "    <tr style=\"text-align: right;\">\n",
       "      <th></th>\n",
       "      <th>Nombre</th>\n",
       "      <th>Edad</th>\n",
       "      <th>Tiene mascota</th>\n",
       "      <th>Color</th>\n",
       "    </tr>\n",
       "  </thead>\n",
       "  <tbody>\n",
       "    <tr>\n",
       "      <th>a</th>\n",
       "      <td>Juan</td>\n",
       "      <td>8</td>\n",
       "      <td>True</td>\n",
       "      <td>verde</td>\n",
       "    </tr>\n",
       "    <tr>\n",
       "      <th>b</th>\n",
       "      <td>Nora</td>\n",
       "      <td>6</td>\n",
       "      <td>False</td>\n",
       "      <td>rojo</td>\n",
       "    </tr>\n",
       "    <tr>\n",
       "      <th>c</th>\n",
       "      <td>Miguel</td>\n",
       "      <td>12</td>\n",
       "      <td>False</td>\n",
       "      <td>azul</td>\n",
       "    </tr>\n",
       "    <tr>\n",
       "      <th>d</th>\n",
       "      <td>Laura</td>\n",
       "      <td>14</td>\n",
       "      <td>True</td>\n",
       "      <td>rosa</td>\n",
       "    </tr>\n",
       "    <tr>\n",
       "      <th>e</th>\n",
       "      <td>Pedro</td>\n",
       "      <td>7</td>\n",
       "      <td>False</td>\n",
       "      <td>amarillo</td>\n",
       "    </tr>\n",
       "  </tbody>\n",
       "</table>\n",
       "</div>"
      ],
      "text/plain": [
       "   Nombre  Edad  Tiene mascota     Color\n",
       "a    Juan     8           True     verde\n",
       "b    Nora     6          False      rojo\n",
       "c  Miguel    12          False      azul\n",
       "d   Laura    14           True      rosa\n",
       "e   Pedro     7          False  amarillo"
      ]
     },
     "execution_count": 34,
     "metadata": {},
     "output_type": "execute_result"
    }
   ],
   "source": [
    "data = {\n",
    "    \"Nombre\": [\"Juan\", \"Nora\", \"Miguel\", \"Laura\", \"Pedro\"],\n",
    "    \"Edad\": [8, 6, 12, 14, 7],\n",
    "    \"Tiene mascota\": [True, False, False, True, False],\n",
    "    \"Color\": [\"verde\", \"rojo\", \"azul\", \"rosa\", \"amarillo\"]\n",
    "}\n",
    "\n",
    "df = pd.DataFrame(data, index = ['a', 'b', 'c', 'd', 'e'])\n",
    "df"
   ]
  },
  {
   "cell_type": "code",
   "execution_count": 9,
   "metadata": {},
   "outputs": [
    {
     "data": {
      "text/plain": [
       "a      Juan\n",
       "b      Nora\n",
       "c    Miguel\n",
       "d     Laura\n",
       "e     Pedro\n",
       "Name: Nombre, dtype: object"
      ]
     },
     "execution_count": 9,
     "metadata": {},
     "output_type": "execute_result"
    }
   ],
   "source": [
    "#Mostrando todo un campo\n",
    "df['Nombre']"
   ]
  },
  {
   "cell_type": "code",
   "execution_count": 10,
   "metadata": {},
   "outputs": [
    {
     "data": {
      "text/html": [
       "<div>\n",
       "<style scoped>\n",
       "    .dataframe tbody tr th:only-of-type {\n",
       "        vertical-align: middle;\n",
       "    }\n",
       "\n",
       "    .dataframe tbody tr th {\n",
       "        vertical-align: top;\n",
       "    }\n",
       "\n",
       "    .dataframe thead th {\n",
       "        text-align: right;\n",
       "    }\n",
       "</style>\n",
       "<table border=\"1\" class=\"dataframe\">\n",
       "  <thead>\n",
       "    <tr style=\"text-align: right;\">\n",
       "      <th></th>\n",
       "      <th>Edad</th>\n",
       "      <th>Color</th>\n",
       "    </tr>\n",
       "  </thead>\n",
       "  <tbody>\n",
       "    <tr>\n",
       "      <th>a</th>\n",
       "      <td>8</td>\n",
       "      <td>verde</td>\n",
       "    </tr>\n",
       "    <tr>\n",
       "      <th>b</th>\n",
       "      <td>6</td>\n",
       "      <td>rojo</td>\n",
       "    </tr>\n",
       "    <tr>\n",
       "      <th>c</th>\n",
       "      <td>12</td>\n",
       "      <td>azul</td>\n",
       "    </tr>\n",
       "    <tr>\n",
       "      <th>d</th>\n",
       "      <td>14</td>\n",
       "      <td>rosa</td>\n",
       "    </tr>\n",
       "    <tr>\n",
       "      <th>e</th>\n",
       "      <td>7</td>\n",
       "      <td>amarillo</td>\n",
       "    </tr>\n",
       "  </tbody>\n",
       "</table>\n",
       "</div>"
      ],
      "text/plain": [
       "   Edad     Color\n",
       "a     8     verde\n",
       "b     6      rojo\n",
       "c    12      azul\n",
       "d    14      rosa\n",
       "e     7  amarillo"
      ]
     },
     "execution_count": 10,
     "metadata": {},
     "output_type": "execute_result"
    }
   ],
   "source": [
    "#Mostrando varios campos\n",
    "df[['Edad', 'Color']]"
   ]
  },
  {
   "cell_type": "code",
   "execution_count": 21,
   "metadata": {},
   "outputs": [
    {
     "data": {
      "text/plain": [
       "Nombre            Nora\n",
       "Edad                 6\n",
       "Tiene mascota    False\n",
       "Color             rojo\n",
       "Name: b, dtype: object"
      ]
     },
     "execution_count": 21,
     "metadata": {},
     "output_type": "execute_result"
    }
   ],
   "source": [
    "#Se usa loc para acceder al índice y mostrar toda la fila\n",
    "df.loc['b']"
   ]
  },
  {
   "cell_type": "code",
   "execution_count": 22,
   "metadata": {},
   "outputs": [
    {
     "data": {
      "text/html": [
       "<div>\n",
       "<style scoped>\n",
       "    .dataframe tbody tr th:only-of-type {\n",
       "        vertical-align: middle;\n",
       "    }\n",
       "\n",
       "    .dataframe tbody tr th {\n",
       "        vertical-align: top;\n",
       "    }\n",
       "\n",
       "    .dataframe thead th {\n",
       "        text-align: right;\n",
       "    }\n",
       "</style>\n",
       "<table border=\"1\" class=\"dataframe\">\n",
       "  <thead>\n",
       "    <tr style=\"text-align: right;\">\n",
       "      <th></th>\n",
       "      <th>Nombre</th>\n",
       "      <th>Edad</th>\n",
       "    </tr>\n",
       "  </thead>\n",
       "  <tbody>\n",
       "    <tr>\n",
       "      <th>b</th>\n",
       "      <td>Nora</td>\n",
       "      <td>6</td>\n",
       "    </tr>\n",
       "    <tr>\n",
       "      <th>d</th>\n",
       "      <td>Laura</td>\n",
       "      <td>14</td>\n",
       "    </tr>\n",
       "  </tbody>\n",
       "</table>\n",
       "</div>"
      ],
      "text/plain": [
       "  Nombre  Edad\n",
       "b   Nora     6\n",
       "d  Laura    14"
      ]
     },
     "execution_count": 22,
     "metadata": {},
     "output_type": "execute_result"
    }
   ],
   "source": [
    "#Consultar campos específicos y multiples filas\n",
    "df[['Nombre', 'Edad']].loc[['b', 'd']]"
   ]
  },
  {
   "cell_type": "code",
   "execution_count": 23,
   "metadata": {},
   "outputs": [
    {
     "data": {
      "text/plain": [
       "'Juan'"
      ]
     },
     "execution_count": 23,
     "metadata": {},
     "output_type": "execute_result"
    }
   ],
   "source": [
    "#Accediendo al valor específico\n",
    "df.loc['a', 'Nombre']"
   ]
  },
  {
   "cell_type": "code",
   "execution_count": 24,
   "metadata": {},
   "outputs": [
    {
     "data": {
      "text/html": [
       "<div>\n",
       "<style scoped>\n",
       "    .dataframe tbody tr th:only-of-type {\n",
       "        vertical-align: middle;\n",
       "    }\n",
       "\n",
       "    .dataframe tbody tr th {\n",
       "        vertical-align: top;\n",
       "    }\n",
       "\n",
       "    .dataframe thead th {\n",
       "        text-align: right;\n",
       "    }\n",
       "</style>\n",
       "<table border=\"1\" class=\"dataframe\">\n",
       "  <thead>\n",
       "    <tr style=\"text-align: right;\">\n",
       "      <th></th>\n",
       "      <th>Nombre</th>\n",
       "      <th>Tiene mascota</th>\n",
       "    </tr>\n",
       "  </thead>\n",
       "  <tbody>\n",
       "    <tr>\n",
       "      <th>b</th>\n",
       "      <td>Nora</td>\n",
       "      <td>False</td>\n",
       "    </tr>\n",
       "    <tr>\n",
       "      <th>d</th>\n",
       "      <td>Laura</td>\n",
       "      <td>True</td>\n",
       "    </tr>\n",
       "  </tbody>\n",
       "</table>\n",
       "</div>"
      ],
      "text/plain": [
       "  Nombre  Tiene mascota\n",
       "b   Nora          False\n",
       "d  Laura           True"
      ]
     },
     "execution_count": 24,
     "metadata": {},
     "output_type": "execute_result"
    }
   ],
   "source": [
    "#Accediendo a multiples campos específicos y multiples filas (otra opción)\n",
    "df.loc[['b', 'd'], ['Nombre', 'Tiene mascota']]"
   ]
  },
  {
   "attachments": {},
   "cell_type": "markdown",
   "metadata": {},
   "source": [
    "##### Manipulación de columnas de un Dataframe"
   ]
  },
  {
   "cell_type": "code",
   "execution_count": 28,
   "metadata": {},
   "outputs": [
    {
     "data": {
      "text/html": [
       "<div>\n",
       "<style scoped>\n",
       "    .dataframe tbody tr th:only-of-type {\n",
       "        vertical-align: middle;\n",
       "    }\n",
       "\n",
       "    .dataframe tbody tr th {\n",
       "        vertical-align: top;\n",
       "    }\n",
       "\n",
       "    .dataframe thead th {\n",
       "        text-align: right;\n",
       "    }\n",
       "</style>\n",
       "<table border=\"1\" class=\"dataframe\">\n",
       "  <thead>\n",
       "    <tr style=\"text-align: right;\">\n",
       "      <th></th>\n",
       "      <th>Nombre</th>\n",
       "      <th>Edad</th>\n",
       "      <th>Tiene mascota</th>\n",
       "      <th>Color</th>\n",
       "    </tr>\n",
       "  </thead>\n",
       "  <tbody>\n",
       "    <tr>\n",
       "      <th>a</th>\n",
       "      <td>Juan</td>\n",
       "      <td>8</td>\n",
       "      <td>True</td>\n",
       "      <td>verde</td>\n",
       "    </tr>\n",
       "    <tr>\n",
       "      <th>b</th>\n",
       "      <td>Nora</td>\n",
       "      <td>6</td>\n",
       "      <td>False</td>\n",
       "      <td>rojo</td>\n",
       "    </tr>\n",
       "    <tr>\n",
       "      <th>c</th>\n",
       "      <td>Miguel</td>\n",
       "      <td>12</td>\n",
       "      <td>False</td>\n",
       "      <td>azul</td>\n",
       "    </tr>\n",
       "    <tr>\n",
       "      <th>d</th>\n",
       "      <td>Laura</td>\n",
       "      <td>14</td>\n",
       "      <td>True</td>\n",
       "      <td>rosa</td>\n",
       "    </tr>\n",
       "    <tr>\n",
       "      <th>e</th>\n",
       "      <td>Pedro</td>\n",
       "      <td>7</td>\n",
       "      <td>False</td>\n",
       "      <td>amarillo</td>\n",
       "    </tr>\n",
       "  </tbody>\n",
       "</table>\n",
       "</div>"
      ],
      "text/plain": [
       "   Nombre  Edad  Tiene mascota     Color\n",
       "a    Juan     8           True     verde\n",
       "b    Nora     6          False      rojo\n",
       "c  Miguel    12          False      azul\n",
       "d   Laura    14           True      rosa\n",
       "e   Pedro     7          False  amarillo"
      ]
     },
     "execution_count": 28,
     "metadata": {},
     "output_type": "execute_result"
    }
   ],
   "source": [
    "df"
   ]
  },
  {
   "cell_type": "code",
   "execution_count": 35,
   "metadata": {},
   "outputs": [
    {
     "data": {
      "text/html": [
       "<div>\n",
       "<style scoped>\n",
       "    .dataframe tbody tr th:only-of-type {\n",
       "        vertical-align: middle;\n",
       "    }\n",
       "\n",
       "    .dataframe tbody tr th {\n",
       "        vertical-align: top;\n",
       "    }\n",
       "\n",
       "    .dataframe thead th {\n",
       "        text-align: right;\n",
       "    }\n",
       "</style>\n",
       "<table border=\"1\" class=\"dataframe\">\n",
       "  <thead>\n",
       "    <tr style=\"text-align: right;\">\n",
       "      <th></th>\n",
       "      <th>Nombre</th>\n",
       "      <th>Edad</th>\n",
       "      <th>Tiene mascota</th>\n",
       "      <th>Color</th>\n",
       "    </tr>\n",
       "  </thead>\n",
       "  <tbody>\n",
       "    <tr>\n",
       "      <th>a</th>\n",
       "      <td>Juan</td>\n",
       "      <td>10</td>\n",
       "      <td>True</td>\n",
       "      <td>verde</td>\n",
       "    </tr>\n",
       "    <tr>\n",
       "      <th>b</th>\n",
       "      <td>Nora</td>\n",
       "      <td>12</td>\n",
       "      <td>False</td>\n",
       "      <td>rojo</td>\n",
       "    </tr>\n",
       "    <tr>\n",
       "      <th>c</th>\n",
       "      <td>Miguel</td>\n",
       "      <td>8</td>\n",
       "      <td>False</td>\n",
       "      <td>azul</td>\n",
       "    </tr>\n",
       "    <tr>\n",
       "      <th>d</th>\n",
       "      <td>Laura</td>\n",
       "      <td>9</td>\n",
       "      <td>True</td>\n",
       "      <td>rosa</td>\n",
       "    </tr>\n",
       "    <tr>\n",
       "      <th>e</th>\n",
       "      <td>Pedro</td>\n",
       "      <td>17</td>\n",
       "      <td>False</td>\n",
       "      <td>amarillo</td>\n",
       "    </tr>\n",
       "  </tbody>\n",
       "</table>\n",
       "</div>"
      ],
      "text/plain": [
       "   Nombre  Edad  Tiene mascota     Color\n",
       "a    Juan    10           True     verde\n",
       "b    Nora    12          False      rojo\n",
       "c  Miguel     8          False      azul\n",
       "d   Laura     9           True      rosa\n",
       "e   Pedro    17          False  amarillo"
      ]
     },
     "execution_count": 35,
     "metadata": {},
     "output_type": "execute_result"
    }
   ],
   "source": [
    "#Corrigiendo un campo completo\n",
    "edad_correccion = pd.Series([10 , 12, 8, 9, 17], index = ['a', 'b', 'c', 'd', 'e'])\n",
    "df['Edad'] = edad_correccion\n",
    "df"
   ]
  },
  {
   "cell_type": "code",
   "execution_count": 36,
   "metadata": {},
   "outputs": [
    {
     "data": {
      "text/html": [
       "<div>\n",
       "<style scoped>\n",
       "    .dataframe tbody tr th:only-of-type {\n",
       "        vertical-align: middle;\n",
       "    }\n",
       "\n",
       "    .dataframe tbody tr th {\n",
       "        vertical-align: top;\n",
       "    }\n",
       "\n",
       "    .dataframe thead th {\n",
       "        text-align: right;\n",
       "    }\n",
       "</style>\n",
       "<table border=\"1\" class=\"dataframe\">\n",
       "  <thead>\n",
       "    <tr style=\"text-align: right;\">\n",
       "      <th></th>\n",
       "      <th>Nombre</th>\n",
       "      <th>Edad</th>\n",
       "      <th>Tiene mascota</th>\n",
       "      <th>Color</th>\n",
       "      <th>Valoracion</th>\n",
       "    </tr>\n",
       "  </thead>\n",
       "  <tbody>\n",
       "    <tr>\n",
       "      <th>a</th>\n",
       "      <td>Juan</td>\n",
       "      <td>10</td>\n",
       "      <td>True</td>\n",
       "      <td>verde</td>\n",
       "      <td>10.0</td>\n",
       "    </tr>\n",
       "    <tr>\n",
       "      <th>b</th>\n",
       "      <td>Nora</td>\n",
       "      <td>12</td>\n",
       "      <td>False</td>\n",
       "      <td>rojo</td>\n",
       "      <td>10.0</td>\n",
       "    </tr>\n",
       "    <tr>\n",
       "      <th>c</th>\n",
       "      <td>Miguel</td>\n",
       "      <td>8</td>\n",
       "      <td>False</td>\n",
       "      <td>azul</td>\n",
       "      <td>8.5</td>\n",
       "    </tr>\n",
       "    <tr>\n",
       "      <th>d</th>\n",
       "      <td>Laura</td>\n",
       "      <td>9</td>\n",
       "      <td>True</td>\n",
       "      <td>rosa</td>\n",
       "      <td>9.2</td>\n",
       "    </tr>\n",
       "    <tr>\n",
       "      <th>e</th>\n",
       "      <td>Pedro</td>\n",
       "      <td>17</td>\n",
       "      <td>False</td>\n",
       "      <td>amarillo</td>\n",
       "      <td>7.3</td>\n",
       "    </tr>\n",
       "  </tbody>\n",
       "</table>\n",
       "</div>"
      ],
      "text/plain": [
       "   Nombre  Edad  Tiene mascota     Color  Valoracion\n",
       "a    Juan    10           True     verde        10.0\n",
       "b    Nora    12          False      rojo        10.0\n",
       "c  Miguel     8          False      azul         8.5\n",
       "d   Laura     9           True      rosa         9.2\n",
       "e   Pedro    17          False  amarillo         7.3"
      ]
     },
     "execution_count": 36,
     "metadata": {},
     "output_type": "execute_result"
    }
   ],
   "source": [
    "#Agregando un nuevo campo\n",
    "nuevo_campo = pd.Series([10.0, 10.0, 8.5, 9.2, 7.3], index = df.index)\n",
    "df['Valoracion'] = nuevo_campo\n",
    "df"
   ]
  },
  {
   "cell_type": "code",
   "execution_count": 42,
   "metadata": {},
   "outputs": [
    {
     "data": {
      "text/html": [
       "<div>\n",
       "<style scoped>\n",
       "    .dataframe tbody tr th:only-of-type {\n",
       "        vertical-align: middle;\n",
       "    }\n",
       "\n",
       "    .dataframe tbody tr th {\n",
       "        vertical-align: top;\n",
       "    }\n",
       "\n",
       "    .dataframe thead th {\n",
       "        text-align: right;\n",
       "    }\n",
       "</style>\n",
       "<table border=\"1\" class=\"dataframe\">\n",
       "  <thead>\n",
       "    <tr style=\"text-align: right;\">\n",
       "      <th></th>\n",
       "      <th>Nombre</th>\n",
       "      <th>Edad</th>\n",
       "      <th>Color</th>\n",
       "    </tr>\n",
       "  </thead>\n",
       "  <tbody>\n",
       "    <tr>\n",
       "      <th>a</th>\n",
       "      <td>Juan</td>\n",
       "      <td>10</td>\n",
       "      <td>verde</td>\n",
       "    </tr>\n",
       "    <tr>\n",
       "      <th>b</th>\n",
       "      <td>Nora</td>\n",
       "      <td>12</td>\n",
       "      <td>rojo</td>\n",
       "    </tr>\n",
       "    <tr>\n",
       "      <th>c</th>\n",
       "      <td>Miguel</td>\n",
       "      <td>8</td>\n",
       "      <td>azul</td>\n",
       "    </tr>\n",
       "    <tr>\n",
       "      <th>d</th>\n",
       "      <td>Laura</td>\n",
       "      <td>9</td>\n",
       "      <td>rosa</td>\n",
       "    </tr>\n",
       "    <tr>\n",
       "      <th>e</th>\n",
       "      <td>Pedro</td>\n",
       "      <td>17</td>\n",
       "      <td>amarillo</td>\n",
       "    </tr>\n",
       "  </tbody>\n",
       "</table>\n",
       "</div>"
      ],
      "text/plain": [
       "   Nombre  Edad     Color\n",
       "a    Juan    10     verde\n",
       "b    Nora    12      rojo\n",
       "c  Miguel     8      azul\n",
       "d   Laura     9      rosa\n",
       "e   Pedro    17  amarillo"
      ]
     },
     "execution_count": 42,
     "metadata": {},
     "output_type": "execute_result"
    }
   ],
   "source": [
    "#Eliminando columnas (solo en la vista), para que tenga efecto en el df se debe reasignar\n",
    "df.drop(columns = ['Tiene mascota', 'Valoracion'])"
   ]
  },
  {
   "cell_type": "code",
   "execution_count": 43,
   "metadata": {},
   "outputs": [
    {
     "data": {
      "text/html": [
       "<div>\n",
       "<style scoped>\n",
       "    .dataframe tbody tr th:only-of-type {\n",
       "        vertical-align: middle;\n",
       "    }\n",
       "\n",
       "    .dataframe tbody tr th {\n",
       "        vertical-align: top;\n",
       "    }\n",
       "\n",
       "    .dataframe thead th {\n",
       "        text-align: right;\n",
       "    }\n",
       "</style>\n",
       "<table border=\"1\" class=\"dataframe\">\n",
       "  <thead>\n",
       "    <tr style=\"text-align: right;\">\n",
       "      <th></th>\n",
       "      <th>Nombre</th>\n",
       "      <th>Edad</th>\n",
       "      <th>Tiene mascota</th>\n",
       "      <th>Color</th>\n",
       "      <th>Valoracion</th>\n",
       "    </tr>\n",
       "  </thead>\n",
       "  <tbody>\n",
       "    <tr>\n",
       "      <th>a</th>\n",
       "      <td>Juan</td>\n",
       "      <td>10</td>\n",
       "      <td>True</td>\n",
       "      <td>verde</td>\n",
       "      <td>10.0</td>\n",
       "    </tr>\n",
       "    <tr>\n",
       "      <th>b</th>\n",
       "      <td>Nora</td>\n",
       "      <td>12</td>\n",
       "      <td>False</td>\n",
       "      <td>rojo</td>\n",
       "      <td>10.0</td>\n",
       "    </tr>\n",
       "    <tr>\n",
       "      <th>c</th>\n",
       "      <td>Miguel</td>\n",
       "      <td>8</td>\n",
       "      <td>False</td>\n",
       "      <td>azul</td>\n",
       "      <td>8.5</td>\n",
       "    </tr>\n",
       "    <tr>\n",
       "      <th>d</th>\n",
       "      <td>Laura</td>\n",
       "      <td>9</td>\n",
       "      <td>True</td>\n",
       "      <td>rosa</td>\n",
       "      <td>9.2</td>\n",
       "    </tr>\n",
       "    <tr>\n",
       "      <th>e</th>\n",
       "      <td>Pedro</td>\n",
       "      <td>17</td>\n",
       "      <td>False</td>\n",
       "      <td>amarillo</td>\n",
       "      <td>7.3</td>\n",
       "    </tr>\n",
       "  </tbody>\n",
       "</table>\n",
       "</div>"
      ],
      "text/plain": [
       "   Nombre  Edad  Tiene mascota     Color  Valoracion\n",
       "a    Juan    10           True     verde        10.0\n",
       "b    Nora    12          False      rojo        10.0\n",
       "c  Miguel     8          False      azul         8.5\n",
       "d   Laura     9           True      rosa         9.2\n",
       "e   Pedro    17          False  amarillo         7.3"
      ]
     },
     "execution_count": 43,
     "metadata": {},
     "output_type": "execute_result"
    }
   ],
   "source": [
    "df"
   ]
  },
  {
   "cell_type": "code",
   "execution_count": 40,
   "metadata": {},
   "outputs": [
    {
     "data": {
      "text/html": [
       "<div>\n",
       "<style scoped>\n",
       "    .dataframe tbody tr th:only-of-type {\n",
       "        vertical-align: middle;\n",
       "    }\n",
       "\n",
       "    .dataframe tbody tr th {\n",
       "        vertical-align: top;\n",
       "    }\n",
       "\n",
       "    .dataframe thead th {\n",
       "        text-align: right;\n",
       "    }\n",
       "</style>\n",
       "<table border=\"1\" class=\"dataframe\">\n",
       "  <thead>\n",
       "    <tr style=\"text-align: right;\">\n",
       "      <th></th>\n",
       "      <th>Nombre</th>\n",
       "      <th>Edad</th>\n",
       "      <th>Color</th>\n",
       "    </tr>\n",
       "  </thead>\n",
       "  <tbody>\n",
       "    <tr>\n",
       "      <th>a</th>\n",
       "      <td>Juan</td>\n",
       "      <td>10</td>\n",
       "      <td>verde</td>\n",
       "    </tr>\n",
       "    <tr>\n",
       "      <th>b</th>\n",
       "      <td>Nora</td>\n",
       "      <td>12</td>\n",
       "      <td>rojo</td>\n",
       "    </tr>\n",
       "    <tr>\n",
       "      <th>c</th>\n",
       "      <td>Miguel</td>\n",
       "      <td>8</td>\n",
       "      <td>azul</td>\n",
       "    </tr>\n",
       "    <tr>\n",
       "      <th>d</th>\n",
       "      <td>Laura</td>\n",
       "      <td>9</td>\n",
       "      <td>rosa</td>\n",
       "    </tr>\n",
       "    <tr>\n",
       "      <th>e</th>\n",
       "      <td>Pedro</td>\n",
       "      <td>17</td>\n",
       "      <td>amarillo</td>\n",
       "    </tr>\n",
       "  </tbody>\n",
       "</table>\n",
       "</div>"
      ],
      "text/plain": [
       "   Nombre  Edad     Color\n",
       "a    Juan    10     verde\n",
       "b    Nora    12      rojo\n",
       "c  Miguel     8      azul\n",
       "d   Laura     9      rosa\n",
       "e   Pedro    17  amarillo"
      ]
     },
     "execution_count": 40,
     "metadata": {},
     "output_type": "execute_result"
    }
   ],
   "source": [
    "df_dropped = df.drop(columns = ['Tiene mascota', 'Valoracion']) #Eliminando efectivamente las columas\n",
    "df_dropped"
   ]
  },
  {
   "attachments": {},
   "cell_type": "markdown",
   "metadata": {},
   "source": [
    "#### Adquisición de datos\n",
    "\n",
    "La adquisición de datos es la primera etapa de nuestro proceso ETL (extracción, transformación y carga de datos)\n",
    "\n",
    "La adquisición de datos es el proceso a través del cual nosotros (los científicos de datos) obtenemos datos para procesarlos, analizarlos y visualizarlos.\n",
    "\n",
    "Hay veces que los conjuntos de datos que queremos o necesitamos no existen. En estos casos toca salir al mundo (o al Internet) a hacer una recolección de datos. Esto puede suceder a través de experimentos científicos, encuestas, medición de fenómenos, recolección de datos de uso de aplicaciones, web scraping, etc. En este módulo no vamos a aprender cómo hacer esto. Vamos a asumir que el conjuntos de datos que queremos ya existe y está esperándonos en alguna parte.\n",
    "\n",
    "Ahora, ¿de dónde podemos conseguir estos conjuntos de datos? Los conjuntos de datos pueden estar en diversos lugares y estar almacenados en diversos formatos.\n",
    "\n",
    "Los formatos más comunes son los siguientes:\n",
    "\n",
    "- JSON\n",
    "- CSV\n",
    "\n",
    "Los datos pueden estar guardados en formato JSON en un archivo .json, o en formato CSV en un archivo .csv. Muchas veces obtenemos estos archivos de plataformas como Kaggle, que es uno de los repositorios de conjuntos de datos más importantes del mundo (así como una plataforma de aprendizaje y profesionalización para científicos de datos). En estas plataformas, basta con descargar los archivos y utilizarlos en nuestro programa.\n",
    "\n",
    "Otras veces, los datos no están disponibles como archivos y tenemos que \"pedirlos\" de algún lado. Estos datos están almacenados remotamente y a veces podemos acceder a ellos usando algún tipo de interfaz. Las dos fuentes más comunes que usamos para \"pedir\" datos son:\n",
    "\n",
    "- APIs\n",
    "\n",
    "- Bases de Datos\n",
    "\n",
    "##### Lectura de JSON's\n",
    "\n",
    "Vamos a empezar aprendiendo a leer un archivo JSON usando pandas. El primer paso hubiera sido ir a una plataforma como Kaggle y descargar este archivo. Ese paso lo he hecho por ustedes, pero si quieren saber de dónde conseguí el conjunto de datos que vamos a usar, pueden seguir este [link](https://www.kaggle.com/datasets/shrutimehta/zomato-restaurants-data?select=file2.json).\n",
    "\n",
    "El conjunto de datos que vamos a usar ya ha sido pre-procesado para que sea adecuado para esta sesión. Entonces, ¿qué tenemos que hacer? El primer paso es importar nuestra librería pandas y una librería de Python para manejar formato JSON:\n"
   ]
  },
  {
   "cell_type": "code",
   "execution_count": 2,
   "metadata": {},
   "outputs": [],
   "source": [
    "#Importando la librería para lectura de archivos json\n",
    "import json"
   ]
  },
  {
   "attachments": {},
   "cell_type": "markdown",
   "metadata": {},
   "source": [
    "Ahora, primero tenemos que leer el archivo antes de pasárselo a pandas. Esto se hace con el siguiente código:"
   ]
  },
  {
   "cell_type": "code",
   "execution_count": 4,
   "metadata": {},
   "outputs": [
    {
     "name": "stdout",
     "output_type": "stream",
     "text": [
      "<class 'dict'>\n"
     ]
    }
   ],
   "source": [
    "f = open('../Datasets/zomato_reviews-clean.json', 'r')\n",
    "data_json = json.load(f)\n",
    "f.close()\n",
    "\n",
    "#El resultado de la lectura es un diccionario\n",
    "print(type(data_json))"
   ]
  },
  {
   "attachments": {},
   "cell_type": "markdown",
   "metadata": {},
   "source": [
    "Con esta parte del código le estamos diciendo a Python que queremos leer un archivo. El comando open sirve para leer archivos y recibe dos argumentos:\n",
    "- El primero es la ruta (path) a nuestro archivo.\n",
    "- El segundo es el tipo de acceso. En este caso hemos escrito 'r' que significa read. Para gran parte de lo que vamos a hacer como científicos de datos, el acceso 'r' bastará, pero si quieres conocer otros tipos de acceso y profundizar en el tema, [puedes hacerlo acá](https://www.pythonista.io/cursos/py101/escritura-y-lectura-de-archivos).\n",
    "\n",
    "Después de leer el archivo, lo hemos asignado a una variable f.\n",
    "\n",
    "El archivo que hemos leído está en formato json y por lo tanto Python requiere convertirlo a un formato que él (Señor Python) pueda entender. Usando el comando json.load leemos el objeto en formato JSON y lo convertimos en un diccionario de Python. Ya que el formato JSON y los diccionarios tienen una estructura muy similar, para Python esto es pan comido.\n",
    "\n",
    "Al finalizar, usamos f.close() para cerrar el archivo que abrimos y evitar que cosas raras puedan pasarle a nuestro programa.\n",
    "\n",
    "Vamos a convertir nuestro diccionario en un DataFrame para poder revisar la información mejor. El objeto pd.DataFrame tiene un método llamado from_dict con el que podemos construir un DataFrame a partir de un diccionario:"
   ]
  },
  {
   "cell_type": "code",
   "execution_count": 8,
   "metadata": {},
   "outputs": [],
   "source": [
    "#Convertimos el diccionario a dataframe\n",
    "df = pd.DataFrame.from_dict(data_json)"
   ]
  },
  {
   "attachments": {},
   "cell_type": "markdown",
   "metadata": {},
   "source": [
    "##### Análisis exploratorio de datos\n",
    "\n",
    "El siguiente paso después de la Adquisición de Datos es lo que se llama Análisis Exploratorio de Datos.\n",
    "\n",
    "Este paso es donde exploramos nuestro conjunto de datos para entenderlo mejor. En este momento, por ejemplo, tenemos un conjunto de datos que estaba almacenado en un archivo llamado 'reviews_restaurantes.json', pero no tenemos la menor idea de qué hay dentro de ese archivo.\n",
    "\n",
    "El Análisis Exploratorio de Datos es el proceso a través del cual nos enteramos de qué hay en ese conjunto de datos. Este paso es esencial antes de realizar cualquier tipo de Procesamiento, Análisis Estadístico y Visualización.\n",
    "\n",
    "Vamos a aprender un poco de exploración de DataFrames usando este conjunto de datos que tenemos en este momento.\n",
    "\n",
    "Lo primero que podemos hacer es simplemente pedirle al Jupyter Notebooks el output de nuestra variable df (le puse así por que son las siglas de DataFrame):"
   ]
  },
  {
   "cell_type": "code",
   "execution_count": 9,
   "metadata": {},
   "outputs": [
    {
     "data": {
      "text/html": [
       "<div>\n",
       "<style scoped>\n",
       "    .dataframe tbody tr th:only-of-type {\n",
       "        vertical-align: middle;\n",
       "    }\n",
       "\n",
       "    .dataframe tbody tr th {\n",
       "        vertical-align: top;\n",
       "    }\n",
       "\n",
       "    .dataframe thead th {\n",
       "        text-align: right;\n",
       "    }\n",
       "</style>\n",
       "<table border=\"1\" class=\"dataframe\">\n",
       "  <thead>\n",
       "    <tr style=\"text-align: right;\">\n",
       "      <th></th>\n",
       "      <th>has_online_delivery</th>\n",
       "      <th>price_range</th>\n",
       "      <th>currency</th>\n",
       "      <th>name</th>\n",
       "      <th>cuisines</th>\n",
       "      <th>location.address</th>\n",
       "      <th>location.city</th>\n",
       "      <th>user_rating.rating_text</th>\n",
       "    </tr>\n",
       "  </thead>\n",
       "  <tbody>\n",
       "    <tr>\n",
       "      <th>0</th>\n",
       "      <td>1</td>\n",
       "      <td>3</td>\n",
       "      <td>Rs.</td>\n",
       "      <td>Hauz Khas Social</td>\n",
       "      <td>Continental, American, Asian, North Indian</td>\n",
       "      <td>9-A &amp; 12, Hauz Khas Village, New Delhi</td>\n",
       "      <td>New Delhi</td>\n",
       "      <td>Very Good</td>\n",
       "    </tr>\n",
       "    <tr>\n",
       "      <th>1</th>\n",
       "      <td>0</td>\n",
       "      <td>3</td>\n",
       "      <td>Rs.</td>\n",
       "      <td>Qubitos - The Terrace Cafe</td>\n",
       "      <td>Thai, European, Mexican, North Indian, Chinese...</td>\n",
       "      <td>C-7, Vishal Enclave, Opposite Metro Pillar 417...</td>\n",
       "      <td>New Delhi</td>\n",
       "      <td>Excellent</td>\n",
       "    </tr>\n",
       "    <tr>\n",
       "      <th>2</th>\n",
       "      <td>1</td>\n",
       "      <td>2</td>\n",
       "      <td>Rs.</td>\n",
       "      <td>The Hudson Cafe</td>\n",
       "      <td>Cafe, Italian, Continental, Chinese</td>\n",
       "      <td>2524, 1st Floor, Hudson Lane, Delhi University...</td>\n",
       "      <td>New Delhi</td>\n",
       "      <td>Very Good</td>\n",
       "    </tr>\n",
       "    <tr>\n",
       "      <th>3</th>\n",
       "      <td>0</td>\n",
       "      <td>3</td>\n",
       "      <td>Rs.</td>\n",
       "      <td>Summer House Cafe</td>\n",
       "      <td>Italian, Continental</td>\n",
       "      <td>1st Floor, DDA Shopping Complex, Aurobindo Pla...</td>\n",
       "      <td>New Delhi</td>\n",
       "      <td>Very Good</td>\n",
       "    </tr>\n",
       "    <tr>\n",
       "      <th>4</th>\n",
       "      <td>0</td>\n",
       "      <td>3</td>\n",
       "      <td>Rs.</td>\n",
       "      <td>38 Barracks</td>\n",
       "      <td>North Indian, Italian, Asian, American</td>\n",
       "      <td>M-38, Outer Circle, Connaught Place, New Delhi</td>\n",
       "      <td>New Delhi</td>\n",
       "      <td>Very Good</td>\n",
       "    </tr>\n",
       "    <tr>\n",
       "      <th>...</th>\n",
       "      <td>...</td>\n",
       "      <td>...</td>\n",
       "      <td>...</td>\n",
       "      <td>...</td>\n",
       "      <td>...</td>\n",
       "      <td>...</td>\n",
       "      <td>...</td>\n",
       "      <td>...</td>\n",
       "    </tr>\n",
       "    <tr>\n",
       "      <th>1175</th>\n",
       "      <td>0</td>\n",
       "      <td>3</td>\n",
       "      <td>£</td>\n",
       "      <td>The Boozy Cow</td>\n",
       "      <td>Burger, Grill</td>\n",
       "      <td>17 Frederick Street, New Town, Edinburgh EH2 2EY</td>\n",
       "      <td>Edinburgh</td>\n",
       "      <td>Very Good</td>\n",
       "    </tr>\n",
       "    <tr>\n",
       "      <th>1176</th>\n",
       "      <td>0</td>\n",
       "      <td>3</td>\n",
       "      <td>£</td>\n",
       "      <td>La Favorita</td>\n",
       "      <td>Italian</td>\n",
       "      <td>325-331 Leith Walk, Leith, Edinburgh EH6 8SA</td>\n",
       "      <td>Edinburgh</td>\n",
       "      <td>Excellent</td>\n",
       "    </tr>\n",
       "    <tr>\n",
       "      <th>1177</th>\n",
       "      <td>0</td>\n",
       "      <td>3</td>\n",
       "      <td>£</td>\n",
       "      <td>Roseleaf Bar Cafe</td>\n",
       "      <td>Scottish, Cafe</td>\n",
       "      <td>23-24 Sandport Place, Leith, Edinburgh EH6 6EW</td>\n",
       "      <td>Edinburgh</td>\n",
       "      <td>Excellent</td>\n",
       "    </tr>\n",
       "    <tr>\n",
       "      <th>1178</th>\n",
       "      <td>0</td>\n",
       "      <td>3</td>\n",
       "      <td>£</td>\n",
       "      <td>Civerinos</td>\n",
       "      <td>Pizza, Italian</td>\n",
       "      <td>5 Hunter Square, Royal Mile, Old Town, Edinbur...</td>\n",
       "      <td>Edinburgh</td>\n",
       "      <td>Good</td>\n",
       "    </tr>\n",
       "    <tr>\n",
       "      <th>1179</th>\n",
       "      <td>0</td>\n",
       "      <td>3</td>\n",
       "      <td>£</td>\n",
       "      <td>The Hanging Bat</td>\n",
       "      <td>American</td>\n",
       "      <td>133 Lothian Road, Old Town, Edinburgh EH3 9AD</td>\n",
       "      <td>Edinburgh</td>\n",
       "      <td>Good</td>\n",
       "    </tr>\n",
       "  </tbody>\n",
       "</table>\n",
       "<p>1180 rows × 8 columns</p>\n",
       "</div>"
      ],
      "text/plain": [
       "      has_online_delivery  price_range currency                        name  \\\n",
       "0                       1            3      Rs.            Hauz Khas Social   \n",
       "1                       0            3      Rs.  Qubitos - The Terrace Cafe   \n",
       "2                       1            2      Rs.             The Hudson Cafe   \n",
       "3                       0            3      Rs.           Summer House Cafe   \n",
       "4                       0            3      Rs.                 38 Barracks   \n",
       "...                   ...          ...      ...                         ...   \n",
       "1175                    0            3        £               The Boozy Cow   \n",
       "1176                    0            3        £                 La Favorita   \n",
       "1177                    0            3        £           Roseleaf Bar Cafe   \n",
       "1178                    0            3        £                   Civerinos   \n",
       "1179                    0            3        £             The Hanging Bat   \n",
       "\n",
       "                                               cuisines  \\\n",
       "0            Continental, American, Asian, North Indian   \n",
       "1     Thai, European, Mexican, North Indian, Chinese...   \n",
       "2                   Cafe, Italian, Continental, Chinese   \n",
       "3                                  Italian, Continental   \n",
       "4                North Indian, Italian, Asian, American   \n",
       "...                                                 ...   \n",
       "1175                                      Burger, Grill   \n",
       "1176                                            Italian   \n",
       "1177                                     Scottish, Cafe   \n",
       "1178                                     Pizza, Italian   \n",
       "1179                                           American   \n",
       "\n",
       "                                       location.address location.city  \\\n",
       "0                9-A & 12, Hauz Khas Village, New Delhi     New Delhi   \n",
       "1     C-7, Vishal Enclave, Opposite Metro Pillar 417...     New Delhi   \n",
       "2     2524, 1st Floor, Hudson Lane, Delhi University...     New Delhi   \n",
       "3     1st Floor, DDA Shopping Complex, Aurobindo Pla...     New Delhi   \n",
       "4        M-38, Outer Circle, Connaught Place, New Delhi     New Delhi   \n",
       "...                                                 ...           ...   \n",
       "1175   17 Frederick Street, New Town, Edinburgh EH2 2EY     Edinburgh   \n",
       "1176       325-331 Leith Walk, Leith, Edinburgh EH6 8SA     Edinburgh   \n",
       "1177     23-24 Sandport Place, Leith, Edinburgh EH6 6EW     Edinburgh   \n",
       "1178  5 Hunter Square, Royal Mile, Old Town, Edinbur...     Edinburgh   \n",
       "1179      133 Lothian Road, Old Town, Edinburgh EH3 9AD     Edinburgh   \n",
       "\n",
       "     user_rating.rating_text  \n",
       "0                  Very Good  \n",
       "1                  Excellent  \n",
       "2                  Very Good  \n",
       "3                  Very Good  \n",
       "4                  Very Good  \n",
       "...                      ...  \n",
       "1175               Very Good  \n",
       "1176               Excellent  \n",
       "1177               Excellent  \n",
       "1178                    Good  \n",
       "1179                    Good  \n",
       "\n",
       "[1180 rows x 8 columns]"
      ]
     },
     "execution_count": 9,
     "metadata": {},
     "output_type": "execute_result"
    }
   ],
   "source": [
    "df"
   ]
  },
  {
   "attachments": {},
   "cell_type": "markdown",
   "metadata": {},
   "source": [
    "Ok, ya podemos ver algo de información. Este conjunto de datos tiene información acerca de algunos de los mejores restaurantes en diversas partes del mundo. La información fue extraída originalmente de una plataforma llamada Zomato, pero el archivo JSON fue descargado de Kaggle desde el link ya mostrado arriba. El conjunto de datos original tiene bastantes más datos pero fueron reducidos a lo esencial para que nuestros procesos sean más sencillos (por el momento).\n",
    "\n",
    "Al ver el output de nuestro DataFrame una de las primeras cosas en las que podemos fijarnos es en el tamaño del DataFrame. Esta información está localizada en la parte inferior:\n",
    "\n",
    "Tenemos un conjunto de datos que tiene 1180 filas y 8 columnas.\n",
    "\n",
    "Es posible acceder a esta información leyendo la propiedad shape de nuestro DataFrame:"
   ]
  },
  {
   "cell_type": "code",
   "execution_count": 10,
   "metadata": {},
   "outputs": [
    {
     "data": {
      "text/plain": [
       "(1180, 8)"
      ]
     },
     "execution_count": 10,
     "metadata": {},
     "output_type": "execute_result"
    }
   ],
   "source": [
    "df.shape"
   ]
  },
  {
   "attachments": {},
   "cell_type": "markdown",
   "metadata": {},
   "source": [
    "También podemos observar que el índice tiene un orden secuencial, desde 0 hasta 1179:\n",
    "\n",
    "Los 3 puntos que ves en medio (...) significan que hay más datos entre los índices 4 y 1175, pero que son demasiados como para mostrarlos.\n",
    "\n",
    "También podemos ver los nombres de las columnas en la parte superior.\n",
    "\n",
    "Veamos ahora qué métodos podemos utilizar para explorar un poco más nuestro DataFrame.\n",
    "\n",
    "##### Head y Tail\n",
    "\n",
    "Los métodos head y tail pueden usarse como un primer acercamiento para ver qué hay dentro de nuestro DataFrame. Al llamar head, pandas nos muestra las primeras 5 filas que hay en el DataFrame:"
   ]
  },
  {
   "cell_type": "code",
   "execution_count": 11,
   "metadata": {},
   "outputs": [
    {
     "data": {
      "text/html": [
       "<div>\n",
       "<style scoped>\n",
       "    .dataframe tbody tr th:only-of-type {\n",
       "        vertical-align: middle;\n",
       "    }\n",
       "\n",
       "    .dataframe tbody tr th {\n",
       "        vertical-align: top;\n",
       "    }\n",
       "\n",
       "    .dataframe thead th {\n",
       "        text-align: right;\n",
       "    }\n",
       "</style>\n",
       "<table border=\"1\" class=\"dataframe\">\n",
       "  <thead>\n",
       "    <tr style=\"text-align: right;\">\n",
       "      <th></th>\n",
       "      <th>has_online_delivery</th>\n",
       "      <th>price_range</th>\n",
       "      <th>currency</th>\n",
       "      <th>name</th>\n",
       "      <th>cuisines</th>\n",
       "      <th>location.address</th>\n",
       "      <th>location.city</th>\n",
       "      <th>user_rating.rating_text</th>\n",
       "    </tr>\n",
       "  </thead>\n",
       "  <tbody>\n",
       "    <tr>\n",
       "      <th>0</th>\n",
       "      <td>1</td>\n",
       "      <td>3</td>\n",
       "      <td>Rs.</td>\n",
       "      <td>Hauz Khas Social</td>\n",
       "      <td>Continental, American, Asian, North Indian</td>\n",
       "      <td>9-A &amp; 12, Hauz Khas Village, New Delhi</td>\n",
       "      <td>New Delhi</td>\n",
       "      <td>Very Good</td>\n",
       "    </tr>\n",
       "    <tr>\n",
       "      <th>1</th>\n",
       "      <td>0</td>\n",
       "      <td>3</td>\n",
       "      <td>Rs.</td>\n",
       "      <td>Qubitos - The Terrace Cafe</td>\n",
       "      <td>Thai, European, Mexican, North Indian, Chinese...</td>\n",
       "      <td>C-7, Vishal Enclave, Opposite Metro Pillar 417...</td>\n",
       "      <td>New Delhi</td>\n",
       "      <td>Excellent</td>\n",
       "    </tr>\n",
       "    <tr>\n",
       "      <th>2</th>\n",
       "      <td>1</td>\n",
       "      <td>2</td>\n",
       "      <td>Rs.</td>\n",
       "      <td>The Hudson Cafe</td>\n",
       "      <td>Cafe, Italian, Continental, Chinese</td>\n",
       "      <td>2524, 1st Floor, Hudson Lane, Delhi University...</td>\n",
       "      <td>New Delhi</td>\n",
       "      <td>Very Good</td>\n",
       "    </tr>\n",
       "    <tr>\n",
       "      <th>3</th>\n",
       "      <td>0</td>\n",
       "      <td>3</td>\n",
       "      <td>Rs.</td>\n",
       "      <td>Summer House Cafe</td>\n",
       "      <td>Italian, Continental</td>\n",
       "      <td>1st Floor, DDA Shopping Complex, Aurobindo Pla...</td>\n",
       "      <td>New Delhi</td>\n",
       "      <td>Very Good</td>\n",
       "    </tr>\n",
       "    <tr>\n",
       "      <th>4</th>\n",
       "      <td>0</td>\n",
       "      <td>3</td>\n",
       "      <td>Rs.</td>\n",
       "      <td>38 Barracks</td>\n",
       "      <td>North Indian, Italian, Asian, American</td>\n",
       "      <td>M-38, Outer Circle, Connaught Place, New Delhi</td>\n",
       "      <td>New Delhi</td>\n",
       "      <td>Very Good</td>\n",
       "    </tr>\n",
       "  </tbody>\n",
       "</table>\n",
       "</div>"
      ],
      "text/plain": [
       "   has_online_delivery  price_range currency                        name  \\\n",
       "0                    1            3      Rs.            Hauz Khas Social   \n",
       "1                    0            3      Rs.  Qubitos - The Terrace Cafe   \n",
       "2                    1            2      Rs.             The Hudson Cafe   \n",
       "3                    0            3      Rs.           Summer House Cafe   \n",
       "4                    0            3      Rs.                 38 Barracks   \n",
       "\n",
       "                                            cuisines  \\\n",
       "0         Continental, American, Asian, North Indian   \n",
       "1  Thai, European, Mexican, North Indian, Chinese...   \n",
       "2                Cafe, Italian, Continental, Chinese   \n",
       "3                               Italian, Continental   \n",
       "4             North Indian, Italian, Asian, American   \n",
       "\n",
       "                                    location.address location.city  \\\n",
       "0             9-A & 12, Hauz Khas Village, New Delhi     New Delhi   \n",
       "1  C-7, Vishal Enclave, Opposite Metro Pillar 417...     New Delhi   \n",
       "2  2524, 1st Floor, Hudson Lane, Delhi University...     New Delhi   \n",
       "3  1st Floor, DDA Shopping Complex, Aurobindo Pla...     New Delhi   \n",
       "4     M-38, Outer Circle, Connaught Place, New Delhi     New Delhi   \n",
       "\n",
       "  user_rating.rating_text  \n",
       "0               Very Good  \n",
       "1               Excellent  \n",
       "2               Very Good  \n",
       "3               Very Good  \n",
       "4               Very Good  "
      ]
     },
     "execution_count": 11,
     "metadata": {},
     "output_type": "execute_result"
    }
   ],
   "source": [
    "df.head()"
   ]
  },
  {
   "attachments": {},
   "cell_type": "markdown",
   "metadata": {},
   "source": [
    "También podemos pasarle un número como argumento para indicarle cuántas filas queremos ver (siempre empezando por la cabeza del DataFrame, o sea la primera fila):"
   ]
  },
  {
   "cell_type": "code",
   "execution_count": 12,
   "metadata": {},
   "outputs": [
    {
     "data": {
      "text/html": [
       "<div>\n",
       "<style scoped>\n",
       "    .dataframe tbody tr th:only-of-type {\n",
       "        vertical-align: middle;\n",
       "    }\n",
       "\n",
       "    .dataframe tbody tr th {\n",
       "        vertical-align: top;\n",
       "    }\n",
       "\n",
       "    .dataframe thead th {\n",
       "        text-align: right;\n",
       "    }\n",
       "</style>\n",
       "<table border=\"1\" class=\"dataframe\">\n",
       "  <thead>\n",
       "    <tr style=\"text-align: right;\">\n",
       "      <th></th>\n",
       "      <th>has_online_delivery</th>\n",
       "      <th>price_range</th>\n",
       "      <th>currency</th>\n",
       "      <th>name</th>\n",
       "      <th>cuisines</th>\n",
       "      <th>location.address</th>\n",
       "      <th>location.city</th>\n",
       "      <th>user_rating.rating_text</th>\n",
       "    </tr>\n",
       "  </thead>\n",
       "  <tbody>\n",
       "    <tr>\n",
       "      <th>0</th>\n",
       "      <td>1</td>\n",
       "      <td>3</td>\n",
       "      <td>Rs.</td>\n",
       "      <td>Hauz Khas Social</td>\n",
       "      <td>Continental, American, Asian, North Indian</td>\n",
       "      <td>9-A &amp; 12, Hauz Khas Village, New Delhi</td>\n",
       "      <td>New Delhi</td>\n",
       "      <td>Very Good</td>\n",
       "    </tr>\n",
       "    <tr>\n",
       "      <th>1</th>\n",
       "      <td>0</td>\n",
       "      <td>3</td>\n",
       "      <td>Rs.</td>\n",
       "      <td>Qubitos - The Terrace Cafe</td>\n",
       "      <td>Thai, European, Mexican, North Indian, Chinese...</td>\n",
       "      <td>C-7, Vishal Enclave, Opposite Metro Pillar 417...</td>\n",
       "      <td>New Delhi</td>\n",
       "      <td>Excellent</td>\n",
       "    </tr>\n",
       "    <tr>\n",
       "      <th>2</th>\n",
       "      <td>1</td>\n",
       "      <td>2</td>\n",
       "      <td>Rs.</td>\n",
       "      <td>The Hudson Cafe</td>\n",
       "      <td>Cafe, Italian, Continental, Chinese</td>\n",
       "      <td>2524, 1st Floor, Hudson Lane, Delhi University...</td>\n",
       "      <td>New Delhi</td>\n",
       "      <td>Very Good</td>\n",
       "    </tr>\n",
       "    <tr>\n",
       "      <th>3</th>\n",
       "      <td>0</td>\n",
       "      <td>3</td>\n",
       "      <td>Rs.</td>\n",
       "      <td>Summer House Cafe</td>\n",
       "      <td>Italian, Continental</td>\n",
       "      <td>1st Floor, DDA Shopping Complex, Aurobindo Pla...</td>\n",
       "      <td>New Delhi</td>\n",
       "      <td>Very Good</td>\n",
       "    </tr>\n",
       "    <tr>\n",
       "      <th>4</th>\n",
       "      <td>0</td>\n",
       "      <td>3</td>\n",
       "      <td>Rs.</td>\n",
       "      <td>38 Barracks</td>\n",
       "      <td>North Indian, Italian, Asian, American</td>\n",
       "      <td>M-38, Outer Circle, Connaught Place, New Delhi</td>\n",
       "      <td>New Delhi</td>\n",
       "      <td>Very Good</td>\n",
       "    </tr>\n",
       "    <tr>\n",
       "      <th>5</th>\n",
       "      <td>1</td>\n",
       "      <td>2</td>\n",
       "      <td>Rs.</td>\n",
       "      <td>Spezia Bistro</td>\n",
       "      <td>Cafe, Continental, Chinese, Italian</td>\n",
       "      <td>2525, 1st Floor, Hudson Lane, Delhi University...</td>\n",
       "      <td>New Delhi</td>\n",
       "      <td>Excellent</td>\n",
       "    </tr>\n",
       "    <tr>\n",
       "      <th>6</th>\n",
       "      <td>0</td>\n",
       "      <td>4</td>\n",
       "      <td>Rs.</td>\n",
       "      <td>Manhattan Brewery &amp; Bar Exchange</td>\n",
       "      <td>Finger Food, American, Continental, North Indi...</td>\n",
       "      <td>1st Floor, Global Foyer Mall, Sector 43, Golf ...</td>\n",
       "      <td>Gurgaon</td>\n",
       "      <td>Excellent</td>\n",
       "    </tr>\n",
       "    <tr>\n",
       "      <th>7</th>\n",
       "      <td>0</td>\n",
       "      <td>4</td>\n",
       "      <td>Rs.</td>\n",
       "      <td>The Wine Company</td>\n",
       "      <td>Italian, European</td>\n",
       "      <td>Cyber Hub, DLF Cyber City, Gurgaon</td>\n",
       "      <td>Gurgaon</td>\n",
       "      <td>Poor</td>\n",
       "    </tr>\n",
       "    <tr>\n",
       "      <th>8</th>\n",
       "      <td>0</td>\n",
       "      <td>4</td>\n",
       "      <td>Rs.</td>\n",
       "      <td>Farzi Cafe</td>\n",
       "      <td>Modern Indian</td>\n",
       "      <td>38/39, Level 1, Block E , Inner Circle, Connau...</td>\n",
       "      <td>New Delhi</td>\n",
       "      <td>Very Good</td>\n",
       "    </tr>\n",
       "    <tr>\n",
       "      <th>9</th>\n",
       "      <td>1</td>\n",
       "      <td>3</td>\n",
       "      <td>Rs.</td>\n",
       "      <td>Indian Grill Room</td>\n",
       "      <td>North Indian, Mughlai</td>\n",
       "      <td>315, 3rd Floor, Suncity Business Tower, Golf C...</td>\n",
       "      <td>Gurgaon</td>\n",
       "      <td>Excellent</td>\n",
       "    </tr>\n",
       "  </tbody>\n",
       "</table>\n",
       "</div>"
      ],
      "text/plain": [
       "   has_online_delivery  price_range currency  \\\n",
       "0                    1            3      Rs.   \n",
       "1                    0            3      Rs.   \n",
       "2                    1            2      Rs.   \n",
       "3                    0            3      Rs.   \n",
       "4                    0            3      Rs.   \n",
       "5                    1            2      Rs.   \n",
       "6                    0            4      Rs.   \n",
       "7                    0            4      Rs.   \n",
       "8                    0            4      Rs.   \n",
       "9                    1            3      Rs.   \n",
       "\n",
       "                               name  \\\n",
       "0                  Hauz Khas Social   \n",
       "1        Qubitos - The Terrace Cafe   \n",
       "2                   The Hudson Cafe   \n",
       "3                 Summer House Cafe   \n",
       "4                       38 Barracks   \n",
       "5                     Spezia Bistro   \n",
       "6  Manhattan Brewery & Bar Exchange   \n",
       "7                  The Wine Company   \n",
       "8                        Farzi Cafe   \n",
       "9                 Indian Grill Room   \n",
       "\n",
       "                                            cuisines  \\\n",
       "0         Continental, American, Asian, North Indian   \n",
       "1  Thai, European, Mexican, North Indian, Chinese...   \n",
       "2                Cafe, Italian, Continental, Chinese   \n",
       "3                               Italian, Continental   \n",
       "4             North Indian, Italian, Asian, American   \n",
       "5                Cafe, Continental, Chinese, Italian   \n",
       "6  Finger Food, American, Continental, North Indi...   \n",
       "7                                  Italian, European   \n",
       "8                                      Modern Indian   \n",
       "9                              North Indian, Mughlai   \n",
       "\n",
       "                                    location.address location.city  \\\n",
       "0             9-A & 12, Hauz Khas Village, New Delhi     New Delhi   \n",
       "1  C-7, Vishal Enclave, Opposite Metro Pillar 417...     New Delhi   \n",
       "2  2524, 1st Floor, Hudson Lane, Delhi University...     New Delhi   \n",
       "3  1st Floor, DDA Shopping Complex, Aurobindo Pla...     New Delhi   \n",
       "4     M-38, Outer Circle, Connaught Place, New Delhi     New Delhi   \n",
       "5  2525, 1st Floor, Hudson Lane, Delhi University...     New Delhi   \n",
       "6  1st Floor, Global Foyer Mall, Sector 43, Golf ...       Gurgaon   \n",
       "7                 Cyber Hub, DLF Cyber City, Gurgaon       Gurgaon   \n",
       "8  38/39, Level 1, Block E , Inner Circle, Connau...     New Delhi   \n",
       "9  315, 3rd Floor, Suncity Business Tower, Golf C...       Gurgaon   \n",
       "\n",
       "  user_rating.rating_text  \n",
       "0               Very Good  \n",
       "1               Excellent  \n",
       "2               Very Good  \n",
       "3               Very Good  \n",
       "4               Very Good  \n",
       "5               Excellent  \n",
       "6               Excellent  \n",
       "7                    Poor  \n",
       "8               Very Good  \n",
       "9               Excellent  "
      ]
     },
     "execution_count": 12,
     "metadata": {},
     "output_type": "execute_result"
    }
   ],
   "source": [
    "df.head(10)"
   ]
  },
  {
   "attachments": {},
   "cell_type": "markdown",
   "metadata": {},
   "source": [
    "Dándole un primer vistazo a nuestro conjunto de datos vemos que tiene la siguiente información:\n",
    "\n",
    "- El nombre del restaurante y el estilo de comida que vende (name y cuisines)\n",
    "- Datos sobre localización (location.address y location.city)\n",
    "- Datos sobre costos (price_range y currency)\n",
    "- Un booleano indicando si el restaurante ofrece pedidos online (has_online_delivery)\n",
    "- Un pequeño texto que es una evaluación de un usuario (user_rating.rating_text)\n",
    "\n",
    "Usando tail podemos echarle un vistazo a las últimas filas de nuestro DataFrame:"
   ]
  },
  {
   "cell_type": "code",
   "execution_count": 13,
   "metadata": {},
   "outputs": [
    {
     "data": {
      "text/html": [
       "<div>\n",
       "<style scoped>\n",
       "    .dataframe tbody tr th:only-of-type {\n",
       "        vertical-align: middle;\n",
       "    }\n",
       "\n",
       "    .dataframe tbody tr th {\n",
       "        vertical-align: top;\n",
       "    }\n",
       "\n",
       "    .dataframe thead th {\n",
       "        text-align: right;\n",
       "    }\n",
       "</style>\n",
       "<table border=\"1\" class=\"dataframe\">\n",
       "  <thead>\n",
       "    <tr style=\"text-align: right;\">\n",
       "      <th></th>\n",
       "      <th>has_online_delivery</th>\n",
       "      <th>price_range</th>\n",
       "      <th>currency</th>\n",
       "      <th>name</th>\n",
       "      <th>cuisines</th>\n",
       "      <th>location.address</th>\n",
       "      <th>location.city</th>\n",
       "      <th>user_rating.rating_text</th>\n",
       "    </tr>\n",
       "  </thead>\n",
       "  <tbody>\n",
       "    <tr>\n",
       "      <th>1175</th>\n",
       "      <td>0</td>\n",
       "      <td>3</td>\n",
       "      <td>£</td>\n",
       "      <td>The Boozy Cow</td>\n",
       "      <td>Burger, Grill</td>\n",
       "      <td>17 Frederick Street, New Town, Edinburgh EH2 2EY</td>\n",
       "      <td>Edinburgh</td>\n",
       "      <td>Very Good</td>\n",
       "    </tr>\n",
       "    <tr>\n",
       "      <th>1176</th>\n",
       "      <td>0</td>\n",
       "      <td>3</td>\n",
       "      <td>£</td>\n",
       "      <td>La Favorita</td>\n",
       "      <td>Italian</td>\n",
       "      <td>325-331 Leith Walk, Leith, Edinburgh EH6 8SA</td>\n",
       "      <td>Edinburgh</td>\n",
       "      <td>Excellent</td>\n",
       "    </tr>\n",
       "    <tr>\n",
       "      <th>1177</th>\n",
       "      <td>0</td>\n",
       "      <td>3</td>\n",
       "      <td>£</td>\n",
       "      <td>Roseleaf Bar Cafe</td>\n",
       "      <td>Scottish, Cafe</td>\n",
       "      <td>23-24 Sandport Place, Leith, Edinburgh EH6 6EW</td>\n",
       "      <td>Edinburgh</td>\n",
       "      <td>Excellent</td>\n",
       "    </tr>\n",
       "    <tr>\n",
       "      <th>1178</th>\n",
       "      <td>0</td>\n",
       "      <td>3</td>\n",
       "      <td>£</td>\n",
       "      <td>Civerinos</td>\n",
       "      <td>Pizza, Italian</td>\n",
       "      <td>5 Hunter Square, Royal Mile, Old Town, Edinbur...</td>\n",
       "      <td>Edinburgh</td>\n",
       "      <td>Good</td>\n",
       "    </tr>\n",
       "    <tr>\n",
       "      <th>1179</th>\n",
       "      <td>0</td>\n",
       "      <td>3</td>\n",
       "      <td>£</td>\n",
       "      <td>The Hanging Bat</td>\n",
       "      <td>American</td>\n",
       "      <td>133 Lothian Road, Old Town, Edinburgh EH3 9AD</td>\n",
       "      <td>Edinburgh</td>\n",
       "      <td>Good</td>\n",
       "    </tr>\n",
       "  </tbody>\n",
       "</table>\n",
       "</div>"
      ],
      "text/plain": [
       "      has_online_delivery  price_range currency               name  \\\n",
       "1175                    0            3        £      The Boozy Cow   \n",
       "1176                    0            3        £        La Favorita   \n",
       "1177                    0            3        £  Roseleaf Bar Cafe   \n",
       "1178                    0            3        £          Civerinos   \n",
       "1179                    0            3        £    The Hanging Bat   \n",
       "\n",
       "            cuisines                                   location.address  \\\n",
       "1175   Burger, Grill   17 Frederick Street, New Town, Edinburgh EH2 2EY   \n",
       "1176         Italian       325-331 Leith Walk, Leith, Edinburgh EH6 8SA   \n",
       "1177  Scottish, Cafe     23-24 Sandport Place, Leith, Edinburgh EH6 6EW   \n",
       "1178  Pizza, Italian  5 Hunter Square, Royal Mile, Old Town, Edinbur...   \n",
       "1179        American      133 Lothian Road, Old Town, Edinburgh EH3 9AD   \n",
       "\n",
       "     location.city user_rating.rating_text  \n",
       "1175     Edinburgh               Very Good  \n",
       "1176     Edinburgh               Excellent  \n",
       "1177     Edinburgh               Excellent  \n",
       "1178     Edinburgh                    Good  \n",
       "1179     Edinburgh                    Good  "
      ]
     },
     "execution_count": 13,
     "metadata": {},
     "output_type": "execute_result"
    }
   ],
   "source": [
    "df.tail()"
   ]
  },
  {
   "attachments": {},
   "cell_type": "markdown",
   "metadata": {},
   "source": [
    "##### Columnas y tipos de datos\n",
    "\n",
    "Si queremos saber un poco más acerca de la estructura de nuestro DataFrame podemos acceder a las propiedades columns y dtypes.\n",
    "\n",
    "columns nos da un objeto que contiene los nombres de todas las columnas:"
   ]
  },
  {
   "cell_type": "code",
   "execution_count": 14,
   "metadata": {},
   "outputs": [
    {
     "data": {
      "text/plain": [
       "Index(['has_online_delivery', 'price_range', 'currency', 'name', 'cuisines',\n",
       "       'location.address', 'location.city', 'user_rating.rating_text'],\n",
       "      dtype='object')"
      ]
     },
     "execution_count": 14,
     "metadata": {},
     "output_type": "execute_result"
    }
   ],
   "source": [
    "df.columns"
   ]
  },
  {
   "attachments": {},
   "cell_type": "markdown",
   "metadata": {},
   "source": [
    "Esto es muy útil cuando tenemos conjuntos de datos muy grandes y queremos saber qué columnas tenemos en un solo vistazo.\n",
    "\n",
    "La propiedad dtypes nos da una Serie donde podemos ver cada columna y el tipo de dato que contiene:"
   ]
  },
  {
   "cell_type": "code",
   "execution_count": 15,
   "metadata": {},
   "outputs": [
    {
     "data": {
      "text/plain": [
       "has_online_delivery         int64\n",
       "price_range                 int64\n",
       "currency                   object\n",
       "name                       object\n",
       "cuisines                   object\n",
       "location.address           object\n",
       "location.city              object\n",
       "user_rating.rating_text    object\n",
       "dtype: object"
      ]
     },
     "execution_count": 15,
     "metadata": {},
     "output_type": "execute_result"
    }
   ],
   "source": [
    "df.dtypes"
   ]
  },
  {
   "attachments": {},
   "cell_type": "markdown",
   "metadata": {},
   "source": [
    "Podemos observar aquí que sólo las columnas has_online_delivery y price_range tienen valores numéricos. Todas las demás columnas tienen tipo object que en este caso parece que se refiere a strings."
   ]
  }
 ],
 "metadata": {
  "kernelspec": {
   "display_name": "Python 3",
   "language": "python",
   "name": "python3"
  },
  "language_info": {
   "codemirror_mode": {
    "name": "ipython",
    "version": 3
   },
   "file_extension": ".py",
   "mimetype": "text/x-python",
   "name": "python",
   "nbconvert_exporter": "python",
   "pygments_lexer": "ipython3",
   "version": "3.10.6"
  },
  "orig_nbformat": 4,
  "vscode": {
   "interpreter": {
    "hash": "aee8b7b246df8f9039afb4144a1f6fd8d2ca17a180786b69acc140d282b71a49"
   }
  }
 },
 "nbformat": 4,
 "nbformat_minor": 2
}
