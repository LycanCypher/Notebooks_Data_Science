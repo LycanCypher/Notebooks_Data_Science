{
 "cells": [
  {
   "attachments": {},
   "cell_type": "markdown",
   "metadata": {},
   "source": [
    "### Programación funcional, operadores lógicos y funciones lambda"
   ]
  },
  {
   "attachments": {},
   "cell_type": "markdown",
   "metadata": {},
   "source": [
    "#### Funciones Map y Filter"
   ]
  },
  {
   "attachments": {},
   "cell_type": "markdown",
   "metadata": {},
   "source": [
    "##### Map\n",
    "Digamos que tenemos una estructura de datos que se ve así:"
   ]
  },
  {
   "cell_type": "code",
   "execution_count": 1,
   "metadata": {},
   "outputs": [],
   "source": [
    "numeros = [1, 2, 3, 4, 5, 6, 7]"
   ]
  },
  {
   "attachments": {},
   "cell_type": "markdown",
   "metadata": {},
   "source": [
    "Como vemos se trata de una lista de enteros. Si quicieramos multiplicar cada uno de sus elementos obteniendo una nueva lista podríamos hacer los siguiente:"
   ]
  },
  {
   "cell_type": "code",
   "execution_count": 2,
   "metadata": {},
   "outputs": [
    {
     "name": "stdout",
     "output_type": "stream",
     "text": [
      "[2, 4, 8, 10, 12, 14]\n"
     ]
    }
   ],
   "source": [
    "numeros_por_dos = [numeros[0] * 2, numeros[1] * 2, numeros[3] * 2, numeros[4] * 2, numeros[5] * 2, numeros[6] * 2]\n",
    "print(numeros_por_dos)"
   ]
  },
  {
   "attachments": {},
   "cell_type": "markdown",
   "metadata": {},
   "source": [
    "En la solución anterior existen dos problemas:\n",
    "- Escribimos muchísimo código (y repetido). Ya aprendimos que una de las reglas de la programación es: si vas a repetir el mismo código múltiples veces, lo mejor sería encapsular ese código en una función.\n",
    "- En segundo lugar, ¿qué pasaría si nuestra lista numeros cambia? Por ejemplo, podríamos agregar elementos o eliminar elementos. En ese caso, el código que estamos utilizando para crear numeros_por_dos podría fallar. Si numeros tiene menos elementos, entonces numeros_por_dos intentaría acceder a un índice que ya no existe y nos lanzaría un error. Si numeros tiene ahora más elementos, entonces numeros_por_dos va a estar incompleto.\n",
    "\n",
    "Es una muy mala idea escribir este tipo de procesos \"a mano\", paso a paso. Vamos a ver ahora cómo podríamos simplificar este proceso usando map.\n",
    "\n",
    "En primer lugar encapsulamos el proceso en una función:"
   ]
  },
  {
   "cell_type": "code",
   "execution_count": 4,
   "metadata": {},
   "outputs": [],
   "source": [
    "def multiplica_por_dos(numero):\n",
    "    return numero * 2"
   ]
  },
  {
   "attachments": {},
   "cell_type": "markdown",
   "metadata": {},
   "source": [
    "Ahora, lo que hace map es lo siguiente:\n",
    "\n",
    "- Recibe una función que queremos aplicar a una lista.\n",
    "- Recibe una lista.\n",
    "- Aplica la función a la lista elemento por elemento y regresa una nueva lista que contiene los elementos de la lista anterior transformados.\n"
   ]
  },
  {
   "cell_type": "code",
   "execution_count": 5,
   "metadata": {},
   "outputs": [
    {
     "data": {
      "text/plain": [
       "<map at 0x10b1e6260>"
      ]
     },
     "execution_count": 5,
     "metadata": {},
     "output_type": "execute_result"
    }
   ],
   "source": [
    "map(multiplica_por_dos, numeros)"
   ]
  },
  {
   "attachments": {},
   "cell_type": "markdown",
   "metadata": {},
   "source": [
    "Ok, todavía no tenemos el output que queramos, ¿verdad?\n",
    "\n",
    "Esta función nos regresó un objeto que se llama map y alguna especie de número incomprensible. Bueno, veamos qué pasa cuando usamos otra función list y le pasamos este objeto map. list es una función que intente convertir cualquier cosa que le pases a una lista:"
   ]
  },
  {
   "cell_type": "code",
   "execution_count": 6,
   "metadata": {},
   "outputs": [
    {
     "data": {
      "text/plain": [
       "[2, 4, 6, 8, 10, 12, 14]"
      ]
     },
     "execution_count": 6,
     "metadata": {},
     "output_type": "execute_result"
    }
   ],
   "source": [
    "list(map(multiplica_por_dos, numeros))"
   ]
  },
  {
   "attachments": {},
   "cell_type": "markdown",
   "metadata": {},
   "source": [
    "Lo logramos! ¿Ves qué diferencia? El resultado de este procedimiento puede ser asignado a una variable para ser utilizado después:"
   ]
  },
  {
   "cell_type": "code",
   "execution_count": 7,
   "metadata": {},
   "outputs": [
    {
     "name": "stdout",
     "output_type": "stream",
     "text": [
      "[2, 4, 6, 8, 10, 12, 14]\n"
     ]
    }
   ],
   "source": [
    "numeros_por_dos = list(map(multiplica_por_dos, numeros))\n",
    "print(numeros_por_dos)"
   ]
  },
  {
   "attachments": {},
   "cell_type": "markdown",
   "metadata": {},
   "source": [
    "Si nuesra lista cambia o crece, no tenemos que cambiar absolutamente nada. map aplica la función elemento por elemento, así que no le importa cuántos elementos haya. Simplemente va a recorrer todos los elementos que encuentre, transformarlos y regresarlos en una nueva lista:"
   ]
  },
  {
   "cell_type": "code",
   "execution_count": 9,
   "metadata": {},
   "outputs": [
    {
     "name": "stdout",
     "output_type": "stream",
     "text": [
      "[2, 4, 6, 8, 10, 12, 14, 16, 18, 20, 22, 24, 26, 28, 30, 32, 34, 36, 38, 40]\n"
     ]
    }
   ],
   "source": [
    "numeros = [1, 2, 3, 4, 5, 6, 7, 8, 9, 10, 11, 12, 13, 14, 15, 16, 17, 18, 19, 20]\n",
    "numeros_por_dos = list(map(multiplica_por_dos, numeros))\n",
    "print(numeros_por_dos)"
   ]
  },
  {
   "attachments": {},
   "cell_type": "markdown",
   "metadata": {},
   "source": [
    "Ésta es una de las razones por las que establecimos que era una buena idea tener listas con un solo tipo de dato. A la hora de querer aplicar una función a toda la lista, las cosas se complican mucho cuando tenemos diversos tipos de datos en la misma estructura de datos.\n",
    "\n",
    "Nuestra función puede ser tan complicada como queramos. Por ejemplo, mira esta función que transforma todos los datos nones en 0s, mientras que los datos pares los regresa sin transformarlos:"
   ]
  },
  {
   "cell_type": "code",
   "execution_count": 10,
   "metadata": {},
   "outputs": [],
   "source": [
    "def non_regresa_0(numero):\n",
    "    if numero % 2 == 0:\n",
    "        return numero\n",
    "    else:\n",
    "        return 0"
   ]
  },
  {
   "attachments": {},
   "cell_type": "markdown",
   "metadata": {},
   "source": [
    "Veamos qué pasa si le aplicamos esta función a otra lista:"
   ]
  },
  {
   "cell_type": "code",
   "execution_count": 11,
   "metadata": {},
   "outputs": [
    {
     "name": "stdout",
     "output_type": "stream",
     "text": [
      "[0, 24, 0, 22, 48, 0, 34, 0, 56, 18, 4]\n"
     ]
    }
   ],
   "source": [
    "numeros = [15, 24, 19, 22, 48, 63, 34, 7, 56, 18, 4]\n",
    "\n",
    "numeros_non_en_cero = list(map(non_regresa_0, numeros))\n",
    "\n",
    "print(numeros_non_en_cero)"
   ]
  },
  {
   "attachments": {},
   "cell_type": "markdown",
   "metadata": {},
   "source": [
    "También podemos transformar de un tipo de datos a otro. Por ejemplo, mira esta función que toma un número y lo regresa en forma de string con el signo de dinero añadido y la unidad MXN:"
   ]
  },
  {
   "cell_type": "code",
   "execution_count": 22,
   "metadata": {},
   "outputs": [],
   "source": [
    "def formato_de_dinero(numero):\n",
    "    return f'${float(numero)} MXN'"
   ]
  },
  {
   "cell_type": "code",
   "execution_count": 23,
   "metadata": {},
   "outputs": [
    {
     "name": "stdout",
     "output_type": "stream",
     "text": [
      "['$6.0 MXN', '$25.0 MXN', '$44.0 MXN', '$76.0 MXN', '$15.0 MXN', '$53.0 MXN', '$18.0 MXN']\n"
     ]
    }
   ],
   "source": [
    "numeros = [6, 25, 44, 76, 15, 53, 18]\n",
    "\n",
    "numeros_formato_dinero = list(map(formato_de_dinero, numeros))\n",
    "\n",
    "print(numeros_formato_dinero)"
   ]
  },
  {
   "attachments": {},
   "cell_type": "markdown",
   "metadata": {},
   "source": [
    "##### Filter\n",
    "\n",
    "El nombre de la función filter explica exactamente lo que la función hace: filtrar. ¿Filtrar qué? Pues elementos en una lista. Veamos cómo lo hace."
   ]
  },
  {
   "cell_type": "code",
   "execution_count": 24,
   "metadata": {},
   "outputs": [],
   "source": [
    "numeros = [7, -23, 51, 6, -15, -4, 22, 72, -45, -16]"
   ]
  },
  {
   "attachments": {},
   "cell_type": "markdown",
   "metadata": {},
   "source": [
    "Ahora digamos que lo que queremos hacer con esta lista es filtrar todos los valores positivos. Esto significa que la lista resultante solamente va a contener números positivos.\n",
    "\n",
    "¿Cómo vamos a hacer eso? Pues primero necesitamos una función que nos \"avise\" cuando un número es positivo:"
   ]
  },
  {
   "cell_type": "code",
   "execution_count": 25,
   "metadata": {},
   "outputs": [],
   "source": [
    "def numero_es_positivo(numero):\n",
    "    if numero >= 0:\n",
    "        return True\n",
    "    else:\n",
    "        return False"
   ]
  },
  {
   "attachments": {},
   "cell_type": "markdown",
   "metadata": {},
   "source": [
    "Ahora veamos qué pasa si usamos filter con esta función y nuestra lista numeros:"
   ]
  },
  {
   "cell_type": "code",
   "execution_count": 26,
   "metadata": {},
   "outputs": [
    {
     "data": {
      "text/plain": [
       "[7, 51, 6, 22, 72]"
      ]
     },
     "execution_count": 26,
     "metadata": {},
     "output_type": "execute_result"
    }
   ],
   "source": [
    "list(filter(numero_es_positivo, numeros))"
   ]
  },
  {
   "cell_type": "code",
   "execution_count": 27,
   "metadata": {},
   "outputs": [],
   "source": [
    "def numero_es_negativo(numero):\n",
    "    if numero < 0:\n",
    "        return True\n",
    "    else:\n",
    "        return False"
   ]
  },
  {
   "cell_type": "code",
   "execution_count": 28,
   "metadata": {},
   "outputs": [
    {
     "data": {
      "text/plain": [
       "[-23, -15, -4, -45, -16]"
      ]
     },
     "execution_count": 28,
     "metadata": {},
     "output_type": "execute_result"
    }
   ],
   "source": [
    "list(filter(numero_es_negativo, numeros))"
   ]
  },
  {
   "attachments": {},
   "cell_type": "markdown",
   "metadata": {},
   "source": [
    "#### Operadores lógicos"
   ]
  },
  {
   "attachments": {},
   "cell_type": "markdown",
   "metadata": {},
   "source": [
    "##### and"
   ]
  },
  {
   "attachments": {},
   "cell_type": "markdown",
   "metadata": {},
   "source": [
    "and une dos sentencias de comparación y regresa True sólo cuando ambas sentencias regresen True. En este primer ejemplo, estamos reemplazando las sentencias por simples booleanos, pero sólo lo hacemos para simplificar la lógica y hacer muy evidente el funcionamiento de and. En esta tablita los 1s representan True y los 0s representan False:"
   ]
  },
  {
   "cell_type": "code",
   "execution_count": 36,
   "metadata": {},
   "outputs": [
    {
     "name": "stdout",
     "output_type": "stream",
     "text": [
      "        |True    |False   \n",
      "True    |       1|       0\n",
      "False   |       0|       0\n"
     ]
    }
   ],
   "source": [
    "print(f'{(\"\"):8}|{(\"True\"):8}|{(\"False\"):8}')\n",
    "print(f'{(\"True\"):8}|{(True and True):8}|{(True and False):8}')\n",
    "print(f'{(\"False\"):8}|{(False and True):8}|{(False and False):8}')"
   ]
  },
  {
   "cell_type": "code",
   "execution_count": 39,
   "metadata": {},
   "outputs": [
    {
     "name": "stdout",
     "output_type": "stream",
     "text": [
      "True\n",
      "False\n",
      "False\n"
     ]
    }
   ],
   "source": [
    "#Ambas comparaciones verdaderas\n",
    "print(55 > 12 and 12 > 5)\n",
    "#Una verdadera y una falsa\n",
    "print(7 < 21 and 8 > 49)\n",
    "#Ambas comparaciones falsas\n",
    "print(5 < 2 and 8 < 4)"
   ]
  },
  {
   "attachments": {},
   "cell_type": "markdown",
   "metadata": {},
   "source": [
    "Probando con filter:"
   ]
  },
  {
   "cell_type": "code",
   "execution_count": 40,
   "metadata": {},
   "outputs": [],
   "source": [
    "numeros = [35, 61, 23, 5, 12, 68, 73, 64, 25, 4, 76, 51, 13, 44]"
   ]
  },
  {
   "attachments": {},
   "cell_type": "markdown",
   "metadata": {},
   "source": [
    "A la lista de arriba le queremos aplicar un filtro que cumpla dos condiciones; que se trate de un número non y que además sea mayor a 30.\n",
    "\n",
    "Así, comenzamos por definir nuestra función:"
   ]
  },
  {
   "cell_type": "code",
   "execution_count": 43,
   "metadata": {},
   "outputs": [],
   "source": [
    "def non_y_mayor_a_30(numero):\n",
    "    #Solo en caso de que ambas condiciones se cumplan regresa True\n",
    "    return numero > 30 and numero % 2 == 1"
   ]
  },
  {
   "cell_type": "code",
   "execution_count": 44,
   "metadata": {},
   "outputs": [
    {
     "data": {
      "text/plain": [
       "[35, 61, 73, 51]"
      ]
     },
     "execution_count": 44,
     "metadata": {},
     "output_type": "execute_result"
    }
   ],
   "source": [
    "list(filter(non_y_mayor_a_30, numeros))"
   ]
  },
  {
   "attachments": {},
   "cell_type": "markdown",
   "metadata": {},
   "source": [
    "##### or\n",
    "\n",
    "or une dos sentencias de comparación y regresa True si una de las dos o ambas sentencias regresen True. Es decir, si hay True en nuestra sentencia, or regresa True:"
   ]
  },
  {
   "cell_type": "code",
   "execution_count": 45,
   "metadata": {},
   "outputs": [
    {
     "name": "stdout",
     "output_type": "stream",
     "text": [
      "        |True    |False   \n",
      "True    |       1|       1\n",
      "False   |       1|       0\n"
     ]
    }
   ],
   "source": [
    "print(f'{(\"\"):8}|{(\"True\"):8}|{(\"False\"):8}')\n",
    "print(f'{(\"True\"):8}|{(True or True):8}|{(True or False):8}')\n",
    "print(f'{(\"False\"):8}|{(False or True):8}|{(False or False):8}')"
   ]
  },
  {
   "cell_type": "code",
   "execution_count": 46,
   "metadata": {},
   "outputs": [
    {
     "name": "stdout",
     "output_type": "stream",
     "text": [
      "True\n",
      "True\n",
      "False\n"
     ]
    }
   ],
   "source": [
    "#Ambas comparaciones verdaderas\n",
    "print(36 > 24 or 18 > 15)\n",
    "#Una verdadera y una falsa\n",
    "print(14 < 24 or 4 > 41)\n",
    "#Ambas comparaciones falsas\n",
    "print(51 < 23 or 31 < 28)"
   ]
  },
  {
   "attachments": {},
   "cell_type": "markdown",
   "metadata": {},
   "source": [
    "Ahora nuestra función nos ayudará a filtrar aquellos números non o mayores a 30"
   ]
  },
  {
   "cell_type": "code",
   "execution_count": 47,
   "metadata": {},
   "outputs": [],
   "source": [
    "def non_o_mayor_a_30(numero):\n",
    "    #En caso de que alguna de las condiciones se cumpla regresa True\n",
    "    return numero > 30 or numero % 2 == 1"
   ]
  },
  {
   "cell_type": "code",
   "execution_count": 48,
   "metadata": {},
   "outputs": [
    {
     "data": {
      "text/plain": [
       "[35, 61, 23, 5, 68, 73, 64, 25, 76, 51, 13, 44]"
      ]
     },
     "execution_count": 48,
     "metadata": {},
     "output_type": "execute_result"
    }
   ],
   "source": [
    "list(filter(non_o_mayor_a_30, numeros))"
   ]
  },
  {
   "attachments": {},
   "cell_type": "markdown",
   "metadata": {},
   "source": [
    "##### not\n",
    "\n",
    "El último operador es mucho más sencillo. Lo único que hace este operador es regresar el valor booleano opuesto al que recibió:"
   ]
  },
  {
   "cell_type": "code",
   "execution_count": 49,
   "metadata": {},
   "outputs": [
    {
     "name": "stdout",
     "output_type": "stream",
     "text": [
      "True    |       0\n",
      "False   |       1\n"
     ]
    }
   ],
   "source": [
    "print(f'{(\"True\"):8}|{(not True):8}')\n",
    "print(f'{(\"False\"):8}|{(not False):8}')"
   ]
  },
  {
   "cell_type": "code",
   "execution_count": 51,
   "metadata": {},
   "outputs": [
    {
     "data": {
      "text/plain": [
       "[23, 5, 12, 68, 64, 25, 4, 76, 13, 44]"
      ]
     },
     "execution_count": 51,
     "metadata": {},
     "output_type": "execute_result"
    }
   ],
   "source": [
    "#Filtrando los número que no sean nones o no sean mayores a 30\n",
    "#Es el complemento del filtro sin el not\n",
    "list(filter(lambda x: not non_y_mayor_a_30(x), numeros))"
   ]
  },
  {
   "attachments": {},
   "cell_type": "markdown",
   "metadata": {},
   "source": [
    "¿lambda?\n",
    "\n",
    "#### Funciones lambda\n",
    "\n",
    "Las funciones lambda son simplemente maneras simplificadas de escribir las funciones que ya conocemos tan bien. No necesitamos entender ningún nuevo concepto, sólo aprender una nueva sintaxis. La sintaxis de una función lambda es la siguiente:"
   ]
  },
  {
   "cell_type": "code",
   "execution_count": null,
   "metadata": {},
   "outputs": [],
   "source": [
    "lambda x: x * 100"
   ]
  },
  {
   "cell_type": "code",
   "execution_count": 55,
   "metadata": {},
   "outputs": [],
   "source": [
    "numeros = [1, 2, 3, 4, 5]"
   ]
  },
  {
   "cell_type": "code",
   "execution_count": 56,
   "metadata": {},
   "outputs": [
    {
     "data": {
      "text/plain": [
       "[100, 200, 300, 400, 500]"
      ]
     },
     "execution_count": 56,
     "metadata": {},
     "output_type": "execute_result"
    }
   ],
   "source": [
    "#lambda con map\n",
    "list(map(lambda x: x * 100, numeros))"
   ]
  },
  {
   "cell_type": "code",
   "execution_count": 57,
   "metadata": {},
   "outputs": [
    {
     "data": {
      "text/plain": [
       "[2, 6, 12, 20, 30]"
      ]
     },
     "execution_count": 57,
     "metadata": {},
     "output_type": "execute_result"
    }
   ],
   "source": [
    "list(map(lambda x: x * (x + 1), numeros))"
   ]
  },
  {
   "cell_type": "code",
   "execution_count": 60,
   "metadata": {},
   "outputs": [
    {
     "data": {
      "text/plain": [
       "[2, 3, 4, 5]"
      ]
     },
     "execution_count": 60,
     "metadata": {},
     "output_type": "execute_result"
    }
   ],
   "source": [
    "#lambda con filter\n",
    "list(filter(lambda x: x >= 2, numeros))"
   ]
  },
  {
   "cell_type": "code",
   "execution_count": 61,
   "metadata": {},
   "outputs": [],
   "source": [
    "numeros = [35, 61, 23, 5, 12, 68, 73, 64, 25, 4, 76, 51, 13, 44]"
   ]
  },
  {
   "cell_type": "code",
   "execution_count": 62,
   "metadata": {},
   "outputs": [],
   "source": [
    "def numero_par(numero):\n",
    "    return numero % 2 == 0"
   ]
  },
  {
   "cell_type": "code",
   "execution_count": 63,
   "metadata": {},
   "outputs": [],
   "source": [
    "def numero_menor_a_30(numero):\n",
    "    return numero < 30"
   ]
  },
  {
   "cell_type": "code",
   "execution_count": 65,
   "metadata": {},
   "outputs": [
    {
     "data": {
      "text/plain": [
       "[12, 4]"
      ]
     },
     "execution_count": 65,
     "metadata": {},
     "output_type": "execute_result"
    }
   ],
   "source": [
    "#Aplicando lambda con dos funciones y un operador lógico\n",
    "list(filter(lambda x: numero_par(x) and numero_menor_a_30(x), numeros))"
   ]
  }
 ],
 "metadata": {
  "kernelspec": {
   "display_name": "Python 3",
   "language": "python",
   "name": "python3"
  },
  "language_info": {
   "codemirror_mode": {
    "name": "ipython",
    "version": 3
   },
   "file_extension": ".py",
   "mimetype": "text/x-python",
   "name": "python",
   "nbconvert_exporter": "python",
   "pygments_lexer": "ipython3",
   "version": "3.10.6 (main, Aug 30 2022, 05:09:33) [Clang 12.0.0 (clang-1200.0.32.29)]"
  },
  "orig_nbformat": 4,
  "vscode": {
   "interpreter": {
    "hash": "aee8b7b246df8f9039afb4144a1f6fd8d2ca17a180786b69acc140d282b71a49"
   }
  }
 },
 "nbformat": 4,
 "nbformat_minor": 2
}
