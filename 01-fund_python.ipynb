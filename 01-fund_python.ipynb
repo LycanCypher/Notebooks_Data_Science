{
 "cells": [
  {
   "attachments": {},
   "cell_type": "markdown",
   "metadata": {},
   "source": [
    "## S1 - Fundamentos de Python"
   ]
  },
  {
   "attachments": {},
   "cell_type": "markdown",
   "metadata": {},
   "source": [
    "### Declaración de variables y operadores matemáticos"
   ]
  },
  {
   "cell_type": "code",
   "execution_count": 2,
   "metadata": {},
   "outputs": [],
   "source": [
    "var_1 = 20\n",
    "var_2 = 15\n",
    "var_3 = 30\n",
    "var_4 = 5"
   ]
  },
  {
   "cell_type": "code",
   "execution_count": 22,
   "metadata": {},
   "outputs": [
    {
     "name": "stdout",
     "output_type": "stream",
     "text": [
      "35\n",
      "25\n",
      "400\n",
      "2.0\n"
     ]
    }
   ],
   "source": [
    "print(var_1 + var_2)\n",
    "print(var_3 - var_4)\n",
    "print(var_1 * (var_2 + var_4))\n",
    "print((var_3 - var_1) / var_4)"
   ]
  },
  {
   "attachments": {},
   "cell_type": "markdown",
   "metadata": {},
   "source": [
    "### Tipos de datos\n",
    "- Entero (int)\n",
    "- Flotante (float)\n",
    "- Booleano (bool)\n",
    "- Cadena de caracteres (str)"
   ]
  },
  {
   "cell_type": "code",
   "execution_count": 4,
   "metadata": {},
   "outputs": [
    {
     "name": "stdout",
     "output_type": "stream",
     "text": [
      "18\n",
      "<class 'int'>\n",
      "Tipo: int\n",
      "6.5\n",
      "<class 'float'>\n",
      "Tipo: float\n",
      "True\n",
      "<class 'bool'>\n",
      "Tipo: bool\n",
      "cadena\n",
      "<class 'str'>\n",
      "Tipo: str\n"
     ]
    }
   ],
   "source": [
    "var_int = 18\n",
    "var_float = 6.5\n",
    "var_bool = True\n",
    "var_string = 'cadena'\n",
    "print(var_int)\n",
    "print(type(var_int))\n",
    "print(f'Tipo: {type(var_int).__name__}')\n",
    "\n",
    "print(var_float)\n",
    "print(type(var_float))\n",
    "print(f'Tipo: {type(var_float).__name__}')\n",
    "\n",
    "print(var_bool)\n",
    "print(type(var_bool))\n",
    "print(f'Tipo: {type(var_bool).__name__}')\n",
    "\n",
    "print(var_string)\n",
    "print(type(var_string))\n",
    "print(f'Tipo: {type(var_string).__name__}')"
   ]
  },
  {
   "attachments": {},
   "cell_type": "markdown",
   "metadata": {},
   "source": [
    "### Interpolación de strings"
   ]
  },
  {
   "cell_type": "code",
   "execution_count": 7,
   "metadata": {},
   "outputs": [
    {
     "name": "stdout",
     "output_type": "stream",
     "text": [
      "El valor de la variable var_1 es: 20\n",
      "La variable var_bool tiene un valor igual a True\n",
      "La resta de las variables var_2 y var_4 es: 10\n",
      "Valor de la variable var_1: 20\n",
      "Esta es otra forma de mostrar el valor de var_1, que es: 20\n"
     ]
    }
   ],
   "source": [
    "print(f'El valor de la variable var_1 es: {var_1}')\n",
    "print(f'La variable var_bool tiene un valor igual a {var_bool}')\n",
    "print(f'La resta de las variables var_2 y var_4 es: {var_2 - var_4}')\n",
    "\n",
    "print('Valor de la variable var_1:', var_1)\n",
    "print('Esta es otra forma de mostrar el valor de var_1, que es: ' + str(var_1))"
   ]
  },
  {
   "attachments": {},
   "cell_type": "markdown",
   "metadata": {},
   "source": [
    "### Operadores de comparación"
   ]
  },
  {
   "cell_type": "code",
   "execution_count": 5,
   "metadata": {},
   "outputs": [
    {
     "name": "stdout",
     "output_type": "stream",
     "text": [
      "False\n",
      "True\n",
      "True\n",
      "False\n",
      "True\n",
      "Comparando cadenas\n",
      "True\n",
      "True\n",
      "False\n",
      "False\n",
      "True\n",
      "True\n",
      "False\n",
      "True\n",
      "True\n",
      "True\n"
     ]
    }
   ],
   "source": [
    "print(var_2 > var_3) # 15 > 30 -- False\n",
    "print(var_1 == var_2 + var_4) # 20 == 15 + 5 -- True\n",
    "print(var_3 != var_int) # 30 != 18 -- True\n",
    "print(var_4 * 3 < var_3 - var_1) # 5 * 3 < 30 - 20 -- False\n",
    "print(var_3 >= (var_2 * 2)) # 30 >= 15 * 2 -- True\n",
    "\n",
    "print('Comparando cadenas')\n",
    "str1 = 'Mark'\n",
    "str2 = 'Jack'\n",
    "str3 = 'Abigail'\n",
    "hi_1 = 'HOLA'\n",
    "hi_2 = 'hola'\n",
    "\n",
    "#Comparación unicode\n",
    "print(str1 > str2) #True\n",
    "print(str2 > str3) #True\n",
    "print(str1 < str2) #False\n",
    "print(str1 == str2) #False\n",
    "print(str1 != str2) #True\n",
    "print(str1 >= str2) #True\n",
    "print(str1 <= str2) #False\n",
    "\n",
    "print(hi_1.casefold() == hi_2) #True\n",
    "print(hi_1 == hi_2.upper()) #True\n",
    "print(len(hi_1) == len(hi_2)) #true\n"
   ]
  },
  {
   "attachments": {},
   "cell_type": "markdown",
   "metadata": {},
   "source": [
    "### Estructuras de control de flujo (condicionales)\n",
    "- if\n",
    "- elif\n",
    "- else"
   ]
  },
  {
   "cell_type": "code",
   "execution_count": 25,
   "metadata": {},
   "outputs": [
    {
     "name": "stdout",
     "output_type": "stream",
     "text": [
      "Efectivamente, 7 es mayor que 4\n"
     ]
    }
   ],
   "source": [
    "if 7 > 4:\n",
    "    print('Efectivamente, 7 es mayor que 4')\n",
    "else:\n",
    "    print('Este mensaje es en caso de que la condición no se cumpla')"
   ]
  },
  {
   "cell_type": "code",
   "execution_count": 30,
   "metadata": {},
   "outputs": [
    {
     "name": "stdout",
     "output_type": "stream",
     "text": [
      "Las variables var_a y var_b son iguales\n"
     ]
    }
   ],
   "source": [
    "var_a = 12\n",
    "var_b = 12\n",
    "\n",
    "if var_a > var_b:\n",
    "    print('La variable var_a es mayor a la variable var_b')\n",
    "elif var_a < var_b:\n",
    "    print('La variable var_a es menor a la variable var_b')\n",
    "else:\n",
    "    print('Las variables var_a y var_b son iguales')"
   ]
  },
  {
   "attachments": {},
   "cell_type": "markdown",
   "metadata": {},
   "source": [
    "### Conversión de datos (casting)"
   ]
  },
  {
   "attachments": {},
   "cell_type": "markdown",
   "metadata": {},
   "source": [
    "##### de float a int"
   ]
  },
  {
   "cell_type": "code",
   "execution_count": 4,
   "metadata": {},
   "outputs": [
    {
     "name": "stdout",
     "output_type": "stream",
     "text": [
      "5\n",
      "6\n"
     ]
    }
   ],
   "source": [
    "# ejemplo de un impredecible\n",
    "# comportamiento de int()\n",
    "\n",
    "num1 = 5.9\n",
    "num2 = 5.99999999999999999999\n",
    "\n",
    "num1 = int(num1)\n",
    "num2 = int(num2)\n",
    "\n",
    "print(num1, num2, sep = '\\n')\n"
   ]
  },
  {
   "attachments": {},
   "cell_type": "markdown",
   "metadata": {},
   "source": [
    "#### Conversión usando floor y ceil del módulo math"
   ]
  },
  {
   "cell_type": "code",
   "execution_count": 6,
   "metadata": {},
   "outputs": [
    {
     "name": "stdout",
     "output_type": "stream",
     "text": [
      "El resultado usando la función floor() :  5 , type :  int\n",
      "El resultado usando la función ceil() :  6 , type:  int\n"
     ]
    }
   ],
   "source": [
    "# importing math module\n",
    "import math\t\n",
    "\n",
    "num = 5.6\n",
    "\n",
    "floor_value = math.floor(num)\n",
    "\n",
    "ceil_value = math.ceil(num)\n",
    "\n",
    "print(\"El resultado usando la función floor() : \",\n",
    "\tfloor_value ,\n",
    "\t', type : ',type(floor_value).__name__)\n",
    "\n",
    "print(\"El resultado usando la función ceil() : \",\n",
    "\tceil_value,\n",
    "\t', type: ', type(ceil_value).__name__)\n"
   ]
  },
  {
   "attachments": {},
   "cell_type": "markdown",
   "metadata": {},
   "source": [
    "#### Conversión usando la función round()"
   ]
  },
  {
   "cell_type": "code",
   "execution_count": 30,
   "metadata": {},
   "outputs": [
    {
     "name": "stdout",
     "output_type": "stream",
     "text": [
      "Type :  float\n",
      "El número original es:  5.653\n",
      "Type :  int\n",
      "El valor redondeado sin decimales es:  6\n",
      "Type :  float\n",
      "El valor redondeado con 1 decimale es:  5.7\n",
      "Type :  float\n",
      "El valor redondeado con 2 decimales es:  5.65\n"
     ]
    }
   ],
   "source": [
    "num = 5.653\n",
    "\n",
    "# Antes de la conversión valor y tipo\n",
    "print( 'Type : ', type(num).__name__)\n",
    "print( \"El número original es: \", num)\n",
    "\n",
    "# conversión a int\n",
    "value0 = round(num)\n",
    "\n",
    "# se mantienen como float\n",
    "value1 = round(num, 1)\n",
    "value2 = round(num, 2)\n",
    "\n",
    "\n",
    "print( 'Type : ',type(value0).__name__) \n",
    "print(\"El valor redondeado sin decimales es: \", value0)\n",
    "print( 'Type : ',type(value1).__name__) \n",
    "print(\"El valor redondeado con 1 decimale es: \", value1)\n",
    "print( 'Type : ',type(value2).__name__) \n",
    "print(\"El valor redondeado con 2 decimales es: \", value2)\n"
   ]
  },
  {
   "attachments": {},
   "cell_type": "markdown",
   "metadata": {},
   "source": [
    "#### Conversión usando la función math.trunc()"
   ]
  },
  {
   "cell_type": "code",
   "execution_count": 36,
   "metadata": {},
   "outputs": [
    {
     "name": "stdout",
     "output_type": "stream",
     "text": [
      "Type of value :  int\n",
      "the result using trunc :  -2\n",
      "Type of data:  int\n",
      "the result using trunc :  5\n"
     ]
    }
   ],
   "source": [
    "import math\n",
    "num = 5.6\n",
    "num2 = -2.6\n",
    "\n",
    "# conversión de un número negativo a int\n",
    "value = math.trunc(num2)\n",
    "\n",
    "print( 'Type of value : ',type(value).__name__)\n",
    "print(\"the result using trunc : \",value)\n",
    "\n",
    "# conversión de un número positivo a int\n",
    "data = math.trunc(num)\n",
    "\n",
    "print( 'Type of data: ',type(data).__name__)\n",
    "print(\"the result using trunc : \", data)"
   ]
  },
  {
   "attachments": {},
   "cell_type": "markdown",
   "metadata": {},
   "source": [
    "#### de str a número (int o float)"
   ]
  },
  {
   "cell_type": "code",
   "execution_count": 33,
   "metadata": {},
   "outputs": [
    {
     "name": "stdout",
     "output_type": "stream",
     "text": [
      "444\n",
      "333.3\n"
     ]
    }
   ],
   "source": [
    "str_num1 = '123'\n",
    "str_num2 = '321'\n",
    "str_num3 = '12.3'\n",
    "\n",
    "print(int(str_num1) + int(str_num2))\n",
    "print(int(str_num2) + float(str_num3))"
   ]
  },
  {
   "attachments": {},
   "cell_type": "markdown",
   "metadata": {},
   "source": [
    "#### de int a bool (0, 1)"
   ]
  },
  {
   "cell_type": "code",
   "execution_count": 34,
   "metadata": {},
   "outputs": [
    {
     "name": "stdout",
     "output_type": "stream",
     "text": [
      "False\n",
      "True\n"
     ]
    }
   ],
   "source": [
    "int_bin0 = 0\n",
    "int_bin1 = 1\n",
    "\n",
    "print(bool(int_bin0), bool(int_bin1), sep = '\\n')"
   ]
  }
 ],
 "metadata": {
  "kernelspec": {
   "display_name": "Python 3",
   "language": "python",
   "name": "python3"
  },
  "language_info": {
   "codemirror_mode": {
    "name": "ipython",
    "version": 3
   },
   "file_extension": ".py",
   "mimetype": "text/x-python",
   "name": "python",
   "nbconvert_exporter": "python",
   "pygments_lexer": "ipython3",
   "version": "3.11.2"
  },
  "orig_nbformat": 4,
  "vscode": {
   "interpreter": {
    "hash": "aee8b7b246df8f9039afb4144a1f6fd8d2ca17a180786b69acc140d282b71a49"
   }
  }
 },
 "nbformat": 4,
 "nbformat_minor": 2
}
