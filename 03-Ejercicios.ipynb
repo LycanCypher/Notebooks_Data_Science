{
 "cells": [
  {
   "attachments": {},
   "cell_type": "markdown",
   "metadata": {},
   "source": [
    "### Ejercicios de la S3\n",
    "\n",
    "#### Reto1: Map\n",
    "\n",
    "##### 1. Objetivos:\n",
    "    - Practicar el uso de `map` para transformar los datos en una `lista`\n",
    " \n",
    "---\n",
    "    \n",
    "##### 2. Desarrollo:\n",
    "\n",
    "##### a) Proporción a porcentajes\n",
    "\n",
    "Tenemos una lista que contiene proporciones:"
   ]
  },
  {
   "cell_type": "code",
   "execution_count": 1,
   "metadata": {},
   "outputs": [],
   "source": [
    "proporciones = [0.45, 0.2, 0.78, 0.4, 0.77, 0.9, 0.4, 0.5, 0.67, 0.24, 0.73]"
   ]
  },
  {
   "attachments": {},
   "cell_type": "markdown",
   "metadata": {},
   "source": [
    "Queremos convertir esta lista en una lista `porcentajes`, donde las proporciones hayan sido convertidas a porcentajes. Termina la función `proporcion_a_porcentajes` y después utiliza `map` para convertir `proporciones` y asignar la lista transformada a `porcentajes`:"
   ]
  },
  {
   "cell_type": "code",
   "execution_count": 2,
   "metadata": {},
   "outputs": [],
   "source": [
    "def proporcion_a_porcentajes(proporcion):\n",
    "    \n",
    "    ## Tu código va aquí\n",
    "    # ...\n",
    "    # ...\n",
    "    \n",
    "    return proporcion * 100"
   ]
  },
  {
   "cell_type": "code",
   "execution_count": 3,
   "metadata": {},
   "outputs": [
    {
     "name": "stdout",
     "output_type": "stream",
     "text": [
      "[45.0, 20.0, 78.0, 40.0, 77.0, 90.0, 40.0, 50.0, 67.0, 24.0, 73.0]\n"
     ]
    }
   ],
   "source": [
    "porcentajes = list(map(proporcion_a_porcentajes, proporciones))\n",
    "\n",
    "print(porcentajes)"
   ]
  },
  {
   "attachments": {},
   "cell_type": "markdown",
   "metadata": {},
   "source": [
    "Corre después la siguiente celda para obtener una representación en `string`. No importa si no entiendes por completo qué está pasando en la siguiente celda. Más adelante en el módulo aprenderemos a hacer esto y más."
   ]
  },
  {
   "cell_type": "code",
   "execution_count": 4,
   "metadata": {},
   "outputs": [
    {
     "name": "stdout",
     "output_type": "stream",
     "text": [
      "==Proporciones y su equivalencia en porcentajes de 1==\n",
      "\n",
      "- 0.45 es el 45% de 1.\n",
      "- 0.2 es el 20% de 1.\n",
      "- 0.78 es el 78% de 1.\n",
      "- 0.4 es el 40% de 1.\n",
      "- 0.77 es el 77% de 1.\n",
      "- 0.9 es el 90% de 1.\n",
      "- 0.4 es el 40% de 1.\n",
      "- 0.5 es el 50% de 1.\n",
      "- 0.67 es el 67% de 1.\n",
      "- 0.24 es el 24% de 1.\n",
      "- 0.73 es el 73% de 1.\n"
     ]
    }
   ],
   "source": [
    "# Pega aquí la función de verificación\n",
    "def imprimir_proporciones_en_equivalencia_a_porcentajes(proporciones, porcentajes):\n",
    "    \n",
    "    print(f'==Proporciones y su equivalencia en porcentajes de 1==\\n')\n",
    "    \n",
    "    for i in range(len(proporciones)):\n",
    "        print(f'- {proporciones[i]} es el {int(porcentajes[i])}% de 1.')\n",
    "        \n",
    "\n",
    "def imprimir_analisis_estadistico(datos):\n",
    "    \n",
    "    def mediana(datos):\n",
    "        datos_sorted = sorted(datos)\n",
    "        len_datos = len(datos)\n",
    "        \n",
    "        if len_datos % 2 == 0:\n",
    "            mediana = (datos_sorted[int(len_datos / 2) - 1] + datos_sorted[int(len_datos / 2)]) / 2\n",
    "        else:\n",
    "            import math\n",
    "            mediana = datos_sorted[int(math.floor(len_datos / 2))]\n",
    "            \n",
    "        return mediana\n",
    "    \n",
    "    print(f'==Análisis estadístico de los datos recibidos==\\n')\n",
    "    print(f'Valor mínimo: {min(datos)}')\n",
    "    print(f'Valor máximo: {max(datos)}')\n",
    "    print(f'Rango de valores: {max(datos) - min(datos)}')\n",
    "    print(f'Promedio: {sum(datos) / len(datos)}')\n",
    "    print(f'Mediana: {mediana(datos)}')\n",
    "\n",
    "imprimir_proporciones_en_equivalencia_a_porcentajes(proporciones, porcentajes)"
   ]
  },
  {
   "attachments": {},
   "cell_type": "markdown",
   "metadata": {},
   "source": [
    "#### Reto 2: Filter\n",
    "\n",
    "##### 1. Objetivos:\n",
    "    - Practicar el uso de `filter` para filtrar los datos en una `lista`\n",
    " \n",
    "---\n",
    "    \n",
    "##### 2. Desarrollo:\n",
    "\n",
    "##### a) Limpiando datos nulos\n",
    "\n",
    "Debajo tenemos una `lista` que incluye datos acerca de las edades de las personas que han atendido a un curso de Cocina Medieval (ya sabes: puerco al horno, manzanas asadas, aguardiente, sangre fresca de tus enemigos). Algunas de las personas que atendieron no quisieron dar su edad. Es por eso que algunos de los elementos son `None`:"
   ]
  },
  {
   "cell_type": "code",
   "execution_count": 5,
   "metadata": {},
   "outputs": [],
   "source": [
    "edades = [12, 16, 19, None, 21, 25, 24, None, None, 16, 17, 25, 23, 28, None, 23, 35, 59, 67, None, 34, 21, 23, 15, 14, None, 18, 24, 23, 17]"
   ]
  },
  {
   "attachments": {},
   "cell_type": "markdown",
   "metadata": {},
   "source": [
    "Queremos realizar una pequeña visualización (un histograma, que ya aprenderás a hacer más tarde) con nuestros datos. Pero no nos interesan los datos que vienen como `None`. Escribe una función llamada `valor_no_es_none` que reciba un valor, cheque si el valor es `None`, regrese `False` si el valor es `None` o regrese `True` si el valor **no** es `None`. Después úsala para filtrar tus datos:"
   ]
  },
  {
   "cell_type": "code",
   "execution_count": 6,
   "metadata": {},
   "outputs": [],
   "source": [
    "## Tu función va aquí\n",
    "##\n",
    "## ...\n",
    "## ...\n",
    "def valor_no_es_none(valor):\n",
    "    return valor != None"
   ]
  },
  {
   "cell_type": "code",
   "execution_count": 7,
   "metadata": {},
   "outputs": [
    {
     "name": "stdout",
     "output_type": "stream",
     "text": [
      "[12, 16, 19, 21, 25, 24, 16, 17, 25, 23, 28, 23, 35, 59, 67, 34, 21, 23, 15, 14, 18, 24, 23, 17]\n"
     ]
    }
   ],
   "source": [
    "edades_filtradas = list(filter(valor_no_es_none, edades))\n",
    "\n",
    "print(edades_filtradas)"
   ]
  },
  {
   "cell_type": "code",
   "execution_count": 10,
   "metadata": {},
   "outputs": [
    {
     "data": {
      "image/png": "[encoded data removed]",
      "text/plain": [
       "<Figure size 640x480 with 1 Axes>"
      ]
     },
     "metadata": {},
     "output_type": "display_data"
    }
   ],
   "source": [
    " #Pega aquí la función de verificación\n",
    " def crear_histograma_con(datos):\n",
    "    import seaborn as sns\n",
    "    import numpy as np\n",
    "    \n",
    "    sns.histplot(datos, kde=False, bins=len(np.unique(datos)))\n",
    "\n",
    "crear_histograma_con(edades_filtradas)"
   ]
  },
  {
   "attachments": {},
   "cell_type": "markdown",
   "metadata": {},
   "source": [
    "##### b) Filtrando datos atípicos\n",
    "\n",
    "Aquí tenemos una `lista` que contiene datos acerca de los sueldos (cada número representa \"miles de pesos\") de los empleados de EyePoker Inc. (la empresa donde se producen los mejores picadores de ojos en todo el Hemisferio Occidental):"
   ]
  },
  {
   "cell_type": "code",
   "execution_count": 11,
   "metadata": {},
   "outputs": [],
   "source": [
    "sueldos = [26, 32, 26, 30, 30, 32, 28, 30, 28, 110, 34, 30, 28, 26, 28, 30, 28, 85, 25, 30, 34, 34, 30, 30, 120, 28, 28, 120, 125]"
   ]
  },
  {
   "attachments": {},
   "cell_type": "markdown",
   "metadata": {},
   "source": [
    "En general todos los sueldos se encuentran en un rango bastante restringido, pero tenemos algunos datos sobre sueldos \"anormalmente\" grandes. Los sueldos tan grandes son los de los ejecutivos, que claramente no tienen ninguna noción de \"justicia\" (eso pasa cuando tus picadores de ojos son los mejores de todo el Hemisferio Occidental). Nosotros queremos usar el promedio para tener una idea de cuál es el sueldo `típico` en esta empresa. Nuestros valores `atípicos` (los sueldos anormalmente grandes) van a arruinar nuestro cálculo.\n",
    "\n",
    "Mira cuál es el sueldo `típico` si no filtramos nuestros valores anormalmente grandes:"
   ]
  },
  {
   "cell_type": "code",
   "execution_count": 12,
   "metadata": {},
   "outputs": [
    {
     "name": "stdout",
     "output_type": "stream",
     "text": [
      "El sueldo \"típico\" en EyePoker Inc. es de 43.62068965517241\n"
     ]
    }
   ],
   "source": [
    "print(f'El sueldo \"típico\" en EyePoker Inc. es de {sum(sueldos) / len(sueldos)}')"
   ]
  },
  {
   "attachments": {},
   "cell_type": "markdown",
   "metadata": {},
   "source": [
    "Para corregir esto haz una función llamada numero_es_menor_que_40 que descarte los números mayores de 40, y úsala para filtrar la lista sueldos, para tener un cálculo más apropiado del sueldo típico en esta empresa."
   ]
  },
  {
   "cell_type": "code",
   "execution_count": 13,
   "metadata": {},
   "outputs": [],
   "source": [
    "## Tu función va aquí\n",
    "##\n",
    "## ...\n",
    "## ...\n",
    "def numero_es_menor_que_40(num):\n",
    "    return num < 40"
   ]
  },
  {
   "cell_type": "code",
   "execution_count": 14,
   "metadata": {},
   "outputs": [
    {
     "name": "stdout",
     "output_type": "stream",
     "text": [
      "[26, 32, 26, 30, 30, 32, 28, 30, 28, 34, 30, 28, 26, 28, 30, 28, 25, 30, 34, 34, 30, 30, 28, 28]\n"
     ]
    }
   ],
   "source": [
    "sueldos_filtrados = list(filter(numero_es_menor_que_40, sueldos))\n",
    "\n",
    "print(sueldos_filtrados)"
   ]
  },
  {
   "cell_type": "code",
   "execution_count": 15,
   "metadata": {},
   "outputs": [
    {
     "name": "stdout",
     "output_type": "stream",
     "text": [
      "El sueldo \"típico\" en EyePoker Inc. es de 29.375\n"
     ]
    }
   ],
   "source": [
    "print(f'El sueldo \"típico\" en EyePoker Inc. es de {sum(sueldos_filtrados) / len(sueldos_filtrados)}')"
   ]
  },
  {
   "attachments": {},
   "cell_type": "markdown",
   "metadata": {},
   "source": [
    "#### Reto 3: And\n",
    "\n",
    "##### 1. Objetivos:\n",
    "    - Practicar el operador `and` y usarlo para realizar filtros más complejos\n",
    " \n",
    "---\n",
    "    \n",
    "##### 2. Desarrollo:\n",
    "\n",
    "##### a) Filtrando valores atípicos en ambos extremos.\n",
    "\n",
    "Regresemos a nuestro ejemplo de EyePoker Inc. Esta vez tenemos un nuevo conjunto de datos con más empleados (la industria de picadores de ojos va en aumento vertiginoso). Además incluye los sueldos de algunos internos. Estos sueldos son muy bajos (simbólicos, podríamos llamarlos), como puedes ver:"
   ]
  },
  {
   "cell_type": "code",
   "execution_count": 16,
   "metadata": {},
   "outputs": [],
   "source": [
    "sueldos = [26, 32, 26, 1.5, 30, 30, 1, 2, 32, 28, 30, 28, 30, 28, 27, 30, 110, 1.5, 2, 34, 30, 28, 26, 28, 2, 30, 28, 85, 25, 1.5,\n",
    "           1.5, 30, 34, 34, 30, 30, 120, 28, 2, 2, 1.5, 28, 120, 1, 1.5, 125, 2, 1.5, 28, 29, 30, 34, 33, 28, 2, 1, 1.5, 26, 28,\n",
    "          26, 26, 30, 30, 28, 2, 2, 1.5, 2, 1.5, 28, 27, 130, 1.5, 2, 26, 26, 28, 30, 30, 30, 28, 28, 1, 1, 135, 1, 1, 1.5, 2,\n",
    "          2, 2, 1.5, 2]"
   ]
  },
  {
   "attachments": {},
   "cell_type": "markdown",
   "metadata": {},
   "source": [
    "En realidad a nosotros sólo nos interesa analizar los sueldos de los empleados que tiene la empresa a largo plazo. Como tenemos bastantes internos, es muy probable que la inclusión de estos sueldos vaya a distorsionar nuestro cálculo del sueldo `típico` en la empresa:"
   ]
  },
  {
   "cell_type": "code",
   "execution_count": 17,
   "metadata": {},
   "outputs": [
    {
     "name": "stdout",
     "output_type": "stream",
     "text": [
      "El sueldo \"típico\" en EyePoker Inc. es de 25.36021505376344\n"
     ]
    }
   ],
   "source": [
    "print(f'El sueldo \"típico\" en EyePoker Inc. es de {sum(sueldos) / len(sueldos)}')"
   ]
  },
  {
   "attachments": {},
   "cell_type": "markdown",
   "metadata": {},
   "source": [
    "Para evitar esta distorsión y calcular solamente el sueldo `típico` de los empleados que están contratados a largo plazo, vamos a filtrar nuestra lista.\n",
    "\n",
    "Lo que tienes que hacer es lo siguiente:\n",
    "\n",
    "1. Define una función que regrese `True` cuando el argumento sea mayor que 20.\n",
    "2. Define una función que regrese `True` cuando el argumento sea menor que 40.\n",
    "3. Define una tercera función que una las dos primeras funciones usando un operador `and`.\n",
    "4. Filtrar la lista y asignarla a `sueldos_filtrados`."
   ]
  },
  {
   "cell_type": "code",
   "execution_count": 18,
   "metadata": {},
   "outputs": [],
   "source": [
    "# Aquí va tu primera función\n",
    "#\n",
    "# ...\n",
    "# ...\n",
    "def argumento_mayor_a_20(arg):\n",
    "    return arg > 20"
   ]
  },
  {
   "cell_type": "code",
   "execution_count": 19,
   "metadata": {},
   "outputs": [],
   "source": [
    "# Aquí va tu segunda función\n",
    "#\n",
    "# ...\n",
    "# ...\n",
    "def argumento_menor_a_40(arg):\n",
    "    return arg < 40"
   ]
  },
  {
   "cell_type": "code",
   "execution_count": 24,
   "metadata": {},
   "outputs": [],
   "source": [
    "# Aquí va tu tercera función\n",
    "#\n",
    "# ...\n",
    "# ...\n",
    "def filtra_argumentos(arg):\n",
    "    return argumento_mayor_a_20(arg) and argumento_menor_a_40(arg)"
   ]
  },
  {
   "cell_type": "code",
   "execution_count": 25,
   "metadata": {},
   "outputs": [
    {
     "name": "stdout",
     "output_type": "stream",
     "text": [
      "[26, 32, 26, 30, 30, 32, 28, 30, 28, 30, 28, 27, 30, 34, 30, 28, 26, 28, 30, 28, 25, 30, 34, 34, 30, 30, 28, 28, 28, 29, 30, 34, 33, 28, 26, 28, 26, 26, 30, 30, 28, 28, 27, 26, 26, 28, 30, 30, 30, 28, 28]\n"
     ]
    }
   ],
   "source": [
    "sueldos_filtrados = list(filter(filtra_argumentos, sueldos))\n",
    "print(sueldos_filtrados)"
   ]
  },
  {
   "cell_type": "code",
   "execution_count": 26,
   "metadata": {},
   "outputs": [
    {
     "name": "stdout",
     "output_type": "stream",
     "text": [
      "El sueldo \"típico\" en EyePoker Inc. es de 28.96078431372549\n"
     ]
    }
   ],
   "source": [
    "print(f'El sueldo \"típico\" en EyePoker Inc. es de {sum(sueldos_filtrados) / len(sueldos_filtrados)}')"
   ]
  },
  {
   "attachments": {},
   "cell_type": "markdown",
   "metadata": {},
   "source": [
    "#### Reto 4: Or\n",
    "\n",
    "##### 1. Objetivos:\n",
    "    - Practicar el operador `or` y usarlo para realizar filtros más complejos\n",
    " \n",
    "---\n",
    "    \n",
    "##### 2. Desarrollo:\n",
    "\n",
    "##### a) Filtrando palabras\n",
    "\n",
    "Eres el organizador del Concurso Nacional de Deletreo \"Salvador Novo\". Por una bella coincidencia, este año el día del concurso cae justo el mismo día que el Día del Orgullo LGBT. Dado que Salvador Novo era homosexual, te parece muy apropiado que el concurso de deletreo funcione como una celebración de su \"belicosa homosexualidad\" (como la llamaba Carlos Monsiváis). Se te ocurre hacer lo siguiente:\n",
    "\n",
    "De la lista de palabras que tenías originalmente para el concurso, vas a filtrar las palabras para que sólo tengas palabras que empiecen con \"l\" **o** o con \"g\" **o** con \"b\" **o** con \"t\".\n",
    "\n",
    "Aquí está tu lista original de palabras:"
   ]
  },
  {
   "cell_type": "code",
   "execution_count": 32,
   "metadata": {},
   "outputs": [],
   "source": [
    "palabras = ['cabildo', 'genocidio', 'severo', 'jarana', 'enigmático', 'jaguar', 'solidaridad', 'reivindicar', 'bálsamo', 'panteón',\n",
    "            'cabestrillo', 'boicotear', 'letargo', 'jaqueca', 'tentáculo', 'legislar', 'gnomo', 'blasfemia', 'camposanto',\n",
    "            'factible', 'eficaz', 'sintonía', 'lloriquear', 'fachada', 'edificante', 'pétalo', 'libélula', 'pavimento', 'llovizna',\n",
    "            'racimo', 'gargantilla', 'relieve', 'bóveda', 'tecnicismo', 'terraplén', 'basílica']"
   ]
  },
  {
   "attachments": {},
   "cell_type": "markdown",
   "metadata": {},
   "source": [
    "1. Escribe 4 funciones, para cada una de las letras del acrónimo LGBT. Las funciones van a regresar `True` sólo si la palabra comienza con la letra que le corresponde.\n",
    "\n",
    "    Por ejemplo, la función `palabra_comienza_con_l` va a regresar `True` sólo si la palabra comienza con `l`.\n",
    "\n",
    "2. Después, define una función que sea la unión de estas 4 funciones y regrese `True` si la palabra comienza con alguna de las letras del acrónimo LGBT.\n",
    "\n",
    "3. Finalmente filtra la `lista` `palabras` para tener una nueva lista que será la `lista` usada para el concurso.\n",
    "\n",
    "> **Tip #1**: Las `strings` pueden ser accedas igual que las listas, así que si quieres acceder a la primera letra de una palabra basta con usar `palabra[0]`, como si fuera el primer índice de una `lista`.\n",
    "\n",
    "> **Tip #2**: Hasta ahora sólo hemos usando operadores `lógicos` con 1 o 2 comparaciones. Juntar más de dos comparaciones es tan fácil como escribir: \n",
    "\n",
    "```python\n",
    "comparacion_1 or comparacion_2 or comparacion_3 or comparacion_4\n",
    "```"
   ]
  },
  {
   "cell_type": "code",
   "execution_count": 27,
   "metadata": {},
   "outputs": [],
   "source": [
    "# Aquí va la función para filtrar \"l\"\n",
    "#\n",
    "# ...\n",
    "# ...\n",
    "def palabra_comienza_con_l(palabra):\n",
    "    return palabra[0] == 'l'"
   ]
  },
  {
   "cell_type": "code",
   "execution_count": 28,
   "metadata": {},
   "outputs": [],
   "source": [
    "# Aquí va la función para filtrar \"g\"\n",
    "#\n",
    "# ...\n",
    "# ...\n",
    "def palabra_comienza_con_g(palabra):\n",
    "    return palabra[0] == 'g'"
   ]
  },
  {
   "cell_type": "code",
   "execution_count": 29,
   "metadata": {},
   "outputs": [],
   "source": [
    "# Aquí va la función para filtrar \"b\"\n",
    "#\n",
    "# ...\n",
    "# ...\n",
    "def palabra_comienza_con_b(palabra):\n",
    "    return palabra[0] == 'b'"
   ]
  },
  {
   "cell_type": "code",
   "execution_count": 30,
   "metadata": {},
   "outputs": [],
   "source": [
    "# Aquí va la función para filtrar \"t\"\n",
    "#\n",
    "# ...\n",
    "# ...\n",
    "def palabra_comienza_con_t(palabra):\n",
    "    return palabra[0] == 't'"
   ]
  },
  {
   "cell_type": "code",
   "execution_count": 31,
   "metadata": {},
   "outputs": [],
   "source": [
    "# Aquí va la función para unir las 4 funciones anteriores\n",
    "#\n",
    "# ...\n",
    "# ...\n",
    "def filtrado_de_palabras(palabra):\n",
    "    return palabra_comienza_con_l(palabra) or palabra_comienza_con_g(palabra) or palabra_comienza_con_b(palabra) or palabra_comienza_con_t(palabra)"
   ]
  },
  {
   "cell_type": "code",
   "execution_count": 33,
   "metadata": {},
   "outputs": [],
   "source": [
    "palabras_filtradas = list(filter(filtrado_de_palabras, palabras))"
   ]
  },
  {
   "cell_type": "code",
   "execution_count": 34,
   "metadata": {},
   "outputs": [
    {
     "name": "stdout",
     "output_type": "stream",
     "text": [
      "==Concurso Nacional de Deletreo \"Salvador Novo\"==\n",
      "\n",
      "Lista oficial de palabras: ['genocidio', 'bálsamo', 'boicotear', 'letargo', 'tentáculo', 'legislar', 'gnomo', 'blasfemia', 'lloriquear', 'libélula', 'llovizna', 'gargantilla', 'bóveda', 'tecnicismo', 'terraplén', 'basílica']\n"
     ]
    }
   ],
   "source": [
    "print(f'==Concurso Nacional de Deletreo \"Salvador Novo\"==\\n')\n",
    "print(f'Lista oficial de palabras: {palabras_filtradas}')"
   ]
  },
  {
   "attachments": {},
   "cell_type": "markdown",
   "metadata": {},
   "source": [
    "#### Reto 5: Lambda\n",
    "\n",
    "##### 1. Objetivos:\n",
    "    - Practicar la sintaxis y uso de las funciones `lambda` para poder aplicarlas a `filter`\n",
    " \n",
    "---\n",
    "    \n",
    "##### 2. Desarrollo:\n",
    "\n",
    "##### a) Conteo de votos\n",
    "\n",
    "Eres el líder estudiantil de la H. Universidad Unida de Las Américas (sí, todos los países de América del Norte y América del Sur se han unido en un sólo país llamado Las Américas; ¡yei por la disolución de las fronteras!). Acabas de realizar una votación para decidir el Proyecto Comunitario que realizarán en conjunto todos los estudiantes de la universidad en el próximo año escolar. Las 2 opciones fueron:\n",
    "\n",
    "2. Ética en Inteligencia Artificial (Código: AI)\n",
    "3. Cambio Climático (Código: CC)\n",
    "\n",
    "Los resultados de la votación fueron los siguientes:"
   ]
  },
  {
   "cell_type": "code",
   "execution_count": 35,
   "metadata": {},
   "outputs": [],
   "source": [
    "votos = ['AI', 'CC', 'CC', 'CC', 'CC', 'CC', 'CC', 'CC', 'CC', 'CC', 'CC', 'CC', 'CC', 'AI', 'CC', 'CC', 'CC', 'AI', 'AI', 'AI'\n",
    "         , 'CC', 'AI', 'AI', 'CC', 'CC', 'CC', 'AI', 'CC', 'CC', 'AI', 'AI', 'CC', 'CC', 'CC', 'CC', 'CC', 'CC', 'CC', 'CC',\n",
    "         'CC', 'CC', 'CC', 'CC', 'AI', 'CC', 'CC', 'CC', 'CC', 'CC', 'CC', 'CC', 'CC', 'AI', 'AI', 'AI', 'CC', 'AI', 'CC', 'CC',\n",
    "         'CC', 'AI', 'CC', 'AI', 'CC', 'AI', 'CC', 'CC', 'CC', 'CC', 'CC', 'CC', 'CC', 'CC', 'AI', 'CC', 'CC', 'CC', 'CC', 'AI',\n",
    "         'CC', 'CC', 'CC', 'CC', 'CC', 'AI', 'CC', 'CC', 'CC', 'CC', 'CC', 'CC', 'CC', 'CC', 'AI', 'AI', 'CC', 'CC', 'CC', 'CC',\n",
    "         'CC', 'CC', 'CC', 'CC', 'AI', 'CC', 'CC', 'CC', 'CC', 'AI', 'CC', 'AI', 'CC', 'AI', 'CC', 'CC', 'AI', 'AI', 'CC', 'CC',\n",
    "         'CC', 'AI', 'CC', 'CC', 'CC', 'CC', 'CC', 'CC', 'CC', 'CC', 'CC', 'CC', 'CC', 'CC', 'CC', 'CC', 'CC', 'CC', 'CC', 'CC',\n",
    "         'CC', 'AI', 'CC', 'AI', 'CC', 'CC', 'CC', 'CC', 'AI', 'CC', 'CC', 'CC', 'CC', 'CC', 'CC', 'CC', 'CC', 'CC', 'CC', 'CC', \n",
    "         'AI', 'AI', 'AI', 'AI', 'CC', 'AI', 'CC', 'AI', 'AI', 'CC', 'CC', 'AI', 'CC', 'CC', 'CC', 'CC', 'CC', 'CC', 'CC', 'CC',\n",
    "         'AI', 'CC', 'CC', 'CC', 'CC', 'CC', 'CC', 'CC', 'CC', 'CC', 'CC', 'AI', 'CC', 'AI', 'CC', 'CC', 'AI', 'CC', 'AI', 'AI',\n",
    "         'AI', 'CC', 'CC', 'AI', 'CC', 'CC', 'CC', 'CC', 'CC', 'CC', 'AI', 'CC', 'CC', 'CC', 'CC', 'CC', 'CC', 'CC', 'AI', 'CC',\n",
    "         'AI', 'AI', 'CC', 'CC', 'CC', 'AI', 'AI', 'AI', 'CC', 'AI', 'CC', 'CC', 'AI', 'CC', 'CC', 'AI', 'AI', 'CC', 'CC', 'CC',\n",
    "         'CC', 'AI', 'AI', 'CC', 'CC', 'AI', 'AI', 'AI', 'CC', 'AI', 'CC', 'CC', 'CC', 'CC', 'CC', 'CC', 'CC', 'CC', 'CC', 'AI',\n",
    "         'AI', 'CC', 'CC', 'CC', 'CC', 'AI', 'CC', 'AI', 'AI', 'CC', 'CC', 'CC', 'CC', 'CC', 'CC', 'CC', 'AI', 'CC', 'AI', 'CC',\n",
    "         'CC', 'CC', 'CC', 'CC', 'AI', 'CC', 'CC', 'CC', 'CC', 'CC', 'CC', 'CC', 'CC', 'CC', 'AI', 'CC', 'CC', 'CC', 'AI', 'CC',\n",
    "         'AI', 'CC', 'CC', 'AI', 'AI', 'CC', 'CC', 'AI', 'CC', 'CC', 'CC', 'AI', 'CC', 'CC', 'AI', 'CC', 'AI', 'CC', 'AI', 'CC',\n",
    "         'AI', 'AI', 'AI', 'CC', 'CC', 'CC', 'CC', 'CC', 'AI', 'CC', 'CC', 'CC', 'AI', 'CC', 'AI', 'CC', 'CC', 'CC', 'AI', 'AI',\n",
    "         'CC', 'CC', 'CC', 'CC', 'CC', 'AI', 'CC', 'AI', 'AI', 'CC', 'CC', 'CC', 'AI', 'CC', 'CC', 'CC', 'CC', 'CC', 'CC', 'CC',\n",
    "         'AI', 'AI', 'AI', 'AI', 'CC', 'CC', 'AI', 'CC', 'CC', 'CC', 'CC', 'CC', 'CC', 'CC', 'AI', 'AI', 'CC', 'CC', 'CC', 'CC',\n",
    "         'AI', 'AI', 'CC', 'CC', 'CC', 'CC', 'CC', 'CC', 'CC', 'CC', 'CC', 'AI', 'CC', 'CC', 'AI', 'CC', 'CC', 'CC', 'CC', 'AI',\n",
    "         'CC', 'CC', 'AI', 'CC', 'AI', 'CC', 'CC', 'AI', 'CC', 'AI', 'CC', 'CC', 'CC', 'AI', 'CC', 'CC', 'AI', 'AI', 'CC', 'CC',\n",
    "         'CC', 'CC', 'CC', 'AI', 'CC', 'CC', 'CC', 'AI', 'CC', 'AI', 'CC', 'CC', 'CC', 'CC', 'CC', 'AI', 'CC', 'CC', 'AI', 'CC',\n",
    "         'AI', 'CC', 'CC', 'CC', 'AI', 'CC', 'AI']"
   ]
  },
  {
   "cell_type": "code",
   "execution_count": 45,
   "metadata": {},
   "outputs": [
    {
     "name": "stdout",
     "output_type": "stream",
     "text": [
      "446\n"
     ]
    }
   ],
   "source": [
    "print(len(votos))"
   ]
  },
  {
   "attachments": {},
   "cell_type": "markdown",
   "metadata": {},
   "source": [
    "¡Ha llegado el gran momento de contar los votos! Tu reto es el siguiente:\n",
    "\n",
    "1. Crea una función llamada `voto_por_ai` que regrese `True` si el voto fue \"AI\".\n",
    "2. Usa esa función para filtrar tus votos y asigna ese resultado a una variable llamada `votos_por_ai`.\n",
    "3. Usando esa misma función, utiliza una función `lambda` y el operador `not` para filtrar de nuevo la `lista` `votos` y obtener una nueva lista llamada `votos_por_cc`."
   ]
  },
  {
   "cell_type": "code",
   "execution_count": 36,
   "metadata": {},
   "outputs": [],
   "source": [
    "# Aquí va la función `voto_por_ai`\n",
    "#\n",
    "# ...\n",
    "# ...\n",
    "def voto_por_ai(voto):\n",
    "    return voto == 'AI'"
   ]
  },
  {
   "cell_type": "code",
   "execution_count": 42,
   "metadata": {},
   "outputs": [
    {
     "name": "stdout",
     "output_type": "stream",
     "text": [
      "123\n"
     ]
    }
   ],
   "source": [
    "votos_por_ai = list(filter(voto_por_ai, votos))\n",
    "print(len(votos_por_ai))"
   ]
  },
  {
   "cell_type": "code",
   "execution_count": 44,
   "metadata": {},
   "outputs": [
    {
     "name": "stdout",
     "output_type": "stream",
     "text": [
      "323\n"
     ]
    }
   ],
   "source": [
    "votos_por_cc = list(filter(lambda x: not voto_por_ai(x), votos))\n",
    "print(len(votos_por_cc))"
   ]
  },
  {
   "attachments": {},
   "cell_type": "markdown",
   "metadata": {},
   "source": [
    "Corre la siguiente celda para obtener el número total de votos y saber cuál fue el proyecto ganador:"
   ]
  },
  {
   "cell_type": "code",
   "execution_count": 46,
   "metadata": {},
   "outputs": [
    {
     "name": "stdout",
     "output_type": "stream",
     "text": [
      "== Resultados de la votación para el Proyecto Comunitario 2025 ==\n",
      "\n",
      "Proyecto                    Conteo\n",
      "---------------------------------------\n",
      "- Ética en AI             | 123\n",
      "- Cambio Climático        | 323\n",
      "---------------------------------------\n",
      "- Total                   | 446\n"
     ]
    }
   ],
   "source": [
    "print(f'== Resultados de la votación para el Proyecto Comunitario 2025 ==\\n')\n",
    "print(f'{(\"Proyecto\"):25}   Conteo')\n",
    "print(f'---------------------------------------')\n",
    "print(f'{(\"- Ética en AI\"):25} | {len(votos_por_ai)}')\n",
    "print(f'{(\"- Cambio Climático\"):25} | {len(votos_por_cc)}')\n",
    "print(f'---------------------------------------')\n",
    "print(f'{(\"- Total\"):25} | {len(votos_por_ai) + len(votos_por_cc)}')"
   ]
  }
 ],
 "metadata": {
  "kernelspec": {
   "display_name": "Python 3",
   "language": "python",
   "name": "python3"
  },
  "language_info": {
   "codemirror_mode": {
    "name": "ipython",
    "version": 3
   },
   "file_extension": ".py",
   "mimetype": "text/x-python",
   "name": "python",
   "nbconvert_exporter": "python",
   "pygments_lexer": "ipython3",
   "version": "3.10.6"
  },
  "orig_nbformat": 4,
  "vscode": {
   "interpreter": {
    "hash": "aee8b7b246df8f9039afb4144a1f6fd8d2ca17a180786b69acc140d282b71a49"
   }
  }
 },
 "nbformat": 4,
 "nbformat_minor": 2
}
