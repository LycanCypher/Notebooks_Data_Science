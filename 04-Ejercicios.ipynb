{
 "cells": [
  {
   "attachments": {},
   "cell_type": "markdown",
   "metadata": {},
   "source": [
    "### Ejercicios de la S4\n",
    "\n",
    "#### Reto 1: Series\n",
    "\n",
    "##### 1. Objetivos:\n",
    "    - Practicar la creación de `Series` y la indexación básica de éstas\n",
    " \n",
    "---\n",
    "    \n",
    "##### 2. Desarrollo:"
   ]
  },
  {
   "cell_type": "code",
   "execution_count": 1,
   "metadata": {},
   "outputs": [],
   "source": [
    "## Realiza aquí los imports que necesites para que tu código funcione correctamente\n",
    "import pandas as pd"
   ]
  },
  {
   "attachments": {},
   "cell_type": "markdown",
   "metadata": {},
   "source": [
    "##### a) Creación de `Series`\n",
    "\n",
    "A continuación tenemos unas variables que contienen los nombres de los ejecutivos más importantes de nuestra ya conocida EyePoker Inc. Debajo de eso hay una variable que no ha sido asignada aún:"
   ]
  },
  {
   "cell_type": "code",
   "execution_count": 2,
   "metadata": {},
   "outputs": [],
   "source": [
    "ejecutivo_1 = 'Marco P.'\n",
    "ejecutivo_2 = 'Jenny'\n",
    "ejecutivo_3 = 'Britney Baby'\n",
    "ejecutivo_4 = 'Pepe Guardabosques'\n",
    "ejecutivo_5 = 'Lombardo El Destructor'\n",
    "\n",
    "ejecutivos = pd.Series([ejecutivo_1, ejecutivo_2, ejecutivo_3, ejecutivo_4, ejecutivo_5])\n",
    "\n",
    "sueldos = pd.Series([7500, 8400, 9200, 7300, 8000], index = ejecutivos)"
   ]
  },
  {
   "attachments": {},
   "cell_type": "markdown",
   "metadata": {},
   "source": [
    "Tu tarea es crear una `Serie` de `pandas` y asignarla a la variable `sueldos`. La información que hay dentro de esta variable son (oh, sorpresa) los sueldos de dichos ejecutivos.\n",
    "\n",
    "Los valores de la `Serie` serán los sueldos, mientras que el índice de la `Serie` serán los nombres de los ejecutivos.\n",
    "\n",
    "Crea una `Serie` y asígnala a `sueldos` de manera que el código que tenemos debajo funcione correctamente:"
   ]
  },
  {
   "cell_type": "code",
   "execution_count": 3,
   "metadata": {},
   "outputs": [
    {
     "name": "stdout",
     "output_type": "stream",
     "text": [
      "== Sueldos de los principales ejecutivos de EyePoker Inc. ==\n",
      "\n",
      "Ejecutivo                 | Sueldo\n",
      "----------------------------------------\n",
      "Marco P.                  | $7500 MXN\n",
      "Jenny                     | $8400 MXN\n",
      "Britney Baby              | $9200 MXN\n",
      "Pepe Guardabosques        | $7300 MXN\n",
      "Lombardo El Destructor    | $8000 MXN\n"
     ]
    }
   ],
   "source": [
    "print('== Sueldos de los principales ejecutivos de EyePoker Inc. ==\\n')\n",
    "\n",
    "print(f'{(\"Ejecutivo\"):25} | {(\"Sueldo\")}')\n",
    "print('----------------------------------------')\n",
    "print(f'{ejecutivo_1:25} | ${(sueldos.loc[ejecutivo_1])} MXN')\n",
    "print(f'{ejecutivo_2:25} | ${(sueldos.loc[ejecutivo_2])} MXN')\n",
    "print(f'{ejecutivo_3:25} | ${(sueldos.loc[ejecutivo_3])} MXN')\n",
    "print(f'{ejecutivo_4:25} | ${(sueldos.loc[ejecutivo_4])} MXN')\n",
    "print(f'{ejecutivo_5:25} | ${(sueldos.loc[ejecutivo_5])} MXN')"
   ]
  },
  {
   "attachments": {},
   "cell_type": "markdown",
   "metadata": {},
   "source": [
    "#### Reto 2: Indexación de Series\n",
    "\n",
    "##### 1. Objetivos:\n",
    "    - Practicar técnicas avanzadas de indexación de `Series`\n",
    " \n",
    "---\n",
    "    \n",
    "##### 2. Desarrollo:"
   ]
  },
  {
   "attachments": {},
   "cell_type": "markdown",
   "metadata": {},
   "source": [
    "##### a) Indexación de `Series`\n",
    "\n",
    "Tenemos una `Serie` que contiene los gastos mensuales totales (en MXN) de distintas divisiones de EyePoker Inc. Tú eres el Contador Oficial y tienes que obtener subconjuntos de datos que sirvan para agregar los gastos totales de diferentes combinaciones de divisiones.\n",
    "\n",
    "Los datos son los siguientes:"
   ]
  },
  {
   "cell_type": "code",
   "execution_count": 4,
   "metadata": {},
   "outputs": [],
   "source": [
    "import pandas as pd\n",
    "\n",
    "gastos_mensuales = {\n",
    "    'A': 15000,\n",
    "    'B': 200000,\n",
    "    'C': 3250000,\n",
    "    'D': 120000,\n",
    "    'E': 135000,\n",
    "    'F': 55000,\n",
    "    'G': 100000,\n",
    "    'H': 25000\n",
    "}\n",
    "\n",
    "gastos_serie = pd.Series(gastos_mensuales)"
   ]
  },
  {
   "cell_type": "code",
   "execution_count": 5,
   "metadata": {},
   "outputs": [
    {
     "data": {
      "text/plain": [
       "A      15000\n",
       "B     200000\n",
       "C    3250000\n",
       "D     120000\n",
       "E     135000\n",
       "F      55000\n",
       "G     100000\n",
       "H      25000\n",
       "dtype: int64"
      ]
     },
     "execution_count": 5,
     "metadata": {},
     "output_type": "execute_result"
    }
   ],
   "source": [
    "gastos_serie"
   ]
  },
  {
   "attachments": {},
   "cell_type": "markdown",
   "metadata": {},
   "source": [
    "El índice es el nombre de la división y los valores son los gastos mensuales en MXN.\n",
    "\n",
    "Indexando la serie gastos_serie extrae las combinaciones de divisiones que se indican debajo para poder hacer los cálculos necesarios. El primero es un ejemplo:"
   ]
  },
  {
   "cell_type": "code",
   "execution_count": 6,
   "metadata": {},
   "outputs": [],
   "source": [
    "# Los gastos de la división 'D' y 'G'\n",
    "gastos_D_G = gastos_serie[['D', 'G']]\n",
    "\n",
    "# Los gastos de la división 'A' y 'E'\n",
    "gastos_A_E = gastos_serie[['A', 'E']]\n",
    "\n",
    "# Los gastos de la división 'B', 'F' y 'H'\n",
    "gastos_B_F_H = gastos_serie[['B', 'F', 'H']]\n",
    "\n",
    "# Los gastos desde la primera división hasta la división 'E'\n",
    "gastos_principio_a_E = gastos_serie[:'E']\n",
    "\n",
    "# Los gastos desde la división 'D' hasta la 'G'\n",
    "gastos_D_a_G = gastos_serie['D':'G']\n",
    "\n",
    "# Los gastos desde la división 'C' hasta el la última división\n",
    "gastos_C_a_final = gastos_serie['C':]"
   ]
  },
  {
   "attachments": {},
   "cell_type": "markdown",
   "metadata": {},
   "source": [
    "Corre la función de verificación revisar_indexaciones para verificar tu resultado:"
   ]
  },
  {
   "cell_type": "code",
   "execution_count": 7,
   "metadata": {},
   "outputs": [
    {
     "name": "stdout",
     "output_type": "stream",
     "text": [
      "== Revisión de Indexaciones ==\n",
      "\n",
      "Indexación                     | Resultado       | Suma esperada   | Suma recibida  \n",
      "-------------------------------------------------------------------------------------\n",
      "División D y G                 | Correcta        | $220000 MXN     | $220000 MXN    \n",
      "División A y E                 | Correcta        | $150000 MXN     | $150000 MXN    \n",
      "División B, F y H              | Correcta        | $280000 MXN     | $280000 MXN    \n",
      "Desde primera División a E     | Correcta        | $3720000 MXN    | $3720000 MXN   \n",
      "División D y G                 | Correcta        | $410000 MXN     | $410000 MXN    \n",
      "División C a última División   | Correcta        | $3685000 MXN    | $3685000 MXN   \n"
     ]
    }
   ],
   "source": [
    "# Pega aquí la función de verificación\n",
    "def revisar_indexaciones(gastos_serie, gastos_D_G, gastos_A_E, gastos_B_F_H,\n",
    "                         gastos_principio_a_E, gastos_D_a_G, gastos_C_a_final):\n",
    "    \n",
    "    print(f'== Revisión de Indexaciones ==\\n')\n",
    "    print(f\"{'Indexación':30} | {'Resultado':15} | {'Suma esperada ':15} | {'Suma recibida ':15}\")\n",
    "    print(\"-\"*85)\n",
    "    revisar_indexacion(gastos_serie.loc[['D', 'G']], gastos_D_G, 'División D y G')\n",
    "    revisar_indexacion(gastos_serie.loc[['A', 'E']], gastos_A_E, 'División A y E')\n",
    "    revisar_indexacion(gastos_serie.loc[['B', 'F', 'H']], gastos_B_F_H, 'División B, F y H')\n",
    "    revisar_indexacion(gastos_serie.loc[:'E'], gastos_principio_a_E, 'Desde primera División a E')\n",
    "    revisar_indexacion(gastos_serie.loc['D':'G'], gastos_D_a_G, 'División D y G')\n",
    "    revisar_indexacion(gastos_serie.loc['C':], gastos_C_a_final, 'División C a última División')\n",
    "\n",
    "def formatear_precio(precio):\n",
    "    return f\"${precio} MXN\"\n",
    "    \n",
    "def revisar_indexacion(esperada, recibida, nombre):\n",
    "    es_correcta = 'Correcta' if esperada.equals(recibida) else 'Incorrecta'\n",
    "    suma_esperada = formatear_precio(sum(esperada))\n",
    "    suma_recibida = formatear_precio(sum(recibida))\n",
    "    print(f\"{nombre:30} | {es_correcta:15} | {suma_esperada:15} | {suma_recibida:15}\")\n",
    "\n",
    "revisar_indexaciones(gastos_serie, gastos_D_G, gastos_A_E, gastos_B_F_H,\n",
    "                         gastos_principio_a_E, gastos_D_a_G, gastos_C_a_final)"
   ]
  },
  {
   "attachments": {},
   "cell_type": "markdown",
   "metadata": {},
   "source": [
    "#### Reto 3: DataFrames\n",
    "\n",
    "##### 1. Objetivos:\n",
    "    - Aprender a crear `DataFrames` e indexar por columna y por fila\n",
    " \n",
    "---\n",
    "    \n",
    "##### 2. Desarrollo:"
   ]
  },
  {
   "attachments": {},
   "cell_type": "markdown",
   "metadata": {},
   "source": [
    "##### a) Creación e indexación de `DataFrames`\n",
    "\n",
    "Eres el Data Wrangler (procesador de datos) de EyePoker Inc. Tienes el siguiente diccionario con datos que se refieren a diferentes productos que vende la empresa. Este es tu conjunto de datos y el índice que le corresponde:"
   ]
  },
  {
   "cell_type": "code",
   "execution_count": 8,
   "metadata": {},
   "outputs": [],
   "source": [
    "datos_productos = {\n",
    "    \"nombre\": [\"Pokemaster\", \"Cegatron\", \"Pikame Mucho\", \"Lazarillo de Tormes\", \"Stevie Wonder\", \"Needle\", \"El AyMeDuele\"],\n",
    "    \"precio\": [10000, 5500, 3500, 750, 15500, 12250, 23000],\n",
    "    \"peso\": [1.2, 1.5, 2.3, 5.5, 3.4, 2.4, 8.8],\n",
    "    \"capacidad de destrucción retinal\": [3, 7, 6, 8, 9, 2, 10],\n",
    "    \"disponible\": [True, False, True, True, False, False, True]\n",
    "}\n",
    "\n",
    "indice = [1, 2, 3, 4, 5, 6, 7]"
   ]
  },
  {
   "attachments": {},
   "cell_type": "markdown",
   "metadata": {},
   "source": [
    "El Analista de Datos de la empresa quiere realizar algunas visualizaciones con este conjunto de datos, pero no es muy buen procesador de datos, así que te pide a ti ayuda para crear los subconjuntos de datos que necesita para sus visualizaciones.\n",
    "\n",
    "Te ha dado las descripciones de los subconjuntos que necesita, en el orden en el que los quiere.\n",
    "\n",
    "Tu primer paso es convertir tu `diccionario` a `DataFrame` usando `datos_productos` e `indice`:"
   ]
  },
  {
   "cell_type": "code",
   "execution_count": 9,
   "metadata": {},
   "outputs": [],
   "source": [
    "df_productos = pd.DataFrame(datos_productos, index = indice)"
   ]
  },
  {
   "cell_type": "code",
   "execution_count": 10,
   "metadata": {},
   "outputs": [
    {
     "data": {
      "text/html": [
       "<div>\n",
       "<style scoped>\n",
       "    .dataframe tbody tr th:only-of-type {\n",
       "        vertical-align: middle;\n",
       "    }\n",
       "\n",
       "    .dataframe tbody tr th {\n",
       "        vertical-align: top;\n",
       "    }\n",
       "\n",
       "    .dataframe thead th {\n",
       "        text-align: right;\n",
       "    }\n",
       "</style>\n",
       "<table border=\"1\" class=\"dataframe\">\n",
       "  <thead>\n",
       "    <tr style=\"text-align: right;\">\n",
       "      <th></th>\n",
       "      <th>nombre</th>\n",
       "      <th>precio</th>\n",
       "      <th>peso</th>\n",
       "      <th>capacidad de destrucción retinal</th>\n",
       "      <th>disponible</th>\n",
       "    </tr>\n",
       "  </thead>\n",
       "  <tbody>\n",
       "    <tr>\n",
       "      <th>1</th>\n",
       "      <td>Pokemaster</td>\n",
       "      <td>10000</td>\n",
       "      <td>1.2</td>\n",
       "      <td>3</td>\n",
       "      <td>True</td>\n",
       "    </tr>\n",
       "    <tr>\n",
       "      <th>2</th>\n",
       "      <td>Cegatron</td>\n",
       "      <td>5500</td>\n",
       "      <td>1.5</td>\n",
       "      <td>7</td>\n",
       "      <td>False</td>\n",
       "    </tr>\n",
       "    <tr>\n",
       "      <th>3</th>\n",
       "      <td>Pikame Mucho</td>\n",
       "      <td>3500</td>\n",
       "      <td>2.3</td>\n",
       "      <td>6</td>\n",
       "      <td>True</td>\n",
       "    </tr>\n",
       "    <tr>\n",
       "      <th>4</th>\n",
       "      <td>Lazarillo de Tormes</td>\n",
       "      <td>750</td>\n",
       "      <td>5.5</td>\n",
       "      <td>8</td>\n",
       "      <td>True</td>\n",
       "    </tr>\n",
       "    <tr>\n",
       "      <th>5</th>\n",
       "      <td>Stevie Wonder</td>\n",
       "      <td>15500</td>\n",
       "      <td>3.4</td>\n",
       "      <td>9</td>\n",
       "      <td>False</td>\n",
       "    </tr>\n",
       "    <tr>\n",
       "      <th>6</th>\n",
       "      <td>Needle</td>\n",
       "      <td>12250</td>\n",
       "      <td>2.4</td>\n",
       "      <td>2</td>\n",
       "      <td>False</td>\n",
       "    </tr>\n",
       "    <tr>\n",
       "      <th>7</th>\n",
       "      <td>El AyMeDuele</td>\n",
       "      <td>23000</td>\n",
       "      <td>8.8</td>\n",
       "      <td>10</td>\n",
       "      <td>True</td>\n",
       "    </tr>\n",
       "  </tbody>\n",
       "</table>\n",
       "</div>"
      ],
      "text/plain": [
       "                nombre  precio  peso  capacidad de destrucción retinal  \\\n",
       "1           Pokemaster   10000   1.2                                 3   \n",
       "2             Cegatron    5500   1.5                                 7   \n",
       "3         Pikame Mucho    3500   2.3                                 6   \n",
       "4  Lazarillo de Tormes     750   5.5                                 8   \n",
       "5        Stevie Wonder   15500   3.4                                 9   \n",
       "6               Needle   12250   2.4                                 2   \n",
       "7         El AyMeDuele   23000   8.8                                10   \n",
       "\n",
       "   disponible  \n",
       "1        True  \n",
       "2       False  \n",
       "3        True  \n",
       "4        True  \n",
       "5       False  \n",
       "6       False  \n",
       "7        True  "
      ]
     },
     "execution_count": 10,
     "metadata": {},
     "output_type": "execute_result"
    }
   ],
   "source": [
    "df_productos"
   ]
  },
  {
   "attachments": {},
   "cell_type": "markdown",
   "metadata": {},
   "source": [
    "Ahora, indexa tu DataFrame para obtener los subconjuntos requeridos. Los productos en existencia tienen un orden específico en la base de datos. El orden correcto es el que está definido en datos_productos. Eso significa que el \"Pokemaster\" tiene el índice 1 y es el primer producto; y el \"El AyMeDuele\" tiene el ìndice 7 y es el último producto.\n",
    "\n",
    "Realiza las indexaciones debajo. Recuerda ordenar tus DataFrames en el orden en el que los menciona el Analista:"
   ]
  },
  {
   "cell_type": "code",
   "execution_count": 14,
   "metadata": {},
   "outputs": [],
   "source": [
    "# Quiero un DataFrame que contenga los productos \"Pikame Mucho\" y \"Stevie Wonder\"\n",
    "pm_sw = df_productos.loc[[3, 5]]\n",
    "\n",
    "# Quiero un DataFrame que contenga desde el producto #4 hasta el último\n",
    "p4_final = df_productos.loc[4:]\n",
    "\n",
    "# Quiero un DataFrame que contenga los productos \"El AyMeDuele\", \"Lazarillo de Tormes\" y \"Needle\"\n",
    "amd_lt_n = df_productos.loc[[7, 4, 6]]\n",
    "\n",
    "# Quiero un DataFrame que contenga desde el primer producto hasta el producto #5\n",
    "primer_p5 = df_productos.loc[:5]\n",
    "\n",
    "# Quiero un DataFrame que contenga los productos \"Pikame Mucho\" y \"Lazarillo de Tormes\", pero sólo con las columnas \"nombre\", \"precio\" y \"peso\"\n",
    "pm_lt_pp = df_productos.loc[[3, 4], ['nombre', 'precio', 'peso']]\n",
    "\n",
    "# Quiero un DataFrame que contenga todos los productos pero con sólo las columnas 'nombre', 'precio' y 'capacidad de destrucción retinal'\n",
    "t_pcdr = df_productos[['nombre', 'precio', 'capacidad de destrucción retinal']]\n",
    "\n",
    "# Quiero un DataFrame que contenga desde el producto #3 hasta el #6, pero sólo las columnas 'nombre', 'precio' y 'disponible'\n",
    "p3_p6_pd = df_productos[['nombre', 'precio', 'disponible']].loc[3:6]"
   ]
  },
  {
   "attachments": {},
   "cell_type": "markdown",
   "metadata": {},
   "source": [
    "Corre la función de verificación verificar_indexaciones para verificar tu resultado:"
   ]
  },
  {
   "cell_type": "code",
   "execution_count": 15,
   "metadata": {},
   "outputs": [
    {
     "name": "stdout",
     "output_type": "stream",
     "text": [
      "== Verificación de Indexaciones ==\n",
      "\n",
      "\n",
      "- Descripción de pedido: DataFrame que contenga los productos \"Pikame Mucho\" y \"Stevie Wonder\"\n",
      "El pedido es Correcto ... Muchas gracias!\n",
      "\n",
      "- Descripción de pedido: DataFrame que contenga desde el producto #4 hasta el último\n",
      "El pedido es Correcto ... Muchas gracias!\n",
      "\n",
      "- Descripción de pedido: DataFrame que contenga los productos \"El AyMeDuele\", \"Lazarillo de Tormes\" y \"Needle\"\n",
      "El pedido es Correcto ... Muchas gracias!\n",
      "\n",
      "- Descripción de pedido: DataFrame que contenga desde el primer producto hasta el producto #5\n",
      "El pedido es Correcto ... Muchas gracias!\n",
      "\n",
      "- Descripción de pedido: DataFrame que contenga los productos \"Pikame Mucho\" y \"Lazarillo de Tormes\", pero sólo con las columnas \"nombre\", \"precio\" y \"peso\"\n",
      "El pedido es Correcto ... Muchas gracias!\n",
      "\n",
      "- Descripción de pedido: DataFrame que contenga todos los productos pero con sólo las columnas 'nombre', 'precio' y 'capacidad de destrucción retinal'\n",
      "El pedido es Correcto ... Muchas gracias!\n",
      "\n",
      "- Descripción de pedido: DataFrame que contenga desde el producto #3 hasta el #6, pero sólo las columnas 'nombre', 'precio' y 'disponible'\n",
      "El pedido es Correcto ... Muchas gracias!\n"
     ]
    }
   ],
   "source": [
    "# Pega aquí la función de verificación\n",
    "def verificar_indexaciones(datos_productos, indice, df_productos, pm_sw, p4_final, amd_lt_n, primer_p5, pm_lt_pp, t_pcdr, p3_p6_pd):\n",
    "    \n",
    "    import pandas as pd\n",
    "    \n",
    "    df_productos_esperado = pd.DataFrame(datos_productos, index=indice)\n",
    "    if not df_productos_esperado.equals(df_productos):\n",
    "        print(f'df_productos ha sido creado incorrectamente ... Favor de revisar')\n",
    "        return\n",
    "    \n",
    "    print(f'== Verificación de Indexaciones ==\\n')\n",
    "    verificar_indexacion(df_productos.loc[[3, 5]], pm_sw, 'DataFrame que contenga los productos \"Pikame Mucho\" y \"Stevie Wonder\"')\n",
    "    verificar_indexacion(df_productos.loc[4:], p4_final, 'DataFrame que contenga desde el producto #4 hasta el último')\n",
    "    verificar_indexacion(df_productos.loc[[7, 4, 6]], amd_lt_n, 'DataFrame que contenga los productos \"El AyMeDuele\", \"Lazarillo de Tormes\" y \"Needle\"')\n",
    "    verificar_indexacion(df_productos.loc[:5], primer_p5, 'DataFrame que contenga desde el primer producto hasta el producto #5')\n",
    "    verificar_indexacion(df_productos.loc[[3, 4], ['nombre', 'precio', 'peso']], pm_lt_pp, 'DataFrame que contenga los productos \"Pikame Mucho\" y \"Lazarillo de Tormes\", pero sólo con las columnas \"nombre\", \"precio\" y \"peso\"')\n",
    "    verificar_indexacion(df_productos[['nombre', 'precio', 'capacidad de destrucción retinal']], t_pcdr, \"DataFrame que contenga todos los productos pero con sólo las columnas 'nombre', 'precio' y 'capacidad de destrucción retinal'\")\n",
    "    verificar_indexacion(df_productos.loc[3:6, ['nombre', 'precio', 'disponible']], p3_p6_pd, \"DataFrame que contenga desde el producto #3 hasta el #6, pero sólo las columnas 'nombre', 'precio' y 'disponible'\")\n",
    "    \n",
    "def verificar_indexacion(esperada, recibida, descripcion):\n",
    "    es_correcta = \"Correcto\" if esperada.equals(recibida) else \"Incorrecto\"\n",
    "    respuesta = \"Muchas gracias!\" if es_correcta == \"Correcto\" else \"Favor de revisar\"\n",
    "    print(f\"\\n- Descripción de pedido: {descripcion}\")\n",
    "    print(f\"El pedido es {es_correcta} ... {respuesta}\")\n",
    "\n",
    "verificar_indexaciones(datos_productos, indice, df_productos, pm_sw, p4_final, amd_lt_n, primer_p5, pm_lt_pp, t_pcdr, p3_p6_pd)"
   ]
  },
  {
   "attachments": {},
   "cell_type": "markdown",
   "metadata": {},
   "source": [
    "#### Reto 4: Manipulación de Columnas\n",
    "\n",
    "##### 1. Objetivos:\n",
    "    - Practicar asignar, reasignar y eliminar columnas de `DataFrames`\n",
    " \n",
    "---\n",
    "    \n",
    "##### 2. Desarrollo:"
   ]
  },
  {
   "attachments": {},
   "cell_type": "markdown",
   "metadata": {},
   "source": [
    "##### a) Transformación de `DataFrames`\n",
    "\n",
    "Eres de nuevo el Data Wrangler Inc. Tienes el mismo conjunto de datos que en el Reto pasado:"
   ]
  },
  {
   "cell_type": "code",
   "execution_count": null,
   "metadata": {},
   "outputs": [],
   "source": [
    "df_productos"
   ]
  },
  {
   "attachments": {},
   "cell_type": "markdown",
   "metadata": {},
   "source": [
    "Esta vez el Analista de Datos te hace 3 nuevos pedidos que incluyen la creación de una nueva columna, la asignación de nuevos datos a una columna y la eliminación de un par de columnas. Crea un `DataFrame` usando `datos_productos` e `indice`, realiza sus pedidos y envíalos para su verificación:"
   ]
  },
  {
   "cell_type": "code",
   "execution_count": 16,
   "metadata": {},
   "outputs": [],
   "source": [
    "# Agrega por favor una nueva columna a `df_productos_mas_columna_nueva` con el nombre de columna \"nivel de dolor\"\n",
    "columna_nueva = [4, 7, 6, 8, 9, 7, 3]\n",
    "df_productos_mas_columna_nueva = df_productos.copy()\n",
    "df_productos_mas_columna_nueva['nivel de dolor'] = columna_nueva\n",
    "\n",
    "# Cambia por favor el `DataFrame` `df_productos_descuento` cambiando la columna `precio` por la información contenida en `precios_descuento`\n",
    "precios_descuento = [8000, 4000, 2000, 500, 14000, 10000, 15000]\n",
    "df_productos_descuento = df_productos.copy()\n",
    "df_productos_descuento['precio'] = precios_descuento\n",
    "\n",
    "# Elimina por favor las columnas \"precio\" y \"peso\" de `df_productos` y asigna el resultado a `df_productos_sin_precio_ni_peso`\n",
    "df_productos_sin_precio_ni_peso = df_productos.drop(columns = ['precio', 'peso'])"
   ]
  },
  {
   "attachments": {},
   "cell_type": "markdown",
   "metadata": {},
   "source": [
    "Corre la función de verificación verificar_modificaciones para verificar tu resultado:"
   ]
  },
  {
   "cell_type": "code",
   "execution_count": 17,
   "metadata": {},
   "outputs": [
    {
     "name": "stdout",
     "output_type": "stream",
     "text": [
      "== Verificación de Modificaciones ==\n",
      "\n",
      "\n",
      "- Descripción de pedido: Agrega por favor columna `columna_nueva` a `df_productos_mas_columna_nueva` con el nombre de columna \"nivel de dolor\"\n",
      "El pedido es Correcto ... Muchas gracias!\n",
      "\n",
      "- Descripción de pedido: Cambia por favor el `DataFrame` `df_productos_descuento` cambiando la columna `precio` por la información contenida en `precios_descuento`\n",
      "El pedido es Correcto ... Muchas gracias!\n",
      "\n",
      "- Descripción de pedido: Elimina por favor las columnas \"precio\" y \"peso\"\n",
      "El pedido es Correcto ... Muchas gracias!\n"
     ]
    }
   ],
   "source": [
    "# Pega aquí la función de verificación\n",
    "def verificar_modificaciones(datos_productos, indice, df_productos, columna_nueva, df_productos_mas_columna_nueva, \n",
    "                             precios_descuento, df_productos_descuento, df_productos_sin_precio_ni_peso):\n",
    "    \n",
    "    import pandas as pd\n",
    "    \n",
    "    df_productos_esperado = pd.DataFrame(datos_productos, index=indice)\n",
    "    if not df_productos_esperado.equals(df_productos):\n",
    "        print(f'df_productos ha sido creado incorrectamente ... Favor de revisar')\n",
    "        return\n",
    "    \n",
    "    print(f'== Verificación de Modificaciones ==\\n')\n",
    "    columna_nueva_serie = pd.Series(columna_nueva, index=indice)\n",
    "    df_productos_mas_columna_nueva_2 = df_productos.copy()\n",
    "    df_productos_mas_columna_nueva_2['nivel de dolor'] = columna_nueva_serie\n",
    "    verificar_modificacion(df_productos_mas_columna_nueva_2, df_productos_mas_columna_nueva, 'Agrega por favor columna `columna_nueva` a `df_productos_mas_columna_nueva` con el nombre de columna \"nivel de dolor\"')\n",
    "    \n",
    "    precios_descuento_serie = pd.Series(precios_descuento, index=indice)\n",
    "    df_productos_descuento_2 = df_productos.copy()\n",
    "    df_productos_descuento_2['precio'] = precios_descuento_serie\n",
    "    verificar_modificacion(df_productos_descuento_2, df_productos_descuento, 'Cambia por favor el `DataFrame` `df_productos_descuento` cambiando la columna `precio` por la información contenida en `precios_descuento`')\n",
    "    \n",
    "    df_productos_sin_precio_ni_peso_2 = df_productos.drop(columns=['precio', 'peso'])\n",
    "    verificar_modificacion(df_productos_sin_precio_ni_peso_2, df_productos_sin_precio_ni_peso, 'Elimina por favor las columnas \"precio\" y \"peso\"')\n",
    "    \n",
    "def verificar_modificacion(esperada, recibida, descripcion):\n",
    "    es_correcta = \"Correcto\" if esperada.equals(recibida) else \"Incorrecto\"\n",
    "    respuesta = \"Muchas gracias!\" if es_correcta == \"Correcto\" else \"Favor de revisar\"\n",
    "    print(f\"\\n- Descripción de pedido: {descripcion}\")\n",
    "    print(f\"El pedido es {es_correcta} ... {respuesta}\")\n",
    "\n",
    "verificar_modificaciones(datos_productos, indice, df_productos, columna_nueva, df_productos_mas_columna_nueva, \n",
    "                             precios_descuento, df_productos_descuento, df_productos_sin_precio_ni_peso)"
   ]
  },
  {
   "attachments": {},
   "cell_type": "markdown",
   "metadata": {},
   "source": [
    "#### Reto 5: Análisis Exploratorio de Datos\n",
    "\n",
    "##### 1. Objetivos:\n",
    "    - Practicar leer archivos JSON usando pandas\n",
    "    - Practicar hacerse preguntas acerca de los conjuntos de datos que tenemos\n",
    " \n",
    "---\n",
    "    \n",
    "##### 2. Desarrollo:"
   ]
  },
  {
   "attachments": {},
   "cell_type": "markdown",
   "metadata": {},
   "source": [
    "Vamos a practicar explorar conjuntos de datos y hacernos preguntas acerca de ellos.\n",
    "\n",
    "Tenemos un conjunto de datos en formato JSON almacenado en '../Datasets/new_york_times_bestsellers-clean.json' (en la carpeta /Datasets en el directorio raíz del módulo).\n",
    "\n",
    "Primero que nada, lee el archivo JSON y crea un `DataFrame` con él:"
   ]
  },
  {
   "cell_type": "code",
   "execution_count": 18,
   "metadata": {},
   "outputs": [],
   "source": [
    "## Realiza tus imports\n",
    "import json"
   ]
  },
  {
   "cell_type": "code",
   "execution_count": 19,
   "metadata": {},
   "outputs": [],
   "source": [
    "## Lee aquí tu archivo JSON\n",
    "f = open('../Datasets/new_york_times_bestsellers-clean.json', 'r')\n",
    "data_json = json.load(f)\n",
    "f.close()"
   ]
  },
  {
   "cell_type": "code",
   "execution_count": 20,
   "metadata": {},
   "outputs": [],
   "source": [
    "## Crea aquí tu DataFrame\n",
    "df = pd.DataFrame.from_dict(data_json)"
   ]
  },
  {
   "cell_type": "code",
   "execution_count": 21,
   "metadata": {},
   "outputs": [
    {
     "data": {
      "text/html": [
       "<div>\n",
       "<style scoped>\n",
       "    .dataframe tbody tr th:only-of-type {\n",
       "        vertical-align: middle;\n",
       "    }\n",
       "\n",
       "    .dataframe tbody tr th {\n",
       "        vertical-align: top;\n",
       "    }\n",
       "\n",
       "    .dataframe thead th {\n",
       "        text-align: right;\n",
       "    }\n",
       "</style>\n",
       "<table border=\"1\" class=\"dataframe\">\n",
       "  <thead>\n",
       "    <tr style=\"text-align: right;\">\n",
       "      <th></th>\n",
       "      <th>amazon_product_url</th>\n",
       "      <th>author</th>\n",
       "      <th>description</th>\n",
       "      <th>publisher</th>\n",
       "      <th>title</th>\n",
       "      <th>oid</th>\n",
       "      <th>bestsellers_date.numberLong</th>\n",
       "      <th>published_date.numberLong</th>\n",
       "      <th>rank.numberInt</th>\n",
       "      <th>rank_last_week.numberInt</th>\n",
       "      <th>weeks_on_list.numberInt</th>\n",
       "      <th>price.numberDouble</th>\n",
       "    </tr>\n",
       "  </thead>\n",
       "  <tbody>\n",
       "    <tr>\n",
       "      <th>0</th>\n",
       "      <td>http://www.amazon.com/The-Host-Novel-Stephenie...</td>\n",
       "      <td>Stephenie Meyer</td>\n",
       "      <td>Aliens have taken control of the minds and bod...</td>\n",
       "      <td>Little, Brown</td>\n",
       "      <td>THE HOST</td>\n",
       "      <td>5b4aa4ead3089013507db18c</td>\n",
       "      <td>1211587200000</td>\n",
       "      <td>1212883200000</td>\n",
       "      <td>2</td>\n",
       "      <td>1</td>\n",
       "      <td>3</td>\n",
       "      <td>25.99</td>\n",
       "    </tr>\n",
       "    <tr>\n",
       "      <th>1</th>\n",
       "      <td>http://www.amazon.com/Love-Youre-With-Emily-Gi...</td>\n",
       "      <td>Emily Giffin</td>\n",
       "      <td>A woman's happy marriage is shaken when she en...</td>\n",
       "      <td>St. Martin's</td>\n",
       "      <td>LOVE THE ONE YOU'RE WITH</td>\n",
       "      <td>5b4aa4ead3089013507db18d</td>\n",
       "      <td>1211587200000</td>\n",
       "      <td>1212883200000</td>\n",
       "      <td>3</td>\n",
       "      <td>2</td>\n",
       "      <td>2</td>\n",
       "      <td>24.95</td>\n",
       "    </tr>\n",
       "    <tr>\n",
       "      <th>2</th>\n",
       "      <td>http://www.amazon.com/The-Front-Garano-Patrici...</td>\n",
       "      <td>Patricia Cornwell</td>\n",
       "      <td>A Massachusetts state investigator and his tea...</td>\n",
       "      <td>Putnam</td>\n",
       "      <td>THE FRONT</td>\n",
       "      <td>5b4aa4ead3089013507db18e</td>\n",
       "      <td>1211587200000</td>\n",
       "      <td>1212883200000</td>\n",
       "      <td>4</td>\n",
       "      <td>0</td>\n",
       "      <td>1</td>\n",
       "      <td>22.95</td>\n",
       "    </tr>\n",
       "    <tr>\n",
       "      <th>3</th>\n",
       "      <td>http://www.amazon.com/Snuff-Chuck-Palahniuk/dp...</td>\n",
       "      <td>Chuck Palahniuk</td>\n",
       "      <td>An aging porn queens aims to cap her career by...</td>\n",
       "      <td>Doubleday</td>\n",
       "      <td>SNUFF</td>\n",
       "      <td>5b4aa4ead3089013507db18f</td>\n",
       "      <td>1211587200000</td>\n",
       "      <td>1212883200000</td>\n",
       "      <td>5</td>\n",
       "      <td>0</td>\n",
       "      <td>1</td>\n",
       "      <td>24.95</td>\n",
       "    </tr>\n",
       "    <tr>\n",
       "      <th>4</th>\n",
       "      <td>http://www.amazon.com/Sundays-at-Tiffanys-Jame...</td>\n",
       "      <td>James Patterson and Gabrielle Charbonnet</td>\n",
       "      <td>A woman finds an unexpected love</td>\n",
       "      <td>Little, Brown</td>\n",
       "      <td>SUNDAYS AT TIFFANY’S</td>\n",
       "      <td>5b4aa4ead3089013507db190</td>\n",
       "      <td>1211587200000</td>\n",
       "      <td>1212883200000</td>\n",
       "      <td>6</td>\n",
       "      <td>3</td>\n",
       "      <td>4</td>\n",
       "      <td>24.99</td>\n",
       "    </tr>\n",
       "    <tr>\n",
       "      <th>...</th>\n",
       "      <td>...</td>\n",
       "      <td>...</td>\n",
       "      <td>...</td>\n",
       "      <td>...</td>\n",
       "      <td>...</td>\n",
       "      <td>...</td>\n",
       "      <td>...</td>\n",
       "      <td>...</td>\n",
       "      <td>...</td>\n",
       "      <td>...</td>\n",
       "      <td>...</td>\n",
       "      <td>...</td>\n",
       "    </tr>\n",
       "    <tr>\n",
       "      <th>3028</th>\n",
       "      <td>http://www.amazon.com/Six-Years-Harlan-Coben/d...</td>\n",
       "      <td>Harlan Coben</td>\n",
       "      <td>Jake Fisher discovers that neither the woman h...</td>\n",
       "      <td>Dutton</td>\n",
       "      <td>SIX YEARS</td>\n",
       "      <td>5b4aa4ead3089013507dc593</td>\n",
       "      <td>1366416000000</td>\n",
       "      <td>1367712000000</td>\n",
       "      <td>9</td>\n",
       "      <td>8</td>\n",
       "      <td>5</td>\n",
       "      <td>27.95</td>\n",
       "    </tr>\n",
       "    <tr>\n",
       "      <th>3029</th>\n",
       "      <td>http://www.amazon.com/The-Interestings-Novel-M...</td>\n",
       "      <td>Meg Wolitzer</td>\n",
       "      <td>Six friends meet in the 1970s at a summer arts...</td>\n",
       "      <td>Riverhead</td>\n",
       "      <td>THE INTERESTINGS</td>\n",
       "      <td>5b4aa4ead3089013507dc595</td>\n",
       "      <td>1366416000000</td>\n",
       "      <td>1367712000000</td>\n",
       "      <td>11</td>\n",
       "      <td>11</td>\n",
       "      <td>2</td>\n",
       "      <td>27.95</td>\n",
       "    </tr>\n",
       "    <tr>\n",
       "      <th>3030</th>\n",
       "      <td>http://www.amazon.com/Man-Without-Breath-Berni...</td>\n",
       "      <td>Philip Kerr</td>\n",
       "      <td>Bernie Gunther, the Berlin cop, is sent to Smo...</td>\n",
       "      <td>Marian Wood/Putnam</td>\n",
       "      <td>A MAN WITHOUT BREATH</td>\n",
       "      <td>5b4aa4ead3089013507dc597</td>\n",
       "      <td>1366416000000</td>\n",
       "      <td>1367712000000</td>\n",
       "      <td>13</td>\n",
       "      <td>0</td>\n",
       "      <td>1</td>\n",
       "      <td>26.95</td>\n",
       "    </tr>\n",
       "    <tr>\n",
       "      <th>3031</th>\n",
       "      <td>http://www.amazon.com/The-Storyteller-Jodi-Pic...</td>\n",
       "      <td>Jodi Picoult</td>\n",
       "      <td>A New Hampshire baker finds herself in the mid...</td>\n",
       "      <td>Emily Bestler/Atria</td>\n",
       "      <td>THE STORYTELLER</td>\n",
       "      <td>5b4aa4ead3089013507dc598</td>\n",
       "      <td>1366416000000</td>\n",
       "      <td>1367712000000</td>\n",
       "      <td>14</td>\n",
       "      <td>10</td>\n",
       "      <td>8</td>\n",
       "      <td>28.99</td>\n",
       "    </tr>\n",
       "    <tr>\n",
       "      <th>3032</th>\n",
       "      <td>http://www.amazon.com/Z-A-Novel-Zelda-Fitzgera...</td>\n",
       "      <td>Therese Anne Fowler</td>\n",
       "      <td>A novel based on the lives of Zelda and F. Sco...</td>\n",
       "      <td>St. Martin's</td>\n",
       "      <td>Z</td>\n",
       "      <td>5b4aa4ead3089013507dc59a</td>\n",
       "      <td>1366416000000</td>\n",
       "      <td>1367712000000</td>\n",
       "      <td>16</td>\n",
       "      <td>0</td>\n",
       "      <td>3</td>\n",
       "      <td>25.99</td>\n",
       "    </tr>\n",
       "  </tbody>\n",
       "</table>\n",
       "<p>3033 rows × 12 columns</p>\n",
       "</div>"
      ],
      "text/plain": [
       "                                     amazon_product_url  \\\n",
       "0     http://www.amazon.com/The-Host-Novel-Stephenie...   \n",
       "1     http://www.amazon.com/Love-Youre-With-Emily-Gi...   \n",
       "2     http://www.amazon.com/The-Front-Garano-Patrici...   \n",
       "3     http://www.amazon.com/Snuff-Chuck-Palahniuk/dp...   \n",
       "4     http://www.amazon.com/Sundays-at-Tiffanys-Jame...   \n",
       "...                                                 ...   \n",
       "3028  http://www.amazon.com/Six-Years-Harlan-Coben/d...   \n",
       "3029  http://www.amazon.com/The-Interestings-Novel-M...   \n",
       "3030  http://www.amazon.com/Man-Without-Breath-Berni...   \n",
       "3031  http://www.amazon.com/The-Storyteller-Jodi-Pic...   \n",
       "3032  http://www.amazon.com/Z-A-Novel-Zelda-Fitzgera...   \n",
       "\n",
       "                                        author  \\\n",
       "0                              Stephenie Meyer   \n",
       "1                                 Emily Giffin   \n",
       "2                            Patricia Cornwell   \n",
       "3                              Chuck Palahniuk   \n",
       "4     James Patterson and Gabrielle Charbonnet   \n",
       "...                                        ...   \n",
       "3028                              Harlan Coben   \n",
       "3029                              Meg Wolitzer   \n",
       "3030                               Philip Kerr   \n",
       "3031                              Jodi Picoult   \n",
       "3032                       Therese Anne Fowler   \n",
       "\n",
       "                                            description            publisher  \\\n",
       "0     Aliens have taken control of the minds and bod...        Little, Brown   \n",
       "1     A woman's happy marriage is shaken when she en...         St. Martin's   \n",
       "2     A Massachusetts state investigator and his tea...               Putnam   \n",
       "3     An aging porn queens aims to cap her career by...            Doubleday   \n",
       "4                      A woman finds an unexpected love        Little, Brown   \n",
       "...                                                 ...                  ...   \n",
       "3028  Jake Fisher discovers that neither the woman h...               Dutton   \n",
       "3029  Six friends meet in the 1970s at a summer arts...            Riverhead   \n",
       "3030  Bernie Gunther, the Berlin cop, is sent to Smo...   Marian Wood/Putnam   \n",
       "3031  A New Hampshire baker finds herself in the mid...  Emily Bestler/Atria   \n",
       "3032  A novel based on the lives of Zelda and F. Sco...         St. Martin's   \n",
       "\n",
       "                         title                       oid  \\\n",
       "0                     THE HOST  5b4aa4ead3089013507db18c   \n",
       "1     LOVE THE ONE YOU'RE WITH  5b4aa4ead3089013507db18d   \n",
       "2                    THE FRONT  5b4aa4ead3089013507db18e   \n",
       "3                        SNUFF  5b4aa4ead3089013507db18f   \n",
       "4         SUNDAYS AT TIFFANY’S  5b4aa4ead3089013507db190   \n",
       "...                        ...                       ...   \n",
       "3028                 SIX YEARS  5b4aa4ead3089013507dc593   \n",
       "3029          THE INTERESTINGS  5b4aa4ead3089013507dc595   \n",
       "3030      A MAN WITHOUT BREATH  5b4aa4ead3089013507dc597   \n",
       "3031           THE STORYTELLER  5b4aa4ead3089013507dc598   \n",
       "3032                         Z  5b4aa4ead3089013507dc59a   \n",
       "\n",
       "      bestsellers_date.numberLong  published_date.numberLong  rank.numberInt  \\\n",
       "0                   1211587200000              1212883200000               2   \n",
       "1                   1211587200000              1212883200000               3   \n",
       "2                   1211587200000              1212883200000               4   \n",
       "3                   1211587200000              1212883200000               5   \n",
       "4                   1211587200000              1212883200000               6   \n",
       "...                           ...                        ...             ...   \n",
       "3028                1366416000000              1367712000000               9   \n",
       "3029                1366416000000              1367712000000              11   \n",
       "3030                1366416000000              1367712000000              13   \n",
       "3031                1366416000000              1367712000000              14   \n",
       "3032                1366416000000              1367712000000              16   \n",
       "\n",
       "      rank_last_week.numberInt  weeks_on_list.numberInt  price.numberDouble  \n",
       "0                            1                        3               25.99  \n",
       "1                            2                        2               24.95  \n",
       "2                            0                        1               22.95  \n",
       "3                            0                        1               24.95  \n",
       "4                            3                        4               24.99  \n",
       "...                        ...                      ...                 ...  \n",
       "3028                         8                        5               27.95  \n",
       "3029                        11                        2               27.95  \n",
       "3030                         0                        1               26.95  \n",
       "3031                        10                        8               28.99  \n",
       "3032                         0                        3               25.99  \n",
       "\n",
       "[3033 rows x 12 columns]"
      ]
     },
     "execution_count": 21,
     "metadata": {},
     "output_type": "execute_result"
    }
   ],
   "source": [
    "df"
   ]
  },
  {
   "cell_type": "code",
   "execution_count": 22,
   "metadata": {},
   "outputs": [
    {
     "data": {
      "text/plain": [
       "(3033, 12)"
      ]
     },
     "execution_count": 22,
     "metadata": {},
     "output_type": "execute_result"
    }
   ],
   "source": [
    "df.shape"
   ]
  },
  {
   "cell_type": "code",
   "execution_count": 23,
   "metadata": {},
   "outputs": [
    {
     "data": {
      "text/plain": [
       "Index(['amazon_product_url', 'author', 'description', 'publisher', 'title',\n",
       "       'oid', 'bestsellers_date.numberLong', 'published_date.numberLong',\n",
       "       'rank.numberInt', 'rank_last_week.numberInt', 'weeks_on_list.numberInt',\n",
       "       'price.numberDouble'],\n",
       "      dtype='object')"
      ]
     },
     "execution_count": 23,
     "metadata": {},
     "output_type": "execute_result"
    }
   ],
   "source": [
    "df.columns"
   ]
  },
  {
   "cell_type": "code",
   "execution_count": 24,
   "metadata": {},
   "outputs": [
    {
     "data": {
      "text/plain": [
       "amazon_product_url              object\n",
       "author                          object\n",
       "description                     object\n",
       "publisher                       object\n",
       "title                           object\n",
       "oid                             object\n",
       "bestsellers_date.numberLong      int64\n",
       "published_date.numberLong        int64\n",
       "rank.numberInt                   int64\n",
       "rank_last_week.numberInt         int64\n",
       "weeks_on_list.numberInt          int64\n",
       "price.numberDouble             float64\n",
       "dtype: object"
      ]
     },
     "execution_count": 24,
     "metadata": {},
     "output_type": "execute_result"
    }
   ],
   "source": [
    "df.dtypes"
   ]
  },
  {
   "attachments": {},
   "cell_type": "markdown",
   "metadata": {},
   "source": [
    "Ahora, usando todas las herramientas que hemos aprendido en esta sesión (indexación de filas y columnas, shape, dtypes, head, tail, columns, info, etc) explora tu dataset y responde a las siguientes preguntas:\n",
    "\n",
    "    ¿Qué podemos saber de este dataset con tan sólo leer el nombre del archivo y los nombres de las columnas?\n",
    "    R. Que se trata de una base de datos sobre los libros más vendidos.\n",
    "\n",
    "    ¿Cuál es el tamaño (forma) de nuestro DataFrame? ¿Podríamos considerarlo un dataset grande o pequeño?\n",
    "    R. El dataset tiene 3033 filas por 12 columnas, puede considerarse pequeño.\n",
    "\n",
    "    ¿Crees que los nombres de las columnas son suficientemente descriptivos? ¿Podrían ser más claros o limpios?\n",
    "    R. Creo que todos los nombres son bastante descriptivos, si acaso la columna oid podría resultar ambigua para quien no sabe del tema, pero revisando esta bien.\n",
    "\n",
    "    ¿Qué tipos de datos tenemos?\n",
    "    R. Objetos (posiblemente strings), enteros para las fechas, rankings, semanas en la lista y un flotante para el precio.\n",
    "\n",
    "    ¿Qué significa el formato en el que tenemos las fechas?\n",
    "    R. Que se trata de un timestamp\n",
    "\n",
    "¿Qué tipo de preguntas podríamos responder usando los datos numéricos de este dataset?\n",
    "\n",
    "- Cuáles son los libros más barato y caro de la lista y si eso influye en su volumen de venta\n",
    "- Cuál es el libro que más tiempo ha permanecido en la lista\n",
    "- El ranking de un libro va en aumento o descenso\n",
    "- Desde su fecha de publicación, cuál es el libro que ha alcanzado estar en la lista de los más vendidos en el menor tiempo\n",
    "\n",
    "¿Qué tipo de preguntas podríamos responder usando los datos no-numéricos?\n",
    "    \n",
    "- Que autor tiene más obras dentro de la lista de los más vendidos\n",
    "- Una descripción de la obra\n",
    "- Su casa editorial\n",
    "- La liga para comprarlo"
   ]
  }
 ],
 "metadata": {
  "kernelspec": {
   "display_name": "Python 3",
   "language": "python",
   "name": "python3"
  },
  "language_info": {
   "codemirror_mode": {
    "name": "ipython",
    "version": 3
   },
   "file_extension": ".py",
   "mimetype": "text/x-python",
   "name": "python",
   "nbconvert_exporter": "python",
   "pygments_lexer": "ipython3",
   "version": "3.10.6"
  },
  "orig_nbformat": 4,
  "vscode": {
   "interpreter": {
    "hash": "aee8b7b246df8f9039afb4144a1f6fd8d2ca17a180786b69acc140d282b71a49"
   }
  }
 },
 "nbformat": 4,
 "nbformat_minor": 2
}
