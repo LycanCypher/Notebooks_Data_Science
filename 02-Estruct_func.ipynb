{
 "cells": [
  {
   "attachments": {},
   "cell_type": "markdown",
   "metadata": {},
   "source": [
    "## Estructuras de datos y funciones"
   ]
  },
  {
   "attachments": {},
   "cell_type": "markdown",
   "metadata": {},
   "source": [
    "- Listas []\n",
    "- Tuplas ()\n",
    "- Conjuntos set()\n",
    "- Diccionarios {}"
   ]
  },
  {
   "attachments": {},
   "cell_type": "markdown",
   "metadata": {},
   "source": [
    "### Listas\n",
    "Las listas son estructuras iterables que cumplen las siguientes condiciones:\n",
    "- puede contener elementos heterogéneos u homogeneos\n",
    "- puede contener elementos repetidos\n",
    "- es mutable"
   ]
  },
  {
   "cell_type": "code",
   "execution_count": 21,
   "metadata": {},
   "outputs": [],
   "source": [
    "#Declaración de listas\n",
    "lista_vacia1 = []\n",
    "lista_vacia2 = list()\n",
    "lista_feliz = [1, 2, 3, 4, 5, 6, 7, 8, 9, 10]\n",
    "nueva_lista = [18, 36, 24, 12, 15]\n",
    "lista_de_floats = [6.4, 5.8, 6.4, 4.2, 2.5, 6.6, 8.7, 9.1, 1.2, 2.1]\n",
    "lista_de_strings = ['harry potter', 'avatar', 'titanic', 'el hobbit', 'depredador', 'aliens', 'matrix', 'hackers', 'avengers', 'juegos de guerra']\n",
    "lista_de_booleanos = [False, True, True, False, False, True, False, True, False, False]\n",
    "lista_de_listas_de_ints = [[1, 5, 8], [6, 7, 4], [9, 3, 2], [0, 11, 10]]\n",
    "lista_mixta = [6, True, 7.8, [8, 5, 9], 'hola']"
   ]
  },
  {
   "cell_type": "code",
   "execution_count": 2,
   "metadata": {},
   "outputs": [
    {
     "name": "stdout",
     "output_type": "stream",
     "text": [
      "[]\n",
      "[]\n",
      "7\n",
      "6.4\n",
      "aliens\n",
      "11\n",
      "8\n"
     ]
    }
   ],
   "source": [
    "#Acceso a los elementos de una lista\n",
    "print(lista_vacia1)\n",
    "print(lista_vacia2)\n",
    "print(lista_feliz[6])\n",
    "print(lista_de_floats[0])\n",
    "print(lista_de_strings[5])\n",
    "print(lista_de_listas_de_ints[3][1])\n",
    "print(lista_mixta[3][0])"
   ]
  },
  {
   "cell_type": "code",
   "execution_count": 23,
   "metadata": {},
   "outputs": [
    {
     "name": "stdout",
     "output_type": "stream",
     "text": [
      "10\n",
      "6\n",
      "[1, 2, 3, 4, 5, 6, 7, 8, 9, 10]\n",
      "1\n",
      "[12, 15, 18, 24, 36]\n",
      "[36, 24, 18, 15, 12]\n",
      "[9.1, 8.7, 6.6, 6.4, 6.4, 5.8, 4.2, 2.5, 2.1, 1.2]\n"
     ]
    }
   ],
   "source": [
    "#Número de elementos en una lista\n",
    "print(len(lista_feliz))\n",
    "\n",
    "#Número de elementos que coincidan con el valor de parámetro\n",
    "print(lista_de_booleanos.count(False))\n",
    "\n",
    "#Agregando una lista al final de otra\n",
    "#lista_feliz.extend(nueva_lista)\n",
    "print(lista_feliz)\n",
    "\n",
    "#Devuelve el primer elemento que coincide con el valor de parámetro\n",
    "print(lista_de_booleanos.index(True))\n",
    "\n",
    "#Ordenando la lista de manera ascendente\n",
    "nueva_lista.sort()\n",
    "print(nueva_lista)\n",
    "\n",
    "#Reordenando de manera descendente\n",
    "nueva_lista.reverse()\n",
    "print(nueva_lista)\n",
    "\n",
    "#Ordenando de manera descendente con sort()\n",
    "lista_de_floats.sort(reverse = True)\n",
    "print(lista_de_floats)"
   ]
  },
  {
   "attachments": {},
   "cell_type": "markdown",
   "metadata": {},
   "source": [
    "##### Agregando elementos (append(), insert())"
   ]
  },
  {
   "cell_type": "code",
   "execution_count": 4,
   "metadata": {},
   "outputs": [
    {
     "name": "stdout",
     "output_type": "stream",
     "text": [
      "[6, True, 7.8, [8, 5, 9], 'hola', 'uno más']\n"
     ]
    }
   ],
   "source": [
    "#Agregando elementos al final de una lista\n",
    "lista_mixta.append('uno más')\n",
    "print(lista_mixta)"
   ]
  },
  {
   "cell_type": "code",
   "execution_count": 5,
   "metadata": {},
   "outputs": [
    {
     "name": "stdout",
     "output_type": "stream",
     "text": [
      "[6, True, False, 7.8, [8, 5, 9], 'hola', 'uno más']\n"
     ]
    }
   ],
   "source": [
    "#Agregando elementos a una lista en un índice específico\n",
    "lista_mixta.insert(2, False)\n",
    "print(lista_mixta)"
   ]
  },
  {
   "cell_type": "code",
   "execution_count": 6,
   "metadata": {},
   "outputs": [
    {
     "name": "stdout",
     "output_type": "stream",
     "text": [
      "[[13, 18, 15], [1, 5, 8], [6, 7, 4], [9, 3, 2], [0, 11, 10], [14, 17, 12]]\n"
     ]
    }
   ],
   "source": [
    "lista_de_listas_de_ints.append([14, 17, 12]) #lista agregada al final\n",
    "lista_de_listas_de_ints.insert(0, [13, 18, 15]) #lista agregada al principio\n",
    "print(lista_de_listas_de_ints)"
   ]
  },
  {
   "cell_type": "code",
   "execution_count": 7,
   "metadata": {},
   "outputs": [
    {
     "name": "stdout",
     "output_type": "stream",
     "text": [
      "['harry potter', 'avatar', 'titanic', 'el hobbit', 'depredador', 'aliens', 'matrix', 'hackers', 'avengers', 'juegos de guerra', 'rambo']\n"
     ]
    }
   ],
   "source": [
    "#Equivalencia de insert y append\n",
    "lista_de_strings.insert(len(lista_de_strings), 'rambo')\n",
    "print(lista_de_strings)"
   ]
  },
  {
   "cell_type": "code",
   "execution_count": 8,
   "metadata": {},
   "outputs": [
    {
     "name": "stdout",
     "output_type": "stream",
     "text": [
      "[6, True, False, 7.8, [8, 5, 9], 'hola', 'uno más', 4]\n"
     ]
    }
   ],
   "source": [
    "#Agregando un elemento mediante el \"rebanado\" de listas\n",
    "lista_mixta[len(lista_mixta):] = [4]\n",
    "print(lista_mixta)"
   ]
  },
  {
   "attachments": {},
   "cell_type": "markdown",
   "metadata": {},
   "source": [
    "##### Eliminando elementos (pop(), remove(), clear(), del())"
   ]
  },
  {
   "cell_type": "code",
   "execution_count": 9,
   "metadata": {},
   "outputs": [
    {
     "name": "stdout",
     "output_type": "stream",
     "text": [
      "[6, True, False, 7.8, [8, 5, 9], 'hola', 'uno más']\n"
     ]
    }
   ],
   "source": [
    "#Eliminando el último elemento de la lista (pop())\n",
    "lista_mixta.pop()\n",
    "print(lista_mixta)"
   ]
  },
  {
   "cell_type": "code",
   "execution_count": 10,
   "metadata": {},
   "outputs": [
    {
     "name": "stdout",
     "output_type": "stream",
     "text": [
      "[6, True, 7.8, [8, 5, 9], 'hola', 'uno más']\n"
     ]
    }
   ],
   "source": [
    "#Eliminando un índice específico de una lista (pop(index))\n",
    "lista_mixta.pop(2)\n",
    "print(lista_mixta)"
   ]
  },
  {
   "cell_type": "code",
   "execution_count": 11,
   "metadata": {},
   "outputs": [
    {
     "name": "stdout",
     "output_type": "stream",
     "text": [
      "['harry potter', 'avatar', 'titanic', 'el hobbit', 'aliens', 'matrix', 'hackers', 'avengers', 'juegos de guerra', 'rambo']\n",
      "[6.4, 5.8, 6.4, 2.5, 6.6, 8.7, 9.1, 1.2, 2.1]\n"
     ]
    }
   ],
   "source": [
    "#Eliminando el primer elemento con el valor especificado (remove(value))\n",
    "lista_de_strings.remove('depredador')\n",
    "lista_de_floats.remove(4.2)\n",
    "print(lista_de_strings)\n",
    "print(lista_de_floats)"
   ]
  },
  {
   "cell_type": "code",
   "execution_count": 12,
   "metadata": {},
   "outputs": [
    {
     "name": "stdout",
     "output_type": "stream",
     "text": [
      "[[1, 5, 8], [6, 7, 4], [9, 3, 2], [0, 11, 10], [14, 17, 12]]\n"
     ]
    }
   ],
   "source": [
    "#Eliminando un elemento de la lista según su posición (del)\n",
    "del lista_de_listas_de_ints[0] #Se elimina el primer elemento (lista) de la lista\n",
    "print(lista_de_listas_de_ints)"
   ]
  },
  {
   "cell_type": "code",
   "execution_count": 13,
   "metadata": {},
   "outputs": [
    {
     "name": "stdout",
     "output_type": "stream",
     "text": [
      "[[1, 5, 8], [6, 7, 4], [9, 3, 2], [0, 11, 10], [14, 17]]\n"
     ]
    }
   ],
   "source": [
    "#Eliminando con del\n",
    "del lista_de_listas_de_ints[4][2] #Se elimina el tercer elemento de la 5a lista interna\n",
    "print(lista_de_listas_de_ints)"
   ]
  },
  {
   "cell_type": "code",
   "execution_count": 4,
   "metadata": {},
   "outputs": [
    {
     "name": "stdout",
     "output_type": "stream",
     "text": [
      "[]\n",
      "[]\n"
     ]
    }
   ],
   "source": [
    "#Se eliminan todos los elementos de una lista\n",
    "lista_de_floats.clear()\n",
    "print(lista_de_floats)\n",
    "\n",
    "lista_de_strings = []\n",
    "print(lista_de_strings)"
   ]
  },
  {
   "attachments": {},
   "cell_type": "markdown",
   "metadata": {},
   "source": [
    "### Tuplas - ()"
   ]
  },
  {
   "attachments": {},
   "cell_type": "markdown",
   "metadata": {},
   "source": [
    "Las tuplas son muy parecidas a las listas solo que a diferencia de las listas **NO SON MUTABLES**, es decir que no se le pueden agregar, modificar o eliminar elementos una vez declarada.\n",
    "\n",
    "#### Funciones propias de las tuplas:"
   ]
  },
  {
   "cell_type": "code",
   "execution_count": 62,
   "metadata": {},
   "outputs": [
    {
     "name": "stdout",
     "output_type": "stream",
     "text": [
      "(False, 'palabra', 6.6)\n",
      "('word', 'white', 5, True, [3, 2, 1])\n",
      "2\n",
      "4\n"
     ]
    }
   ],
   "source": [
    "#declaración de tuplas\n",
    "tupla1 = tuple((False, 'palabra', 6.6)) \n",
    "tupla2 = ('word', 'white', 5, True, [3, 2, 1])\n",
    "\n",
    "print(tupla1)\n",
    "print(tupla2)\n",
    "#count() - devuelve el número valores que coinciden con el ingresado como parámetro\n",
    "mi_tupla = (6, False, 4, False, 18, 2.4, 'ok')\n",
    "print(mi_tupla.count(False))\n",
    "\n",
    "#index() - busca en la tupla un valor específico y devuelve el índice del mismo\n",
    "print(mi_tupla.index(18))"
   ]
  },
  {
   "attachments": {},
   "cell_type": "markdown",
   "metadata": {},
   "source": [
    "### Conjuntos - set()"
   ]
  },
  {
   "attachments": {},
   "cell_type": "markdown",
   "metadata": {},
   "source": [
    "Para definir a los conjuntos se usan llaves, pero como también las usan los diccionarios para diferenciarlos de éstos se usa el constructor set(). Entre sus principales características estan:\n",
    "- albergan elementos únicos (sin repeticiones)\n",
    "- se trata de **datos ordenados**"
   ]
  },
  {
   "cell_type": "code",
   "execution_count": 37,
   "metadata": {},
   "outputs": [
    {
     "name": "stdout",
     "output_type": "stream",
     "text": [
      "Type of data:  set\n"
     ]
    }
   ],
   "source": [
    "#Declaración\n",
    "mi_conjunto1 = set({'verde', 'rojo', 'azul'})\n",
    "mi_conjunto2 = set({'platano', 'fresa', 'naranja', 'piña'})\n",
    "mi_conjunto3 = set(('platano', 'fresa'))\n",
    "\n",
    "print( 'Type of data: ',type(mi_conjunto2).__name__)"
   ]
  },
  {
   "attachments": {},
   "cell_type": "markdown",
   "metadata": {},
   "source": [
    "#### Funciones propias de los conjuntos:"
   ]
  },
  {
   "cell_type": "code",
   "execution_count": 38,
   "metadata": {},
   "outputs": [
    {
     "name": "stdout",
     "output_type": "stream",
     "text": [
      "{'verde', 'azul', 'rojo'}\n",
      "{'verde', 'naranja', 'azul', 'rojo'}\n",
      "{'verde', 'naranja', 'azul', 'rojo'}\n",
      "{'verde', 'naranja', 'azul', 'rojo'}\n",
      "{'platano', 'naranja', 'fresa'}\n",
      "{'verde', 'naranja', 'azul', 'rojo'}\n",
      "{'naranja', 'fresa'}\n",
      "platano\n",
      "{'verde', 'rojo', 'azul', 'fresa'}\n",
      "{'rojo', 'azul', 'verde', 'fresa'}\n",
      "{'rojo', False, 6.3, 8, 'item', 'azul', 'verde', 'fresa'}\n"
     ]
    }
   ],
   "source": [
    "print(mi_conjunto1)\n",
    "\n",
    "#a.add(item) - agregar un elemento al conjunto\n",
    "mi_conjunto1.add('naranja')\n",
    "print(mi_conjunto1)\n",
    "\n",
    "#a.diference(b) - regresa un conjunto formado por los elementos distintos entre el conjunto a y b\n",
    "mi_conjunto1.difference(mi_conjunto2)\n",
    "print(mi_conjunto1) #el conjunto persiste sin modificación\n",
    "\n",
    "#a.diference_update(b) - actualiza el conjunto a en base a la diferencia con el conjunto b\n",
    "#mi_conjunto1.difference_update(mi_conjunto2)\n",
    "print(mi_conjunto1) #el conjunto se actualiza\n",
    "\n",
    "#a.discard(item) - borra el item especificado\n",
    "mi_conjunto2.discard('piña')\n",
    "print(mi_conjunto2)\n",
    "\n",
    "#a.intersection(b) - regresa un conjunto formado por los elementos presentes en los conjuntos a y b\n",
    "mi_conjunto1.intersection(mi_conjunto2)\n",
    "\n",
    "#a.intersection_update(b) - actualiza el conjunto a en base a la intersección con el conjunto b\n",
    "#mi_conjunto1.intersection_update(mi_conjunto2)\n",
    "print(mi_conjunto1)\n",
    "\n",
    "#a.isdisjoint(b) - devuelve True si los elementos del conjunto a no están en el conjunto b, y False si hay coincidencias\n",
    "mi_conjunto1.isdisjoint(mi_conjunto2)\n",
    "\n",
    "#a.issubset(b) - devuelve True si el conjunto a es subconjunto del conjunto b\n",
    "mi_conjunto3.issubset(mi_conjunto2)\n",
    "\n",
    "#a.pop() - elimina un elemento aleatorio del conjunto a\n",
    "#b = a.pop() - elimina un elemento aleatorio del conjunto a y lo asigna al conjunto b\n",
    "mi_conjunto4 = mi_conjunto2.pop()\n",
    "print(mi_conjunto2)\n",
    "print(mi_conjunto4)\n",
    "\n",
    "#a.remove(item) - elimina el item del conjunto. A diferencia de discard() si el item no existe, se producirá un error\n",
    "#mi_conjunto1.remove('pera')\n",
    "\n",
    "#a.symmetric_diference(b) - devuelve un conjunto formado por todos los elementos de ambos conjuntos, excepto aquellos presentes en ambos conjuntos. Es el conjunto contrario a la intersección\n",
    "mi_conjunto5 = mi_conjunto1.symmetric_difference(mi_conjunto2)\n",
    "print(mi_conjunto5)\n",
    "\n",
    "#a.symmetric_diference_update() - inserta la diferencia simétrica de dos conjuntos en el primero\n",
    "mi_conjunto1.symmetric_difference_update(mi_conjunto2)\n",
    "print(mi_conjunto1)\n",
    "\n",
    "#a.union(b) - devuelve un conjunto con todos los elementos en ambos conjuntos, evitando la duplicidad.\n",
    "mi_conjunto1.union(mi_conjunto3)\n",
    "\n",
    "#a.update(b) - actualiza un conjunto por otro conjunto o cualquier otra estructura iterable.\n",
    "mi_conjunto5.update([8, 'item', 6.3, False])\n",
    "print(mi_conjunto5)\n"
   ]
  },
  {
   "attachments": {},
   "cell_type": "markdown",
   "metadata": {},
   "source": [
    "### Diccionarios - {}\n",
    "Los diccionarios en Python son estructuras que están organizadas en pares de tipo \"llave - valor\". Cada llave está relacionada a un valor y para acceder al mismo basta con hacer referencia a la llave:"
   ]
  },
  {
   "cell_type": "code",
   "execution_count": 58,
   "metadata": {},
   "outputs": [
    {
     "name": "stdout",
     "output_type": "stream",
     "text": [
      "{}\n",
      "{}\n",
      "2\n"
     ]
    }
   ],
   "source": [
    "mi_dict1 = {}\n",
    "mi_dict2 = dict()\n",
    "diccionario = {\n",
    "    \"llave_1\": 1,\n",
    "    \"llave_2\": 2,\n",
    "    \"llave_3\": 3\n",
    "}\n",
    "print(mi_dict1)\n",
    "print(mi_dict2)\n",
    "print(diccionario[\"llave_2\"])"
   ]
  },
  {
   "cell_type": "code",
   "execution_count": 15,
   "metadata": {},
   "outputs": [
    {
     "name": "stdout",
     "output_type": "stream",
     "text": [
      "cuatro\n"
     ]
    }
   ],
   "source": [
    "diccionario_numerico = {\n",
    "    1: \"uno\",\n",
    "    2: \"dos\",\n",
    "    3: \"tres\",\n",
    "    4: \"cuatro\",\n",
    "    5: \"cinco\"\n",
    "}\n",
    "print(diccionario_numerico[4])"
   ]
  },
  {
   "cell_type": "code",
   "execution_count": 16,
   "metadata": {},
   "outputs": [
    {
     "name": "stdout",
     "output_type": "stream",
     "text": [
      "Doctor\n"
     ]
    }
   ],
   "source": [
    "nombre_a_profesion = {\n",
    "   'Juan': 'Carpintero',\n",
    "   'María': 'Ingeniero',\n",
    "   'Pedro': 'Arquitecto',\n",
    "   'Beatriz': 'Doctor'\n",
    "}\n",
    "print(nombre_a_profesion['Beatriz'])"
   ]
  },
  {
   "attachments": {},
   "cell_type": "markdown",
   "metadata": {},
   "source": [
    "Los elementos de un diccionario también pueden ser listas o u otros diccionarios internos:"
   ]
  },
  {
   "cell_type": "code",
   "execution_count": 42,
   "metadata": {},
   "outputs": [
    {
     "name": "stdout",
     "output_type": "stream",
     "text": [
      "Mutualismo\n",
      "Chromebook\n"
     ]
    }
   ],
   "source": [
    "datos_compras = {\n",
    "    \"nombre\": \"Alberto Suarez\",\n",
    "    \"productos_comprados\": [\"TV\", \"Chromebook\", \"VGA-USB-C\"],\n",
    "    \"direccion_de_facturacion\": {\n",
    "        \"colonia\": \"Escandon\",\n",
    "        \"calle\": \"Mutualismo\",\n",
    "        \"numero\": 44,\n",
    "        \"cp\": 11800\n",
    "    }\n",
    "}\n",
    "#Acceso a elementos del diccionario\n",
    "print(datos_compras[\"direccion_de_facturacion\"][\"calle\"]) #Accediendo al elemento del diccionario interno\n",
    "print(datos_compras[\"productos_comprados\"][1]) #Accediendo al elemento de la lista"
   ]
  },
  {
   "attachments": {},
   "cell_type": "markdown",
   "metadata": {},
   "source": [
    "#### Funciones propias de diccionarios:"
   ]
  },
  {
   "cell_type": "code",
   "execution_count": 57,
   "metadata": {},
   "outputs": [
    {
     "name": "stdout",
     "output_type": "stream",
     "text": [
      "{'k1': (7, 8, 19), 'k2': (7, 8, 19), 'k3': (7, 8, 19)}\n",
      "{'colonia': 'Escandon', 'calle': 'Mutualismo', 'numero': 44, 'cp': 11800, 'Alcaldía': 'Cuajimalpa'}\n",
      "dict_items([('k1', (7, 8, 19)), ('k2', (7, 8, 19)), ('k3', (7, 8, 19))])\n",
      "dict_keys(['nombre', 'productos_comprados', 'direccion_de_facturacion', 'sexo', 'cliente_frecuente'])\n",
      "{'nombre': 'Alberto Suarez', 'productos_comprados': ['TV', 'Chromebook', 'VGA-USB-C'], 'direccion_de_facturacion': {'colonia': 'Escandon', 'calle': 'Mutualismo', 'numero': 44, 'cp': 11800, 'Alcaldía': 'Cuajimalpa'}, 'sexo': 'masculino', 'cliente_frecuente': True}\n",
      "dict_values(['Alberto Suarez', ['TV', 'Chromebook', 'VGA-USB-C'], {'colonia': 'Escandon', 'calle': 'Mutualismo', 'numero': 44, 'cp': 11800, 'Alcaldía': 'Cuajimalpa'}, 'masculino', True])\n"
     ]
    }
   ],
   "source": [
    "#fromkeys() - forma un diccionario a partir de listas o tuplas\n",
    "list_keys = ['k1', 'k2', 'k3']\n",
    "tupla_values = (7, 8, 19)\n",
    "nuevo_dict = dict.fromkeys(list_keys, tupla_values)\n",
    "print(nuevo_dict)\n",
    "\n",
    "#get() - devuelve el valor asociado a la key ingresada como parámetro\n",
    "print(datos_compras.get('direccion_de_facturacion'))\n",
    "\n",
    "#items() - devuelve una lista de tuplas formadas por cada par llave - valor\n",
    "print(nuevo_dict.items())\n",
    "\n",
    "#keys() - devuelve una lista de las llaves que contiene el diccionario\n",
    "print(datos_compras.keys())\n",
    "\n",
    "#setdefault() - devuelve el valor asociado a la key, de no existir, inserta el valor de parámetro\n",
    "datos_compras.setdefault('sexo', 'masculino')\n",
    "print(datos_compras)\n",
    "\n",
    "#values() - devuelve una lista con los valores del diccionario\n",
    "print(datos_compras.values())\n",
    "\n"
   ]
  },
  {
   "attachments": {},
   "cell_type": "markdown",
   "metadata": {},
   "source": [
    "##### Agregar elementos"
   ]
  },
  {
   "cell_type": "code",
   "execution_count": 18,
   "metadata": {},
   "outputs": [
    {
     "name": "stdout",
     "output_type": "stream",
     "text": [
      "{'Juan': 'Carpintero', 'María': 'Ingeniero', 'Pedro': 'Arquitecto', 'Beatriz': 'Doctor', 'Darío': 'Programador'}\n"
     ]
    }
   ],
   "source": [
    "#Nueva llave asignándole un valor\n",
    "nombre_a_profesion['Darío'] = 'Programador'\n",
    "print(nombre_a_profesion)"
   ]
  },
  {
   "cell_type": "code",
   "execution_count": 38,
   "metadata": {},
   "outputs": [
    {
     "name": "stdout",
     "output_type": "stream",
     "text": [
      "['TV', 'VGA-USB-C', 'iPad Nano']\n"
     ]
    }
   ],
   "source": [
    "#Agregando elemento a la lista interna\n",
    "datos_compras['productos_comprados'].append('iPad Nano')\n",
    "print(datos_compras['productos_comprados'])"
   ]
  },
  {
   "cell_type": "code",
   "execution_count": 47,
   "metadata": {},
   "outputs": [
    {
     "name": "stdout",
     "output_type": "stream",
     "text": [
      "{'colonia': 'Escandon', 'calle': 'Mutualismo', 'numero': 44, 'cp': 11800, 'Alcaldía': 'Benito Juárez'}\n"
     ]
    }
   ],
   "source": [
    "#Agregando elemento al diccionario interno\n",
    "datos_compras['direccion_de_facturacion']['Alcaldía'] = 'Benito Juárez'\n",
    "print(datos_compras['direccion_de_facturacion'])"
   ]
  },
  {
   "attachments": {},
   "cell_type": "markdown",
   "metadata": {},
   "source": [
    "##### Actualizar un elemento"
   ]
  },
  {
   "cell_type": "code",
   "execution_count": 21,
   "metadata": {},
   "outputs": [
    {
     "name": "stdout",
     "output_type": "stream",
     "text": [
      "{'Juan': 'Electricista', 'María': 'Ingeniero', 'Pedro': 'Arquitecto', 'Beatriz': 'Doctor', 'Darío': 'Programador'}\n"
     ]
    }
   ],
   "source": [
    "nombre_a_profesion['Juan'] = 'Electricista'\n",
    "print(nombre_a_profesion)"
   ]
  },
  {
   "cell_type": "code",
   "execution_count": 48,
   "metadata": {},
   "outputs": [
    {
     "name": "stdout",
     "output_type": "stream",
     "text": [
      "{'colonia': 'Escandon', 'calle': 'Mutualismo', 'numero': 44, 'cp': 11800, 'Alcaldía': 'Cuajimalpa'}\n"
     ]
    }
   ],
   "source": [
    "datos_compras['direccion_de_facturacion']['Alcaldía'] = 'Cuajimalpa'\n",
    "print(datos_compras['direccion_de_facturacion'])"
   ]
  },
  {
   "cell_type": "code",
   "execution_count": 56,
   "metadata": {},
   "outputs": [
    {
     "name": "stdout",
     "output_type": "stream",
     "text": [
      "{'nombre': 'Alberto Suarez', 'productos_comprados': ['TV', 'Chromebook', 'VGA-USB-C'], 'direccion_de_facturacion': {'colonia': 'Escandon', 'calle': 'Mutualismo', 'numero': 44, 'cp': 11800, 'Alcaldía': 'Cuajimalpa'}, 'sexo': 'masculino', 'cliente_frecuente': False}\n",
      "{'nombre': 'Alberto Suarez', 'productos_comprados': ['TV', 'Chromebook', 'VGA-USB-C'], 'direccion_de_facturacion': {'colonia': 'Escandon', 'calle': 'Mutualismo', 'numero': 44, 'cp': 11800, 'Alcaldía': 'Cuajimalpa'}, 'sexo': 'masculino', 'cliente_frecuente': True}\n"
     ]
    }
   ],
   "source": [
    "datos_compras.update({'cliente_frecuente': False})\n",
    "print(datos_compras)\n",
    "\n",
    "datos_compras.update({'cliente_frecuente': True})\n",
    "print(datos_compras)"
   ]
  },
  {
   "attachments": {},
   "cell_type": "markdown",
   "metadata": {},
   "source": [
    "##### Eliminar datos de un diccionario"
   ]
  },
  {
   "cell_type": "code",
   "execution_count": 23,
   "metadata": {},
   "outputs": [
    {
     "name": "stdout",
     "output_type": "stream",
     "text": [
      "{'Juan': 'Electricista', 'María': 'Ingeniero', 'Beatriz': 'Doctor', 'Darío': 'Programador'}\n"
     ]
    }
   ],
   "source": [
    "nombre_a_profesion.pop('Pedro')\n",
    "print(nombre_a_profesion)"
   ]
  },
  {
   "cell_type": "code",
   "execution_count": 32,
   "metadata": {},
   "outputs": [
    {
     "name": "stdout",
     "output_type": "stream",
     "text": [
      "{'nombre': 'Alberto Suarez', 'productos_comprados': ['TV', 'VGA-USB-C'], 'direccion_de_facturacion': {'colonia': 'Escandon', 'calle': 'Mutualismo', 'numero': 44}}\n",
      "{'nombre': 'Alberto Suarez', 'productos_comprados': ['TV', 'VGA-USB-C']}\n"
     ]
    }
   ],
   "source": [
    "datos_compras['productos_comprados'].pop(1) #borrando chromebook de productos comprados\n",
    "datos_compras['direccion_de_facturacion'].pop('cp') #borrando el cp de dirección de facturación\n",
    "print(datos_compras)\n",
    "\n",
    "#Elimina el último elemento del diccionario\n",
    "datos_compras.popitem()\n",
    "print(datos_compras)"
   ]
  },
  {
   "attachments": {},
   "cell_type": "markdown",
   "metadata": {},
   "source": [
    "#### For Loops\n",
    "\n",
    "Los ciclos for o tambien llamados for loops, son operadores de control de flujo que sirven para realiza iteraciones, lo cual puede ser utilizado para ejecutar un mismo código repetidas veces. Un for loop se ve así:"
   ]
  },
  {
   "cell_type": "code",
   "execution_count": 1,
   "metadata": {},
   "outputs": [
    {
     "name": "stdout",
     "output_type": "stream",
     "text": [
      "1\n",
      "2\n",
      "3\n",
      "4\n",
      "5\n",
      "6\n",
      "7\n",
      "8\n",
      "9\n"
     ]
    }
   ],
   "source": [
    "#Nota que el último número del rango no se incluye\n",
    "for i in range(1, 10):\n",
    "    print(i)"
   ]
  },
  {
   "cell_type": "code",
   "execution_count": 4,
   "metadata": {},
   "outputs": [
    {
     "name": "stdout",
     "output_type": "stream",
     "text": [
      "Adriana\n",
      "Juan\n",
      "Marcela\n",
      "Diego\n",
      "Enrique\n",
      "\n",
      "Adriana\n",
      "Juan\n",
      "Marcela\n",
      "Diego\n",
      "Enrique\n",
      "\n",
      "0\n",
      "1\n",
      "2\n",
      "3\n",
      "4\n"
     ]
    }
   ],
   "source": [
    "nombres = ['Adriana', 'Juan', 'Marcela', 'Diego', 'Enrique']\n",
    "\n",
    "#Estos ciclos son equivalentes\n",
    "for nombre in nombres:\n",
    "    print(nombre)\n",
    "\n",
    "#Si no se especifica el valor de inicio, por defecto inicia desde 0\n",
    "print()\n",
    "for i in range(len(nombres)):\n",
    "    print(nombres[i])\n",
    "\n",
    "# ===============================\n",
    "\n",
    "print()\n",
    "#Este ciclo solo imprime el índice\n",
    "for i in range(len(nombres)):\n",
    "    print(i)"
   ]
  },
  {
   "attachments": {},
   "cell_type": "markdown",
   "metadata": {},
   "source": [
    "También es posible iterar sobre una cadena:"
   ]
  },
  {
   "cell_type": "code",
   "execution_count": 5,
   "metadata": {},
   "outputs": [
    {
     "name": "stdout",
     "output_type": "stream",
     "text": [
      "p\n",
      "a\n",
      "l\n",
      "a\n",
      "b\n",
      "r\n",
      "a\n"
     ]
    }
   ],
   "source": [
    "for x in 'palabra':\n",
    "    print(x)"
   ]
  },
  {
   "attachments": {},
   "cell_type": "markdown",
   "metadata": {},
   "source": [
    "Salir de un ciclo for al cumplir una condición:"
   ]
  },
  {
   "cell_type": "code",
   "execution_count": 6,
   "metadata": {},
   "outputs": [
    {
     "name": "stdout",
     "output_type": "stream",
     "text": [
      "Adriana\n",
      "Juan\n",
      "Marcela\n"
     ]
    }
   ],
   "source": [
    "for nombre in nombres:\n",
    "    if nombre == 'Diego':\n",
    "        break\n",
    "    else:\n",
    "        print(nombre)"
   ]
  },
  {
   "attachments": {},
   "cell_type": "markdown",
   "metadata": {},
   "source": [
    "#### Ciclo while\n",
    "Para el ciclo while, es necesario utilizar una comparación lógica y en base a si es verdadera o falsa se puede continuar con el bucle o detenerlo:"
   ]
  },
  {
   "cell_type": "code",
   "execution_count": 10,
   "metadata": {},
   "outputs": [
    {
     "name": "stdout",
     "output_type": "stream",
     "text": [
      "0\n",
      "1\n",
      "2\n",
      "3\n",
      "4\n",
      "5\n",
      "6\n",
      "7\n",
      "8\n",
      "9\n"
     ]
    }
   ],
   "source": [
    "i = 0\n",
    "while i < 10:\n",
    "    print(i)\n",
    "    i += 1 #No olvidar incrementar la variable de comparación para evitar caer en bucles infinitos\n"
   ]
  },
  {
   "attachments": {},
   "cell_type": "markdown",
   "metadata": {},
   "source": [
    "También en este caso es posible 'romper' el ciclo con una condición:"
   ]
  },
  {
   "cell_type": "code",
   "execution_count": 11,
   "metadata": {},
   "outputs": [
    {
     "name": "stdout",
     "output_type": "stream",
     "text": [
      "0\n",
      "1\n",
      "2\n",
      "3\n",
      "4\n",
      "5\n",
      "6\n",
      "7\n"
     ]
    }
   ],
   "source": [
    "i = 0\n",
    "while i < 10:\n",
    "    if i <= 7:\n",
    "        print(i)\n",
    "    else:\n",
    "        break\n",
    "    i += 1"
   ]
  },
  {
   "attachments": {},
   "cell_type": "markdown",
   "metadata": {},
   "source": [
    "Con while, es posible 'brincar' uno de los estados:"
   ]
  },
  {
   "cell_type": "code",
   "execution_count": 15,
   "metadata": {},
   "outputs": [
    {
     "name": "stdout",
     "output_type": "stream",
     "text": [
      "1\n",
      "2\n",
      "4\n",
      "5\n",
      "6\n",
      "7\n",
      "9\n",
      "10\n"
     ]
    }
   ],
   "source": [
    "#En la siguiente iteración se brinca el estado correspondiente a los números 3 y 8\n",
    "i = 0\n",
    "while i < 10:\n",
    "    i += 1\n",
    "    if i == 3 or i == 8:\n",
    "        continue\n",
    "    print(i)\n",
    "    "
   ]
  },
  {
   "attachments": {},
   "cell_type": "markdown",
   "metadata": {},
   "source": [
    "Finalmente, el ciclo while nos permite establecer una acción una vez que la condición ya no se cumple:"
   ]
  },
  {
   "cell_type": "code",
   "execution_count": 9,
   "metadata": {},
   "outputs": [
    {
     "name": "stdout",
     "output_type": "stream",
     "text": [
      "3\n",
      "4\n",
      "5\n",
      "6\n",
      "Aquí termina el conteo...\n"
     ]
    }
   ],
   "source": [
    "flag = True\n",
    "num = 3\n",
    "while flag:\n",
    "    print(num)\n",
    "    num += 1\n",
    "    if num == 7:\n",
    "        flag = False\n",
    "else:\n",
    "    print('Aquí termina el conteo...')"
   ]
  },
  {
   "attachments": {},
   "cell_type": "markdown",
   "metadata": {},
   "source": [
    "#### Funciones integradas en Python\n",
    "Funciones de entrada/salida\n",
    "- print()\n",
    "- input() - se revisa despues en archivos *.py\n",
    "\n",
    "Funciones de tipos y estructuras (ya vistas)\n",
    "- type()\n",
    "- int()\n",
    "- float()\n",
    "- str()\n",
    "- bool()\n",
    "- list()\n",
    "- tuple()\n",
    "- set()\n",
    "- dict()\n",
    "\n",
    "Funciones numéricas\n",
    "- abs()\n",
    "- pow()\n",
    "- bin()\n",
    "- hex()\n",
    "- round()\n",
    "- sum()\n",
    "- max()\n",
    "- min()\n",
    "\n",
    "Funciones con estructuras iterables\n",
    "- len()\n",
    "- sorted()\n",
    "- range() - en ciclos\n",
    "- enumerate()\n",
    "- zip()\n",
    "\n",
    "Se verán más adelante\n",
    "- map()\n",
    "- filter()"
   ]
  },
  {
   "cell_type": "code",
   "execution_count": 14,
   "metadata": {},
   "outputs": [
    {
     "name": "stdout",
     "output_type": "stream",
     "text": [
      "Este mensaje tiene por defecto un salto al final\n",
      "¿Sigue [0, 1, 1, 2, 3, 5] la sucesión de Fibonacci? R: Es posible, pero tendría que revisarlo.\n",
      "\n",
      "F i b o n a c c i\n",
      "0 1 1 2 3 5\n",
      "\n",
      "Fibonacci: 0, 1, 1, 2, 3, 5, ...\n"
     ]
    }
   ],
   "source": [
    "#print()\n",
    "print('Este mensaje tiene por defecto un salto al final') #saldo de línea por defecto\n",
    "print('¿Sigue', [0, 1, 1, 2, 3, 5], 'la sucesión de Fibonacci?', end = ' R: ') #no hay salto de línea\n",
    "print('Es posible', 'tendría que revisarlo.', sep = ', pero ')\n",
    "print()\n",
    "\n",
    "#Espacios y salto de línea por defecto\n",
    "print('F', 'i', 'b', 'o', 'n', 'a', 'c', 'c', 'i')\n",
    "print(0, 1, 1, 2, 3, 5)\n",
    "print()\n",
    "print('F', 'i', 'b', 'o', 'n', 'a', 'c', 'c', 'i', sep = '', end = ': ')\n",
    "print(0, 1, 1, 2, 3, 5, sep = ', ', end = ', ...')\n",
    "print()"
   ]
  },
  {
   "cell_type": "code",
   "execution_count": 20,
   "metadata": {},
   "outputs": [
    {
     "name": "stdout",
     "output_type": "stream",
     "text": [
      "15\n",
      "27\n",
      "0b10\n",
      "0xff\n"
     ]
    }
   ],
   "source": [
    "#abs() - valor absoluto\n",
    "print(abs(-15))\n",
    "\n",
    "#pow() - potencia\n",
    "print(pow(3, 3))\n",
    "\n",
    "#bin() - convierte un número a binario\n",
    "print(bin(2))\n",
    "\n",
    "#hex() - convierte un número a hexadecimal\n",
    "print(hex(255))"
   ]
  },
  {
   "cell_type": "code",
   "execution_count": 21,
   "metadata": {},
   "outputs": [
    {
     "name": "stdout",
     "output_type": "stream",
     "text": [
      "15\n",
      "14.836\n",
      "14.84\n",
      "14.8\n"
     ]
    }
   ],
   "source": [
    "#round() - redondea un número\n",
    "num1 = 14.8356\n",
    "print(round(num1))\n",
    "print(round(num1, 3))\n",
    "print(round(num1, 2))\n",
    "print(round(num1, 1))"
   ]
  },
  {
   "cell_type": "code",
   "execution_count": 23,
   "metadata": {},
   "outputs": [
    {
     "name": "stdout",
     "output_type": "stream",
     "text": [
      "Suma de una lista: 6\n",
      "Suma de una tupla: 9\n",
      "Suma de un conjunto: 21\n",
      "Suma de las llaves de un diccionario: 6\n"
     ]
    }
   ],
   "source": [
    "#sum() - suma de todos los elementos de una estructura iterable\n",
    "print('Suma de una lista:', sum([1, 2, 3]))\n",
    "print('Suma de una tupla:', sum((2, 3, 4)))\n",
    "print('Suma de un conjunto:', sum(set((6, 7, 8))))\n",
    "print('Suma de las llaves de un diccionario:', sum({1: 'One', 2: 'Two', 3: 'Three'}))\n"
   ]
  },
  {
   "cell_type": "code",
   "execution_count": 24,
   "metadata": {},
   "outputs": [
    {
     "name": "stdout",
     "output_type": "stream",
     "text": [
      "Máximo: 14\n",
      "Mínimo: 9\n"
     ]
    }
   ],
   "source": [
    "#max() y min() - encuentra el valor máximo o minimo en una estructura iterable\n",
    "print('Máximo:', max([12, 14, 5, 4]))\n",
    "print('Mínimo:', min(set((9, 71, 12, 63))))"
   ]
  },
  {
   "attachments": {},
   "cell_type": "markdown",
   "metadata": {},
   "source": [
    "### Funciones"
   ]
  },
  {
   "cell_type": "code",
   "execution_count": 25,
   "metadata": {},
   "outputs": [
    {
     "name": "stdout",
     "output_type": "stream",
     "text": [
      "5\n",
      "3\n"
     ]
    }
   ],
   "source": [
    "#len() - devuelve el número de elementos en una estructura iterable\n",
    "nueva_lista = [5, 4, 7, 3, 9]\n",
    "nuevo_dict = {'clave_1': 'valor_1', 'clave_2': 'valor_2', 'clave_3': 'valor_3'}\n",
    "\n",
    "print(len(nueva_lista))\n",
    "print(len(nuevo_dict))"
   ]
  },
  {
   "cell_type": "code",
   "execution_count": 26,
   "metadata": {},
   "outputs": [
    {
     "name": "stdout",
     "output_type": "stream",
     "text": [
      "Nueva lista: [5, 4, 7, 3, 9]\n",
      "Lista ordenada: [3, 4, 5, 7, 9]\n",
      "Lista ordenada inversa: [9, 7, 5, 4, 3]\n"
     ]
    }
   ],
   "source": [
    "#sorted() - ordena una lista o diccionario\n",
    "print('Nueva lista:', nueva_lista)\n",
    "print('Lista ordenada:', sorted(nueva_lista))\n",
    "print('Lista ordenada inversa:', sorted(nueva_lista, reverse = True))"
   ]
  },
  {
   "cell_type": "code",
   "execution_count": 31,
   "metadata": {},
   "outputs": [
    {
     "name": "stdout",
     "output_type": "stream",
     "text": [
      "[4, 5, 6, 7, 8, 9]\n",
      "[(5, 'Uno'), (6, 'Dos'), (7, 'Tres')]\n",
      "[(1, 'One'), (2, 'Two'), (3, 'Three')]\n"
     ]
    }
   ],
   "source": [
    "#Funciones especiales (range - enumerate - zip)\n",
    "'''Estas funciones devuelven un objeto, por lo que no es posible observarlos, pero pueden\n",
    "ser casteados a una lista'''\n",
    "#Crea una lista a partir de un rango\n",
    "print(list(range(4, 10)))\n",
    "#Enumera los elementos de una colección, es posible definir el número de inicio (si no se especifica, comienza desde)\n",
    "print(list(enumerate(['Uno', 'Dos', 'Tres'], 5)))\n",
    "#Combina dos listas en una lista de tuplas\n",
    "print(list(zip([1, 2, 3], ['One', 'Two', 'Three'])))"
   ]
  },
  {
   "attachments": {},
   "cell_type": "markdown",
   "metadata": {},
   "source": [
    "Imaginemos que tenemos los siguientes datos, y queremos saber el porcentaje de alumnos por nivel con respecto al total."
   ]
  },
  {
   "cell_type": "code",
   "execution_count": 1,
   "metadata": {},
   "outputs": [],
   "source": [
    "# Cantidad de alumnos estudiando en la UNAM en el ciclo escolar 2021-2022\n",
    "#\n",
    "# Fuente: http://www.estadistica.unam.mx/numeralia/\n",
    "#\n",
    "\n",
    "total_de_alumnos = 369607\n",
    "alumnos_en_posgrado = 33076\n",
    "alumnos_en_licenciatura = 229268\n",
    "alumnos_en_bachillerato = 106574\n",
    "alumnos_en_prope_de_musica = 689"
   ]
  },
  {
   "cell_type": "code",
   "execution_count": 3,
   "metadata": {},
   "outputs": [
    {
     "name": "stdout",
     "output_type": "stream",
     "text": [
      "369607\n"
     ]
    }
   ],
   "source": [
    "total = alumnos_en_posgrado + alumnos_en_licenciatura + alumnos_en_bachillerato + alumnos_en_prope_de_musica\n",
    "print(total)"
   ]
  },
  {
   "cell_type": "code",
   "execution_count": 8,
   "metadata": {},
   "outputs": [
    {
     "name": "stdout",
     "output_type": "stream",
     "text": [
      "La proporción de alumnos en posgrado es del 8.95%\n",
      "La proporción de alumnos en licenciatura es del 62.03%\n",
      "La proporción de alumnos en bachillerato es del 28.83%\n",
      "La proporción de alumnos en el propedeútico de música es del 0.19%\n"
     ]
    }
   ],
   "source": [
    "prcnt_alumn_pos = (alumnos_en_posgrado * 100) / total_de_alumnos\n",
    "print(f'La proporción de alumnos en posgrado es del {round(prcnt_alumn_pos, 2)}%')\n",
    "\n",
    "prcnt_alumn_lic = (alumnos_en_licenciatura * 100) / total_de_alumnos\n",
    "print(f'La proporción de alumnos en licenciatura es del {round(prcnt_alumn_lic, 2)}%')\n",
    "\n",
    "prcnt_alumn_bach = (alumnos_en_bachillerato * 100) / total_de_alumnos\n",
    "print(f'La proporción de alumnos en bachillerato es del {round(prcnt_alumn_bach, 2)}%')\n",
    "\n",
    "prcnt_alum_music = (alumnos_en_prope_de_musica * 100) / total_de_alumnos\n",
    "print(f'La proporción de alumnos en el propedeútico de música es del {round(prcnt_alum_music, 2)}%')"
   ]
  },
  {
   "attachments": {},
   "cell_type": "markdown",
   "metadata": {},
   "source": [
    "No se ve tan mal, ¿verdad? Pues en realidad hay un problema más o menos grave: estamos repitiendo mucho código. Esa operación matemática para sacar el porcentaje, la regla de tres, ¡es exactamente igual siempre y la estamos escribiendo cuatro veces!\n",
    "Si quiero sacar el porcentaje de otra estadística, tendría que volver a escribir la regla de tres. ¿Qué solución tengo? Crear una especie de \"contenedor\" donde tenga la lógica de mi operación, para que pueda repetir el proceso varias veces sin tener que volver a escribirlo. Justamente para eso sirven las funciones."
   ]
  },
  {
   "cell_type": "code",
   "execution_count": 6,
   "metadata": {},
   "outputs": [],
   "source": [
    "#Definiendo la función correspondiente\n",
    "def calcula_porcentaje(muestra, total):\n",
    "    return (muestra * 100) / total"
   ]
  },
  {
   "cell_type": "code",
   "execution_count": 7,
   "metadata": {},
   "outputs": [
    {
     "name": "stdout",
     "output_type": "stream",
     "text": [
      "La proporción de alumnos en posgrado es del 8.95%\n",
      "La proporción de alumnos en licenciatura es del %62.03%\n",
      "La proporción de alumnos en bachillerato es del %28.83%\n",
      "La proporción de alumnos en el propedeútico de música es del %0.19%\n"
     ]
    }
   ],
   "source": [
    "print(f'La proporción de alumnos en posgrado es del {round(calcula_porcentaje(alumnos_en_posgrado, total_de_alumnos), 2)}%')\n",
    "print(f'La proporción de alumnos en licenciatura es del %{round(calcula_porcentaje(alumnos_en_licenciatura, total_de_alumnos), 2)}%')\n",
    "print(f'La proporción de alumnos en bachillerato es del %{round(calcula_porcentaje(alumnos_en_bachillerato, total_de_alumnos), 2)}%')\n",
    "print(f'La proporción de alumnos en el propedeútico de música es del %{round(calcula_porcentaje(alumnos_en_prope_de_musica, total_de_alumnos), 2)}%')"
   ]
  }
 ],
 "metadata": {
  "kernelspec": {
   "display_name": "Python 3",
   "language": "python",
   "name": "python3"
  },
  "language_info": {
   "codemirror_mode": {
    "name": "ipython",
    "version": 3
   },
   "file_extension": ".py",
   "mimetype": "text/x-python",
   "name": "python",
   "nbconvert_exporter": "python",
   "pygments_lexer": "ipython3",
   "version": "3.11.2"
  },
  "orig_nbformat": 4,
  "vscode": {
   "interpreter": {
    "hash": "aee8b7b246df8f9039afb4144a1f6fd8d2ca17a180786b69acc140d282b71a49"
   }
  }
 },
 "nbformat": 4,
 "nbformat_minor": 2
}
