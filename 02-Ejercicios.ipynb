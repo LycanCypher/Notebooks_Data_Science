{
 "cells": [
  {
   "attachments": {},
   "cell_type": "markdown",
   "metadata": {},
   "source": [
    "### Ejercicios de la sesión 2"
   ]
  },
  {
   "attachments": {},
   "cell_type": "markdown",
   "metadata": {},
   "source": [
    "#### Funciones\n",
    "\n",
    "##### 1. Objetivos:\n",
    "    - Practicar la declaración de funciones\n",
    "    - Practicar la definición de parámetros y su uso dentro de la función\n",
    "    - Practicar el uso de los valores retornados por una función\n",
    "    - Practicar el uso de funciones para evitar la repetición de código\n",
    " \n",
    "---\n",
    "    \n",
    "##### 2. Desarrollo:"
   ]
  },
  {
   "attachments": {},
   "cell_type": "markdown",
   "metadata": {},
   "source": [
    "##### a) Función `numero_es_par`\n",
    "\n",
    "Debajo tienes una función incompleta:"
   ]
  },
  {
   "cell_type": "code",
   "execution_count": 1,
   "metadata": {},
   "outputs": [],
   "source": [
    "def numero_es_par(numero):\n",
    "    \n",
    "    # Tu código va aquí\n",
    "    # ...\n",
    "    # ...\n",
    "    \n",
    "    return numero % 2 == 0"
   ]
  },
  {
   "attachments": {},
   "cell_type": "markdown",
   "metadata": {},
   "source": [
    "Dicha función debería de tomar un parámetro `numero`, checar si el número es par, regresar `True` si el número es par y regresar `False` si el número no es par.\n",
    "\n",
    "Completa la función para que el código de abajo (que realiza `tests` de la función) regrese todos los `resultados esperados`.\n",
    "\n",
    "> **Pista**: Si no conoces el operador `módulo` (`%`), pídele al experto que explique su funcionamiento.\n",
    "\n",
    "> **PD**: Si no entiendes la función test_funcion no te preocupes, por el momento sólo está ahí para probar tu código y que sepas si tu función funciona correctamente."
   ]
  },
  {
   "cell_type": "code",
   "execution_count": 8,
   "metadata": {},
   "outputs": [],
   "source": [
    "def test_funcion(funcion_a_probar, num_de_errores, contador, parametros=[], resultado_esperado=None):\n",
    "    resultado_test = funcion_a_probar(*parametros)\n",
    "    print(f'Test {contador}: Resultado esperado es `{resultado_esperado}`, obtuvimos `{resultado_test}`')\n",
    "    if resultado_test != resultado_esperado:\n",
    "        num_de_errores += 1\n",
    "        \n",
    "    return num_de_errores"
   ]
  },
  {
   "cell_type": "code",
   "execution_count": 3,
   "metadata": {},
   "outputs": [
    {
     "name": "stdout",
     "output_type": "stream",
     "text": [
      "== Tests numero_es_par==\n",
      "\n",
      "Test 1: Resultado esperado es `True`, obtuvimos `True`\n",
      "Test 2: Resultado esperado es `False`, obtuvimos `False`\n",
      "Test 3: Resultado esperado es `True`, obtuvimos `True`\n",
      "Test 4: Resultado esperado es `False`, obtuvimos `False`\n",
      "Test 5: Resultado esperado es `True`, obtuvimos `True`\n",
      "Test 6: Resultado esperado es `False`, obtuvimos `False`\n",
      "\n",
      "Errores encontrados: 0\n"
     ]
    }
   ],
   "source": [
    "print(\"== Tests numero_es_par==\\n\")\n",
    "\n",
    "contador_de_tests = 0\n",
    "errores = 0\n",
    "\n",
    "contador_de_tests += 1\n",
    "errores = test_funcion(numero_es_par, errores, contador_de_tests, parametros=[2], resultado_esperado=True)\n",
    "contador_de_tests += 1\n",
    "errores = test_funcion(numero_es_par, errores, contador_de_tests, parametros=[3], resultado_esperado=False)\n",
    "contador_de_tests += 1\n",
    "errores = test_funcion(numero_es_par, errores, contador_de_tests, parametros=[0], resultado_esperado=True)\n",
    "contador_de_tests += 1\n",
    "errores = test_funcion(numero_es_par, errores, contador_de_tests, parametros=[127], resultado_esperado=False)\n",
    "contador_de_tests += 1\n",
    "errores = test_funcion(numero_es_par, errores, contador_de_tests, parametros=[-88], resultado_esperado=True)\n",
    "contador_de_tests += 1\n",
    "errores = test_funcion(numero_es_par, errores, contador_de_tests, parametros=[-1349], resultado_esperado=False)\n",
    "\n",
    "print(f'\\nErrores encontrados: {errores}')"
   ]
  },
  {
   "attachments": {},
   "cell_type": "markdown",
   "metadata": {},
   "source": [
    "##### b) Reutilización de código\n",
    "\n",
    "Debajo tenemos algo de código."
   ]
  },
  {
   "cell_type": "code",
   "execution_count": null,
   "metadata": {},
   "outputs": [],
   "source": [
    "resultado_1 = 34 * 100 / 100\n",
    "print(f'34 es el {resultado_1}% del número 100\\n')\n",
    "\n",
    "resultado_2 = 57 * 100 / 127\n",
    "print(f'57 es el {resultado_2}% del número 127\\n')\n",
    "\n",
    "resultado_3 = 12 * 100 / 228\n",
    "print(f'12 es el {resultado_3}% del número 228\\n')\n",
    "\n",
    "resultado_4 = 87 * 100 / 90\n",
    "print(f'87 es el {resultado_4}% del número 90\\n')\n",
    "\n",
    "resultado_5 = 1 * 100 / 999\n",
    "print(f'1 es el {resultado_5}% del número 999\\n')\n",
    "\n",
    "resultado_6 = 66 * 100 / 66\n",
    "print(f'66 es el {resultado_6}% del número 66\\n')"
   ]
  },
  {
   "attachments": {},
   "cell_type": "markdown",
   "metadata": {},
   "source": [
    "Este código funciona correctamente, pero como puedes ver, estamos escribiendo el mismo código una y otra vez. En la celda debajo, escribe una función que realice la operación matemática que estamos realizando arriba, para que podamos reusarla múltiples veces para obtener los resultados que queremos. Llena también los `prints` de manera que podamos leer el resultado en un formato comprensible.\n",
    "\n",
    "> Reto extra: Si quieres un reto extra, escribe también una función que genere las strings que vamos a pasar a los `prints`, para no tener que escribirlas desde 0 cada vez."
   ]
  },
  {
   "cell_type": "code",
   "execution_count": 2,
   "metadata": {},
   "outputs": [
    {
     "name": "stdout",
     "output_type": "stream",
     "text": [
      "/usr/local/opt/python@3.10/bin/python3.10\n"
     ]
    }
   ],
   "source": [
    "#Para saber qué python es el que se ejecuta\n",
    "import sys\n",
    "print(sys.executable)\n",
    "# a la ruta resultante se le agrega | -m pip install <nom_paquete> | para instalar el paquete necesario desde la terminal"
   ]
  },
  {
   "cell_type": "code",
   "execution_count": 7,
   "metadata": {},
   "outputs": [],
   "source": [
    "#Función para darle formato a los floats en estrucuras de pandas (dataframes o series)\n",
    "import pandas as pd\n",
    "pd.options.display.float_format = '{:,.3f}'.format"
   ]
  },
  {
   "cell_type": "code",
   "execution_count": 10,
   "metadata": {},
   "outputs": [
    {
     "name": "stdout",
     "output_type": "stream",
     "text": [
      "34 es el 34.0% del número 100\n",
      "57 es el 44.88% del número 127\n",
      "12 es el 5.26% del número 228\n",
      "87 es el 96.67% del número 90\n",
      "1 es el 0.1% del número 999\n",
      "66 es el 100.0% del número 66\n"
     ]
    }
   ],
   "source": [
    "## Tu función va aquí\n",
    "# ...\n",
    "# ...\n",
    "def get_percent(num, total):\n",
    "    return f'{num} es el {round((num * 100) / total, 2)}% del número {total}' #round(num,num_dec) <-- se usa para redondear el flotante a dos decimales\n",
    "\n",
    "resultado_1 = get_percent(34, 100)\n",
    "print(resultado_1)\n",
    "\n",
    "resultado_2 = get_percent(57, 127)\n",
    "print(resultado_2)\n",
    "\n",
    "resultado_3 = get_percent(12, 228)\n",
    "print(resultado_3)\n",
    "\n",
    "resultado_4 = get_percent(87, 90)\n",
    "print(resultado_4)\n",
    "\n",
    "resultado_5 = get_percent(1, 999)\n",
    "print(resultado_5)\n",
    "\n",
    "resultado_6 = get_percent(66, 66)\n",
    "print(resultado_6)"
   ]
  },
  {
   "attachments": {},
   "cell_type": "markdown",
   "metadata": {},
   "source": [
    "##### c) Función `acceso_autorizado`\n",
    "\n",
    "Debajo tenemos un conjunto de datos que tiene información de varios usuarios de una plataforma web. Este diccionario relaciona `usernames` con un rol y (a veces) con un nip de acceso:"
   ]
  },
  {
   "cell_type": "code",
   "execution_count": 1,
   "metadata": {},
   "outputs": [],
   "source": [
    "usuarios = {\n",
    "    \"manolito_garcia\": {\n",
    "        \"rol\": \"admin\"\n",
    "    },\n",
    "    \"sebas_macaco_23\": {\n",
    "        \"rol\": \"editor\",\n",
    "        \"nip_de_acceso\": 3594\n",
    "    },\n",
    "    \"la_susanita_maestra\": {\n",
    "        \"rol\": \"admin\"\n",
    "    },\n",
    "    \"pepe_le_pu_88\": {\n",
    "        \"rol\": \"lector\"\n",
    "    },\n",
    "    \"jonny_bravo_estuvo_aqui\": {\n",
    "        \"rol\": \"editor\",\n",
    "        \"nip_de_acceso\": 9730\n",
    "    },\n",
    "    \"alfonso_torres_69\": {\n",
    "        \"rol\": \"editor\",\n",
    "        \"nip_de_acceso\": 2849\n",
    "    },\n",
    "    \"jocosita_99\": {\n",
    "        \"rol\": \"lector\"\n",
    "    }\n",
    "}"
   ]
  },
  {
   "attachments": {},
   "cell_type": "markdown",
   "metadata": {},
   "source": [
    "Nuestra plataforma tiene 3 roles:\n",
    "\n",
    "1. Admin: estos pueden editar información sin necesitar un nip de acceso.\n",
    "2. Editor: pueden editar información sólo si escriben correctamenta su nip de acceso.\n",
    "3. Lector: no pueden editar, sólo ver la información, no necesitan nip de acceso.\n",
    "\n",
    "En la celda debajo, crea una función llamada `nivel_de_acceso_para_username` que reciba 3 parámetros:\n",
    "\n",
    "1. `base_de_datos`: que será siempre nuestro diccionario `usuarios`.\n",
    "2. `username`: El `username` del usuario que está solicitando acceso.\n",
    "3. `nip_de_acceso`: El nip de acceso, que puede ser `None` en el caso de que el usuario no tenga uno (o que haya olvidado escribirlo a la hora de pedir acceso.\n",
    "\n",
    "Con estos 3 parámetros, nuestra función tiene que regresar uno de los códigos de acceso siguientes:\n",
    "\n",
    "- `0`: Acceso denegado (esto sucede si el rol es `editor` y el `nip_de_acceso` es incorrecto).\n",
    "- `1`: Modo edición autorizada (esto sucede si el rol es `admin` o si el rol es `editor` y el `nip_de_acesso` es correcto).\n",
    "- `2`: Modo lectura autorizada (esto sucede si el rol es `lector`).\n",
    "\n",
    "Después, corre los tests para asegurarte de que tu función es correcta.\n",
    "\n",
    "> Tip: Recuerda que puedes \"anidar\" `sentencias if` dentro de otras `sentencias if`.\n",
    "\n",
    "> Reto extra: Agrega un chequeo que regrese `0` si el `username` que recibió tu función no existe en la base de datos."
   ]
  },
  {
   "cell_type": "code",
   "execution_count": 24,
   "metadata": {},
   "outputs": [],
   "source": [
    "## Tu función va aquí\n",
    "# ...\n",
    "# ...\n",
    "def nivel_de_acceso_para_username(base_de_datos, username, nip_de_acceso):\n",
    "    nivel_de_acceso = -1\n",
    "    #Se evalúa si el username existe en la base de datos\n",
    "    if username not in base_de_datos:\n",
    "        nivel_de_acceso = 0\n",
    "    #Se evalúa si se ingresó un nip\n",
    "    elif nip_de_acceso != None:\n",
    "        if nip_de_acceso == base_de_datos[username][\"nip_de_acceso\"] and base_de_datos[username][\"rol\"] == \"editor\":\n",
    "            nivel_de_acceso = 1\n",
    "        else:\n",
    "            nivel_de_acceso = 0\n",
    "    else:\n",
    "        if base_de_datos[username][\"rol\"] == \"admin\":\n",
    "            nivel_de_acceso = 1\n",
    "        elif base_de_datos[username][\"rol\"] == \"editor\":\n",
    "            nivel_de_acceso = 0\n",
    "        else:\n",
    "            nivel_de_acceso = 2\n",
    "    return nivel_de_acceso\n",
    "            "
   ]
  },
  {
   "cell_type": "code",
   "execution_count": 25,
   "metadata": {},
   "outputs": [
    {
     "name": "stdout",
     "output_type": "stream",
     "text": [
      "== Tests nivel_de_acceso_para_username==\n",
      "\n",
      "Test 1: Resultado esperado es `1`, obtuvimos `1`\n",
      "Test 2: Resultado esperado es `1`, obtuvimos `1`\n",
      "Test 3: Resultado esperado es `0`, obtuvimos `0`\n",
      "Test 4: Resultado esperado es `2`, obtuvimos `2`\n",
      "Test 5: Resultado esperado es `0`, obtuvimos `0`\n",
      "Test 6: Resultado esperado es `0`, obtuvimos `0`\n",
      "\n",
      "Errores encontrados: 0\n"
     ]
    }
   ],
   "source": [
    "print(\"== Tests nivel_de_acceso_para_username==\\n\")\n",
    "\n",
    "contador_de_tests = 0\n",
    "errores = 0\n",
    "\n",
    "contador_de_tests += 1\n",
    "errores = test_funcion(nivel_de_acceso_para_username, errores, contador_de_tests,\n",
    "                       parametros=[usuarios, \"manolito_garcia\", None], resultado_esperado=1)\n",
    "contador_de_tests += 1\n",
    "errores = test_funcion(nivel_de_acceso_para_username, errores, contador_de_tests,\n",
    "                       parametros=[usuarios, \"sebas_macaco_23\", 3594], resultado_esperado=1)\n",
    "contador_de_tests += 1\n",
    "errores = test_funcion(nivel_de_acceso_para_username, errores, contador_de_tests,\n",
    "                       parametros=[usuarios, \"jonny_bravo_estuvo_aqui\", 9999], resultado_esperado=0)\n",
    "contador_de_tests += 1\n",
    "errores = test_funcion(nivel_de_acceso_para_username, errores, contador_de_tests,\n",
    "                       parametros=[usuarios, \"pepe_le_pu_88\", None], resultado_esperado=2)\n",
    "contador_de_tests += 1\n",
    "errores = test_funcion(nivel_de_acceso_para_username, errores, contador_de_tests, \n",
    "                       parametros=[usuarios, \"alfonso_torres_69\", None], resultado_esperado=0)\n",
    "\n",
    "# Corre el siguiente código sólo si decidiste realizar el reto extra\n",
    "#\n",
    "contador_de_tests += 1\n",
    "errores = test_funcion(nivel_de_acceso_para_username, errores, contador_de_tests,\n",
    "                       parametros=[usuarios, \"los_yeah_yeahs_97\", 1345], resultado_esperado=0)\n",
    "\n",
    "print(f'\\nErrores encontrados: {errores}')"
   ]
  }
 ],
 "metadata": {
  "kernelspec": {
   "display_name": "Python 3",
   "language": "python",
   "name": "python3"
  },
  "language_info": {
   "codemirror_mode": {
    "name": "ipython",
    "version": 3
   },
   "file_extension": ".py",
   "mimetype": "text/x-python",
   "name": "python",
   "nbconvert_exporter": "python",
   "pygments_lexer": "ipython3",
   "version": "3.10.6"
  },
  "orig_nbformat": 4,
  "vscode": {
   "interpreter": {
    "hash": "aee8b7b246df8f9039afb4144a1f6fd8d2ca17a180786b69acc140d282b71a49"
   }
  }
 },
 "nbformat": 4,
 "nbformat_minor": 2
}
