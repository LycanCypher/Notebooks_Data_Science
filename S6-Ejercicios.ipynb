{
 "cells": [
  {
   "attachments": {},
   "cell_type": "markdown",
   "metadata": {},
   "source": [
    "### Ejercicios de la S6\n",
    "\n",
    "#### Reto 1: Peticiones a una API usando requests\n",
    "\n",
    "##### 1. Objetivos:\n",
    "    - Usar la librería Requests para hacer una petición HTTP a una API\n",
    " \n",
    "---\n",
    "    \n",
    "##### 2. Desarrollo:"
   ]
  },
  {
   "attachments": {},
   "cell_type": "markdown",
   "metadata": {},
   "source": [
    "##### a) Petición HTTP a API de NASA\n",
    "\n",
    "Vamos a implementar un programa que realice una llamada HTTP a la API de NASA.\n",
    "\n",
    "Puedes leer la documentación de la API [aquí](https://api.nasa.gov/), bajo el título de \"Asteroids NeoWs\"."
   ]
  },
  {
   "cell_type": "code",
   "execution_count": 1,
   "metadata": {},
   "outputs": [],
   "source": [
    "## Realiza aquí los imports necesarios\n",
    "import requests\n",
    "import pandas as pd"
   ]
  },
  {
   "attachments": {},
   "cell_type": "markdown",
   "metadata": {},
   "source": [
    "Tu reto consiste en los siguientes pasos:\n",
    "\n",
    "1. Crea una cuenta en el API de NASA para obtener tu propia API Key. Copia la API Key en la celda debajo para que no la pierdas:"
   ]
  },
  {
   "cell_type": "code",
   "execution_count": 2,
   "metadata": {},
   "outputs": [],
   "source": [
    "api_key = 'mgxsP3tHJSsJhz67rGcwRKlx6CY6dSJmup29nPMg'"
   ]
  },
  {
   "attachments": {},
   "cell_type": "markdown",
   "metadata": {},
   "source": [
    "2. Asigna la variable `endpoint` -donde tendrás el URL base de la API de NASA- y la variable `payload` -donde tendrás el diccionario que usarás para pasar parámetros a tu petición.\n",
    "\n",
    "3. Usa tu diccionario `payload` para agregar los parámetros necesarios para pedir la hoja número 100 de la API. Durante el ejemplo, pedimos simplemente la primera hoja. En esta ocasión, debes de descubrir que parámetros requieres pasarle para obtener la hoja #100. Además queremos que el número de resultados que nos regresen sea menor al default. El default es 20, pero tú tienes que mandar los parámetros adecuados para que te regresen solamente 5 resultados"
   ]
  },
  {
   "cell_type": "code",
   "execution_count": 21,
   "metadata": {},
   "outputs": [],
   "source": [
    "endpoint = 'https://api.nasa.gov/neo/rest/v1/neo/browse/'\n",
    "payload = {\n",
    "    'api_key': api_key,\n",
    "    'page': 100,\n",
    "    'size': 5\n",
    "  }"
   ]
  },
  {
   "attachments": {},
   "cell_type": "markdown",
   "metadata": {},
   "source": [
    "4. Realiza tu petición HTTP aquí debajo y checa tu código de respuesta para asegurarte de que la petición se haya hecho exitosamente:"
   ]
  },
  {
   "cell_type": "code",
   "execution_count": 33,
   "metadata": {},
   "outputs": [],
   "source": [
    "r = requests.get(endpoint, params = payload)"
   ]
  },
  {
   "cell_type": "code",
   "execution_count": 34,
   "metadata": {},
   "outputs": [
    {
     "data": {
      "text/plain": [
       "200"
      ]
     },
     "execution_count": 34,
     "metadata": {},
     "output_type": "execute_result"
    }
   ],
   "source": [
    "r.status_code"
   ]
  },
  {
   "attachments": {},
   "cell_type": "markdown",
   "metadata": {},
   "source": [
    "5. Si todo ha salido bien, extrae tus datos, normalízalos, crea un `DataFrame` con ellos y asígnalo a `objetos`. Revisa que solamente tengas 5 filas, para saber que tu petición se realizó exitosamente:"
   ]
  },
  {
   "cell_type": "code",
   "execution_count": 55,
   "metadata": {},
   "outputs": [],
   "source": [
    "json = r.json()"
   ]
  },
  {
   "cell_type": "code",
   "execution_count": 56,
   "metadata": {},
   "outputs": [
    {
     "data": {
      "text/html": [
       "<div>\n",
       "<style scoped>\n",
       "    .dataframe tbody tr th:only-of-type {\n",
       "        vertical-align: middle;\n",
       "    }\n",
       "\n",
       "    .dataframe tbody tr th {\n",
       "        vertical-align: top;\n",
       "    }\n",
       "\n",
       "    .dataframe thead th {\n",
       "        text-align: right;\n",
       "    }\n",
       "</style>\n",
       "<table border=\"1\" class=\"dataframe\">\n",
       "  <thead>\n",
       "    <tr style=\"text-align: right;\">\n",
       "      <th></th>\n",
       "      <th>id</th>\n",
       "      <th>neo_reference_id</th>\n",
       "      <th>name</th>\n",
       "      <th>designation</th>\n",
       "      <th>nasa_jpl_url</th>\n",
       "      <th>absolute_magnitude_h</th>\n",
       "      <th>is_potentially_hazardous_asteroid</th>\n",
       "      <th>close_approach_data</th>\n",
       "      <th>is_sentry_object</th>\n",
       "      <th>links.self</th>\n",
       "      <th>...</th>\n",
       "      <th>orbital_data.perihelion_distance</th>\n",
       "      <th>orbital_data.perihelion_argument</th>\n",
       "      <th>orbital_data.aphelion_distance</th>\n",
       "      <th>orbital_data.perihelion_time</th>\n",
       "      <th>orbital_data.mean_anomaly</th>\n",
       "      <th>orbital_data.mean_motion</th>\n",
       "      <th>orbital_data.equinox</th>\n",
       "      <th>orbital_data.orbit_class.orbit_class_type</th>\n",
       "      <th>orbital_data.orbit_class.orbit_class_description</th>\n",
       "      <th>orbital_data.orbit_class.orbit_class_range</th>\n",
       "    </tr>\n",
       "  </thead>\n",
       "  <tbody>\n",
       "    <tr>\n",
       "      <th>0</th>\n",
       "      <td>2140333</td>\n",
       "      <td>2140333</td>\n",
       "      <td>140333 (2001 TD2)</td>\n",
       "      <td>140333</td>\n",
       "      <td>http://ssd.jpl.nasa.gov/sbdb.cgi?sstr=2140333</td>\n",
       "      <td>19.23</td>\n",
       "      <td>False</td>\n",
       "      <td>[{'close_approach_date': '1900-09-08', 'close_...</td>\n",
       "      <td>False</td>\n",
       "      <td>http://api.nasa.gov/neo/rest/v1/neo/2140333?ap...</td>\n",
       "      <td>...</td>\n",
       "      <td>.4985473382717734</td>\n",
       "      <td>199.0714637448655</td>\n",
       "      <td>1.425139985607226</td>\n",
       "      <td>2460010.737490467356</td>\n",
       "      <td>349.3035207519254</td>\n",
       "      <td>1.044834110681954</td>\n",
       "      <td>J2000</td>\n",
       "      <td>ATE</td>\n",
       "      <td>Near-Earth asteroid orbits similar to that of ...</td>\n",
       "      <td>a (semi-major axis) &lt; 1.0 AU; q (perihelion) &gt;...</td>\n",
       "    </tr>\n",
       "    <tr>\n",
       "      <th>1</th>\n",
       "      <td>2140928</td>\n",
       "      <td>2140928</td>\n",
       "      <td>140928 (2001 VG75)</td>\n",
       "      <td>140928</td>\n",
       "      <td>http://ssd.jpl.nasa.gov/sbdb.cgi?sstr=2140928</td>\n",
       "      <td>18.25</td>\n",
       "      <td>False</td>\n",
       "      <td>[{'close_approach_date': '1902-12-19', 'close_...</td>\n",
       "      <td>False</td>\n",
       "      <td>http://api.nasa.gov/neo/rest/v1/neo/2140928?ap...</td>\n",
       "      <td>...</td>\n",
       "      <td>1.067810412135008</td>\n",
       "      <td>257.3833083484656</td>\n",
       "      <td>1.969826564062853</td>\n",
       "      <td>2459900.147799031681</td>\n",
       "      <td>52.84113815790093</td>\n",
       "      <td>.5265568432782335</td>\n",
       "      <td>J2000</td>\n",
       "      <td>AMO</td>\n",
       "      <td>Near-Earth asteroid orbits similar to that of ...</td>\n",
       "      <td>1.017 AU &lt; q (perihelion) &lt; 1.3 AU</td>\n",
       "    </tr>\n",
       "    <tr>\n",
       "      <th>2</th>\n",
       "      <td>2141018</td>\n",
       "      <td>2141018</td>\n",
       "      <td>141018 (2001 WC47)</td>\n",
       "      <td>141018</td>\n",
       "      <td>http://ssd.jpl.nasa.gov/sbdb.cgi?sstr=2141018</td>\n",
       "      <td>19.04</td>\n",
       "      <td>False</td>\n",
       "      <td>[{'close_approach_date': '1915-12-22', 'close_...</td>\n",
       "      <td>False</td>\n",
       "      <td>http://api.nasa.gov/neo/rest/v1/neo/2141018?ap...</td>\n",
       "      <td>...</td>\n",
       "      <td>1.061361864334707</td>\n",
       "      <td>101.4378744749363</td>\n",
       "      <td>1.736022799094927</td>\n",
       "      <td>2460255.170897405498</td>\n",
       "      <td>208.2599923097715</td>\n",
       "      <td>.5958278281346835</td>\n",
       "      <td>J2000</td>\n",
       "      <td>AMO</td>\n",
       "      <td>Near-Earth asteroid orbits similar to that of ...</td>\n",
       "      <td>1.017 AU &lt; q (perihelion) &lt; 1.3 AU</td>\n",
       "    </tr>\n",
       "    <tr>\n",
       "      <th>3</th>\n",
       "      <td>2141052</td>\n",
       "      <td>2141052</td>\n",
       "      <td>141052 (2001 XR1)</td>\n",
       "      <td>141052</td>\n",
       "      <td>http://ssd.jpl.nasa.gov/sbdb.cgi?sstr=2141052</td>\n",
       "      <td>17.49</td>\n",
       "      <td>False</td>\n",
       "      <td>[{'close_approach_date': '1902-01-27', 'close_...</td>\n",
       "      <td>False</td>\n",
       "      <td>http://api.nasa.gov/neo/rest/v1/neo/2141052?ap...</td>\n",
       "      <td>...</td>\n",
       "      <td>.5602703262416526</td>\n",
       "      <td>304.1471228082205</td>\n",
       "      <td>1.930493431941661</td>\n",
       "      <td>2460004.178189608302</td>\n",
       "      <td>357.3915388450371</td>\n",
       "      <td>.7091698451529274</td>\n",
       "      <td>J2000</td>\n",
       "      <td>APO</td>\n",
       "      <td>Near-Earth asteroid orbits which cross the Ear...</td>\n",
       "      <td>a (semi-major axis) &gt; 1.0 AU; q (perihelion) &lt;...</td>\n",
       "    </tr>\n",
       "    <tr>\n",
       "      <th>4</th>\n",
       "      <td>2141053</td>\n",
       "      <td>2141053</td>\n",
       "      <td>141053 (2001 XT1)</td>\n",
       "      <td>141053</td>\n",
       "      <td>http://ssd.jpl.nasa.gov/sbdb.cgi?sstr=2141053</td>\n",
       "      <td>18.86</td>\n",
       "      <td>True</td>\n",
       "      <td>[{'close_approach_date': '1901-07-14', 'close_...</td>\n",
       "      <td>False</td>\n",
       "      <td>http://api.nasa.gov/neo/rest/v1/neo/2141053?ap...</td>\n",
       "      <td>...</td>\n",
       "      <td>.642533398482026</td>\n",
       "      <td>31.37015427089173</td>\n",
       "      <td>2.414226276250298</td>\n",
       "      <td>2459780.000795327796</td>\n",
       "      <td>115.0175603710502</td>\n",
       "      <td>.5216234704430619</td>\n",
       "      <td>J2000</td>\n",
       "      <td>APO</td>\n",
       "      <td>Near-Earth asteroid orbits which cross the Ear...</td>\n",
       "      <td>a (semi-major axis) &gt; 1.0 AU; q (perihelion) &lt;...</td>\n",
       "    </tr>\n",
       "  </tbody>\n",
       "</table>\n",
       "<p>5 rows × 43 columns</p>\n",
       "</div>"
      ],
      "text/plain": [
       "        id neo_reference_id                name designation  \\\n",
       "0  2140333          2140333   140333 (2001 TD2)      140333   \n",
       "1  2140928          2140928  140928 (2001 VG75)      140928   \n",
       "2  2141018          2141018  141018 (2001 WC47)      141018   \n",
       "3  2141052          2141052   141052 (2001 XR1)      141052   \n",
       "4  2141053          2141053   141053 (2001 XT1)      141053   \n",
       "\n",
       "                                    nasa_jpl_url  absolute_magnitude_h  \\\n",
       "0  http://ssd.jpl.nasa.gov/sbdb.cgi?sstr=2140333                 19.23   \n",
       "1  http://ssd.jpl.nasa.gov/sbdb.cgi?sstr=2140928                 18.25   \n",
       "2  http://ssd.jpl.nasa.gov/sbdb.cgi?sstr=2141018                 19.04   \n",
       "3  http://ssd.jpl.nasa.gov/sbdb.cgi?sstr=2141052                 17.49   \n",
       "4  http://ssd.jpl.nasa.gov/sbdb.cgi?sstr=2141053                 18.86   \n",
       "\n",
       "   is_potentially_hazardous_asteroid  \\\n",
       "0                              False   \n",
       "1                              False   \n",
       "2                              False   \n",
       "3                              False   \n",
       "4                               True   \n",
       "\n",
       "                                 close_approach_data  is_sentry_object  \\\n",
       "0  [{'close_approach_date': '1900-09-08', 'close_...             False   \n",
       "1  [{'close_approach_date': '1902-12-19', 'close_...             False   \n",
       "2  [{'close_approach_date': '1915-12-22', 'close_...             False   \n",
       "3  [{'close_approach_date': '1902-01-27', 'close_...             False   \n",
       "4  [{'close_approach_date': '1901-07-14', 'close_...             False   \n",
       "\n",
       "                                          links.self  ...  \\\n",
       "0  http://api.nasa.gov/neo/rest/v1/neo/2140333?ap...  ...   \n",
       "1  http://api.nasa.gov/neo/rest/v1/neo/2140928?ap...  ...   \n",
       "2  http://api.nasa.gov/neo/rest/v1/neo/2141018?ap...  ...   \n",
       "3  http://api.nasa.gov/neo/rest/v1/neo/2141052?ap...  ...   \n",
       "4  http://api.nasa.gov/neo/rest/v1/neo/2141053?ap...  ...   \n",
       "\n",
       "   orbital_data.perihelion_distance  orbital_data.perihelion_argument  \\\n",
       "0                 .4985473382717734                 199.0714637448655   \n",
       "1                 1.067810412135008                 257.3833083484656   \n",
       "2                 1.061361864334707                 101.4378744749363   \n",
       "3                 .5602703262416526                 304.1471228082205   \n",
       "4                  .642533398482026                 31.37015427089173   \n",
       "\n",
       "   orbital_data.aphelion_distance  orbital_data.perihelion_time  \\\n",
       "0               1.425139985607226          2460010.737490467356   \n",
       "1               1.969826564062853          2459900.147799031681   \n",
       "2               1.736022799094927          2460255.170897405498   \n",
       "3               1.930493431941661          2460004.178189608302   \n",
       "4               2.414226276250298          2459780.000795327796   \n",
       "\n",
       "   orbital_data.mean_anomaly  orbital_data.mean_motion  orbital_data.equinox  \\\n",
       "0          349.3035207519254         1.044834110681954                 J2000   \n",
       "1          52.84113815790093         .5265568432782335                 J2000   \n",
       "2          208.2599923097715         .5958278281346835                 J2000   \n",
       "3          357.3915388450371         .7091698451529274                 J2000   \n",
       "4          115.0175603710502         .5216234704430619                 J2000   \n",
       "\n",
       "   orbital_data.orbit_class.orbit_class_type  \\\n",
       "0                                        ATE   \n",
       "1                                        AMO   \n",
       "2                                        AMO   \n",
       "3                                        APO   \n",
       "4                                        APO   \n",
       "\n",
       "    orbital_data.orbit_class.orbit_class_description  \\\n",
       "0  Near-Earth asteroid orbits similar to that of ...   \n",
       "1  Near-Earth asteroid orbits similar to that of ...   \n",
       "2  Near-Earth asteroid orbits similar to that of ...   \n",
       "3  Near-Earth asteroid orbits which cross the Ear...   \n",
       "4  Near-Earth asteroid orbits which cross the Ear...   \n",
       "\n",
       "          orbital_data.orbit_class.orbit_class_range  \n",
       "0  a (semi-major axis) < 1.0 AU; q (perihelion) >...  \n",
       "1                 1.017 AU < q (perihelion) < 1.3 AU  \n",
       "2                 1.017 AU < q (perihelion) < 1.3 AU  \n",
       "3  a (semi-major axis) > 1.0 AU; q (perihelion) <...  \n",
       "4  a (semi-major axis) > 1.0 AU; q (perihelion) <...  \n",
       "\n",
       "[5 rows x 43 columns]"
      ]
     },
     "execution_count": 56,
     "metadata": {},
     "output_type": "execute_result"
    }
   ],
   "source": [
    "normalized = pd.json_normalize(json['near_earth_objects'])\n",
    "objetos = pd.DataFrame.from_dict(normalized)\n",
    "objetos"
   ]
  },
  {
   "attachments": {},
   "cell_type": "markdown",
   "metadata": {},
   "source": [
    "6. Corre la función de verificación `visualizar_diametros` para verificar tu resultado:"
   ]
  },
  {
   "cell_type": "code",
   "execution_count": 63,
   "metadata": {},
   "outputs": [
    {
     "data": {
      "image/png": "[encoded data removed]",
      "text/plain": [
       "<Figure size 640x480 with 1 Axes>"
      ]
     },
     "metadata": {},
     "output_type": "display_data"
    }
   ],
   "source": [
    "# Pega aquí la función de verificación\n",
    "def visualizar_diametros(objetos):\n",
    "    \n",
    "    import seaborn as sns\n",
    "    \n",
    "    sizes = objetos[['name', 'estimated_diameter.kilometers.estimated_diameter_max']].copy()\n",
    "    sizes.sort_values('estimated_diameter.kilometers.estimated_diameter_max', ascending=True, inplace=True)\n",
    "    #En el barplot, se debe especiricar a qué corresponde la información que se pone como parámetro\n",
    "    sns.barplot(data = sizes, x = sizes['name'], y = sizes['estimated_diameter.kilometers.estimated_diameter_max'])\n",
    "\n",
    "visualizar_diametros(objetos)"
   ]
  }
 ],
 "metadata": {
  "kernelspec": {
   "display_name": "Python 3",
   "language": "python",
   "name": "python3"
  },
  "language_info": {
   "codemirror_mode": {
    "name": "ipython",
    "version": 3
   },
   "file_extension": ".py",
   "mimetype": "text/x-python",
   "name": "python",
   "nbconvert_exporter": "python",
   "pygments_lexer": "ipython3",
   "version": "3.10.6"
  },
  "orig_nbformat": 4,
  "vscode": {
   "interpreter": {
    "hash": "aee8b7b246df8f9039afb4144a1f6fd8d2ca17a180786b69acc140d282b71a49"
   }
  }
 },
 "nbformat": 4,
 "nbformat_minor": 2
}
